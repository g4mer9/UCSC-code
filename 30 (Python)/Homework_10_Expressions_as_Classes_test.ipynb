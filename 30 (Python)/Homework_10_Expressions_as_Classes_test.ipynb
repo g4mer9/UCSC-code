{
  "cells": [
    {
      "cell_type": "markdown",
      "metadata": {
        "id": "lsS2jcINiT_j"
      },
      "source": [
        "Before you turn this problem in, make sure everything runs as expected. First, **restart the kernel** (in the menubar, select Kernel$\\rightarrow$Restart) and then **run all cells** (in the menubar, select Cell$\\rightarrow$Run All).\n",
        "\n",
        "Make sure you fill in any place that says `YOUR CODE HERE` or \"YOUR ANSWER HERE\", as well as your name and collaborators below:"
      ]
    },
    {
      "cell_type": "code",
      "execution_count": 1,
      "metadata": {
        "id": "C2qBOrBViT_m"
      },
      "outputs": [],
      "source": [
        "NAME = \"\"\n",
        "COLLABORATORS = \"\""
      ]
    },
    {
      "cell_type": "markdown",
      "metadata": {
        "id": "KbyXpN15iT_n"
      },
      "source": [
        "---"
      ]
    },
    {
      "cell_type": "markdown",
      "metadata": {
        "deletable": false,
        "editable": false,
        "nbgrader": {
          "cell_type": "markdown",
          "checksum": "856ccb14b02d8a7190178d7a0ba68382",
          "grade": false,
          "grade_id": "cell-74233f40f3934561",
          "locked": true,
          "schema_version": 3,
          "solution": false
        },
        "id": "h8V_FPO6iT_n"
      },
      "source": [
        "# Homework 10: Expressions as Classes\n",
        "\n",
        "Copyright Luca de Alfaro, 2019-21. \n",
        "License: [CC-BY-NC-ND](https://creativecommons.org/licenses/by-nc-nd/4.0/)."
      ]
    },
    {
      "cell_type": "markdown",
      "metadata": {
        "deletable": false,
        "editable": false,
        "nbgrader": {
          "cell_type": "markdown",
          "checksum": "ebac3a2a2cec8476082eaaa0bdf76ab7",
          "grade": false,
          "grade_id": "cell-32704b0666e6a32e",
          "locked": true,
          "schema_version": 3,
          "solution": false
        },
        "id": "9S90I5cIiT_o"
      },
      "source": [
        "## About This Homework\n",
        "\n",
        "The homework consists of 9 questions, for a total of 69 points.\n",
        "\n",
        "The instructions for working on homework assignments are available on Canvas; as a summary: \n",
        "\n",
        "* Write your code only where indicated via `#YOUR CODE HERE`.  If you write code in other places, it will be discarded during grading. \n",
        "* Do not add/remove cells. \n",
        "* The tests are implemented with `assert` statements: if they fail, you will see an error (a Python exception).  If you see no error, you can assume that they pass.  \n",
        "\n",
        "Once you are done working on it, you can download the .ipynb and [submit it to this form](https://docs.google.com/forms/d/e/1FAIpQLSfuAjv9zfBmo-9hRpcoyWPDzxl3uy7gzv8CePJtcFbg0XP5NQ/viewform?usp=sf_link).  This homework is due at **11:59pm on Friday 11 February 2022**."
      ]
    },
    {
      "cell_type": "markdown",
      "metadata": {
        "deletable": false,
        "editable": false,
        "nbgrader": {
          "cell_type": "markdown",
          "checksum": "9403d1769a9c75a48f6a391c3bf9a21b",
          "grade": false,
          "grade_id": "cell-68664ce22ccf904d",
          "locked": true,
          "schema_version": 3,
          "solution": false
        },
        "id": "17d_aNybiT_o"
      },
      "source": [
        "We will now describe a more sophisticated representation for an expression, based on a hierarchy of classes.  The class **Expr** is the generic class denoting an expression.  It is an _abstract_ class: only its subclasses will be instantiated.  For every operator, such as `+`, there will be a subclass, such as `Plus`.  Variables will correspond to a special subclass, called `V`.  Numerical constants will be just represented by numbers, and not by subclasses of `Expr`. \n",
        "\n",
        "## The `Expr` class\n",
        "\n",
        "The `Expr` class implements the various [methods used to emulate numerical types](https://docs.python.org/3/reference/datamodel.html?#emulating-numeric-types), such as `__add__`, `__sub__`, and so forth.  In this way, we can build an expression simply by writing\n",
        "\n",
        "    x = V()\n",
        "    x * 3 / 2\n",
        "\n",
        "In the above, `V()` creates a variable (an object of class `V`), and assigns it to `x`.  Then, \n",
        "\n",
        "    x * 3\n",
        "\n",
        "will also be an expression, composed of a multiplication node, with children the variable in `x`, and `3`. \n",
        "The multiplication node is implemented via a subclass `Multiply` of `Expr`. \n",
        "To make this work, we will define the [`__mul__`](https://docs.python.org/3/reference/datamodel.html#object.__mul__) method of `Expr` so that it produces a `Multiply` object, with as children the two operands being multiplied. \n",
        "\n",
        "Similarly, \n",
        "\n",
        "    x * 3 / 2\n",
        "\n",
        "will create an object of class `Divide`, with as left child the `Multiply` node for `x * 3`, and as right child, the number 2.  Thus, the [`__truediv__`](https://docs.python.org/3/reference/datamodel.html#object.__truediv__) method of `Expr` will create a `Divide` node. \n",
        "\n",
        "Expressions can be evaluated.  You can assign a value to variables either when you create them: \n",
        "\n",
        "    x = V(value=2)\n",
        "    e = x * 3 / 2\n",
        "    e.eval()\n",
        "\n",
        "which yields `3`.  Or you can assign a value to a variable later: \n",
        "\n",
        "    x = V()\n",
        "    e = x * 3 / 2\n",
        "\n",
        "    x.assign(3)\n",
        "    e.eval()\n",
        "\n",
        "which again yields `3`. \n",
        "\n",
        "    \n"
      ]
    },
    {
      "cell_type": "markdown",
      "metadata": {
        "deletable": false,
        "editable": false,
        "nbgrader": {
          "cell_type": "markdown",
          "checksum": "91943114705e0a530780d6403a0d7241",
          "grade": false,
          "grade_id": "cell-d672ae02792e1825",
          "locked": true,
          "schema_version": 3,
          "solution": false
        },
        "id": "SAlyhwG7iT_p"
      },
      "source": [
        "## Benefits of class-based representation \n",
        "\n",
        "Compared with the representation of expressions seen in the previous chapter, this class-based representation offers several advantages.  \n",
        "\n",
        "First, we can build expressions in a natural way as shown above, via the over-riding of the usual arithmetic operators.  \n",
        "\n",
        "Second, if we introduce a new operator, all we need is provide the implementation of the new operator: we do not need to modify the shared code that traverses the tree, and add one more case to a long case-analysis.  In other words, the code is far more modular.  This may seem a small point, but if one were to extend the representation of expressions to involve tensors (matrices) and operations on tensors, as is done in the symbolic representation of expressions used in machine-learning, the number of operators could easily grow to a hundred or more, making a modular approach the only reasonable one. \n",
        "\n",
        "Third, it becomes possible to attach methods to the expression objects, and as we will see in the next chapter, this can be very useful to implement machine learning frameworks.  But later about that. "
      ]
    },
    {
      "cell_type": "markdown",
      "metadata": {
        "deletable": false,
        "editable": false,
        "nbgrader": {
          "cell_type": "markdown",
          "checksum": "5a1fade2a2efb29e67a6ae9fc31cc3f7",
          "grade": false,
          "grade_id": "cell-feca4af8155cd82e",
          "locked": true,
          "schema_version": 3,
          "solution": false
        },
        "id": "xi1DNczfiT_q"
      },
      "source": [
        "## Defining an expression class\n",
        "\n",
        "We define an abstract class `Expr`, representing a generic expression.  This generic class has as subclasses the classes that represent the various operators, such as `Plus`, `Minus`, `Multiply`, as well as the variable class `V`.  Here is our basic implementation.  "
      ]
    },
    {
      "cell_type": "code",
      "execution_count": 2,
      "metadata": {
        "deletable": false,
        "editable": false,
        "nbgrader": {
          "cell_type": "code",
          "checksum": "23d034905980b8ef2121af4e47562f66",
          "grade": false,
          "grade_id": "cell-41407f270152152f",
          "locked": true,
          "schema_version": 3,
          "solution": false
        },
        "id": "KrbCrwZCiT_r"
      },
      "outputs": [],
      "source": [
        "class Expr(object):\n",
        "    \"\"\"Abstract class representing expressions\"\"\"\n",
        "\n",
        "    name = \"expr\" # Not used, but just to define it.\n",
        "\n",
        "    def __init__(self, *args):\n",
        "        \"\"\"An object is created by passing to the constructor the children\"\"\"\n",
        "        self.children = args\n",
        "        self.value = None # The value of the expression\n",
        "        self.child_values = None # The values of the children; useful to have\n",
        "\n",
        "    def eval(self):\n",
        "        \"\"\"Evaluates the expression.\"\"\"\n",
        "        # First, we evaluate the children.\n",
        "        self.child_values = [c.eval() if isinstance(c, Expr) else c\n",
        "                             for c in self.children]\n",
        "        # Then, we evaluate the expression itself.\n",
        "        self.value = self.op(*self.child_values)\n",
        "        return self.value\n",
        "\n",
        "    def op(self):\n",
        "        \"\"\"This operator must be implemented in subclasses; it should\n",
        "        compute self.value from self.values, thus implementing the\n",
        "        operator at the expression node.\"\"\"\n",
        "        raise NotImplementedError()\n",
        "\n",
        "    def __repr__(self):\n",
        "        \"\"\"Represents the expression in a somewhat readable way.\"\"\"\n",
        "        if len(self.children) == 1:\n",
        "            # Unary operators\n",
        "            return \"({}{})\".format(self.__class__.name, self.children[0])\n",
        "        elif len(self.children) == 2:\n",
        "            return \"({} {} {})\".format(\n",
        "                self.children[0], self.__class__.name, self.children[1]\n",
        "            )\n",
        "        # Catch-all.\n",
        "        return \"{}({})\".format(self.__class__.__name__,\n",
        "                                ', '.join(repr(c) for c in self.children))\n",
        "\n",
        "    # Expression constructors\n",
        "\n",
        "    def __add__(self, other):\n",
        "        return Plus(self, other)\n",
        "\n",
        "    def __radd__(self, other):\n",
        "        return Plus(self, other)\n",
        "\n",
        "    def __sub__(self, other):\n",
        "        return Minus(self, other)\n",
        "\n",
        "    def __rsub__(self, other):\n",
        "        return Minus(other, self)\n",
        "\n",
        "    def __mul__(self, other):\n",
        "        return Multiply(self, other)\n",
        "\n",
        "    def __rmul__(self, other):\n",
        "        return Multiply(other, self)\n",
        "\n",
        "    def __truediv__(self, other):\n",
        "        return Divide(self, other)\n",
        "\n",
        "    def __rtruediv__(self, other):\n",
        "        return Divide(other, self)\n",
        "\n",
        "    def __neg__(self):\n",
        "        return Negative(self)\n"
      ]
    },
    {
      "cell_type": "markdown",
      "metadata": {
        "deletable": false,
        "editable": false,
        "nbgrader": {
          "cell_type": "markdown",
          "checksum": "df6e49dce2d3e1bc954ca536750b75e5",
          "grade": false,
          "grade_id": "cell-c0f863c9e527ec1a",
          "locked": true,
          "schema_version": 3,
          "solution": false
        },
        "id": "0roeUXMoiT_r"
      },
      "source": [
        "Variables are created specifying a name, and an initial value.  If nothing is specified, variables have random initial values.  You can assign a value to a variable using the `assign` method.  The `eval` method of a variable simply returns its value. "
      ]
    },
    {
      "cell_type": "code",
      "execution_count": 3,
      "metadata": {
        "deletable": false,
        "editable": false,
        "nbgrader": {
          "cell_type": "code",
          "checksum": "891e963b46bd312451b7e2aa06e9ec4b",
          "grade": false,
          "grade_id": "cell-71d60ff1d4422e69",
          "locked": true,
          "schema_version": 3,
          "solution": false
        },
        "id": "pnOUdW1DiT_r"
      },
      "outputs": [],
      "source": [
        "import random\n",
        "import string\n",
        "\n",
        "class V(Expr):\n",
        "    \"\"\"Variable.\"\"\"\n",
        "\n",
        "    def __init__(self, value=None):\n",
        "        super().__init__()\n",
        "        self.children = []\n",
        "        self.value = random.gauss(0, 1) if value is None else value\n",
        "        self.name = ''.join(\n",
        "            random.choices(string.ascii_letters + string.digits, k=3))\n",
        "\n",
        "    def eval(self):\n",
        "        return self.value\n",
        "\n",
        "    def assign(self, value):\n",
        "        self.value = value\n",
        "\n",
        "    def __repr__(self):\n",
        "        return \"V({}, value={})\".format(self.name, self.value)\n"
      ]
    },
    {
      "cell_type": "markdown",
      "metadata": {
        "deletable": false,
        "editable": false,
        "nbgrader": {
          "cell_type": "markdown",
          "checksum": "99853d014579dca9fc0abd35ecd1465f",
          "grade": false,
          "grade_id": "cell-bda1fdce4b56fe52",
          "locked": true,
          "schema_version": 3,
          "solution": false
        },
        "id": "fjqcLVl0iT_s"
      },
      "source": [
        "Here are the constructors for the other operators; for them, we just need to provide an implementation for `op`, since all the rest is inherited from `Expr`.  We actually also define a name, as a class attribute, that we use in the representation method."
      ]
    },
    {
      "cell_type": "code",
      "execution_count": 4,
      "metadata": {
        "deletable": false,
        "editable": false,
        "nbgrader": {
          "cell_type": "code",
          "checksum": "2ad038fcc2ac2266f80a65aebbf7964d",
          "grade": false,
          "grade_id": "cell-d1e4af3c5ef46389",
          "locked": true,
          "schema_version": 3,
          "solution": false
        },
        "id": "TgNhsuJpiT_s"
      },
      "outputs": [],
      "source": [
        "class Plus(Expr):\n",
        "    name = \"+\"\n",
        "    def op(self, x, y):\n",
        "        return x + y\n",
        "\n",
        "class Minus(Expr):\n",
        "    name = \"-\"\n",
        "    def op(self, x, y):\n",
        "        return x - y\n",
        "\n",
        "class Multiply(Expr):\n",
        "    name = \"*\"\n",
        "    def op(self, x, y):\n",
        "        return x * y\n",
        "\n",
        "class Divide(Expr):\n",
        "    name = \"/\"\n",
        "    def op(self, x, y):\n",
        "        return x / y\n",
        "\n",
        "class Negative(Expr):\n",
        "    name = \"-\"\n",
        "    def op(self, x):\n",
        "        return -x\n"
      ]
    },
    {
      "cell_type": "markdown",
      "metadata": {
        "deletable": false,
        "editable": false,
        "nbgrader": {
          "cell_type": "markdown",
          "checksum": "a92291a79ca0912c35731b849c23e27e",
          "grade": false,
          "grade_id": "cell-a65c044f8a5f5fe0",
          "locked": true,
          "schema_version": 3,
          "solution": false
        },
        "id": "MHULFfWpiT_s"
      },
      "source": [
        "We can build and evaluate expressions quite simply."
      ]
    },
    {
      "cell_type": "code",
      "execution_count": 5,
      "metadata": {
        "deletable": false,
        "editable": false,
        "nbgrader": {
          "cell_type": "code",
          "checksum": "a8399fe5336bf0b10cde65fedf3719db",
          "grade": false,
          "grade_id": "cell-566ca3b8263f2827",
          "locked": true,
          "schema_version": 3,
          "solution": false
        },
        "colab": {
          "base_uri": "https://localhost:8080/"
        },
        "id": "0lmVDuXBiT_t",
        "outputId": "65cc03ea-f4d1-4675-e857-78cb1eace292"
      },
      "outputs": [
        {
          "output_type": "stream",
          "name": "stdout",
          "text": [
            "(V(GRW, value=2) + 3)\n",
            "5\n"
          ]
        }
      ],
      "source": [
        "e = V(2) + 3\n",
        "print(e)\n",
        "print(e.eval())\n"
      ]
    },
    {
      "cell_type": "code",
      "execution_count": 6,
      "metadata": {
        "deletable": false,
        "editable": false,
        "nbgrader": {
          "cell_type": "code",
          "checksum": "fa4576355b6bfcdc99513e144c546f9b",
          "grade": false,
          "grade_id": "cell-b3d5adfe6660b0da",
          "locked": true,
          "schema_version": 3,
          "solution": false
        },
        "colab": {
          "base_uri": "https://localhost:8080/"
        },
        "id": "o3LZni-8iT_t",
        "outputId": "73bbd2ad-bac9-40a0-f75e-83a9ce526fec"
      },
      "outputs": [
        {
          "output_type": "stream",
          "name": "stdout",
          "text": [
            "((V(fVa, value=-0.6647727323019541) + V(Q1m, value=2)) * (V(UEj, value=1) + 2))\n",
            "4.005681803094138\n"
          ]
        }
      ],
      "source": [
        "e = (V() + V(2)) * (2 + V(1))\n",
        "print(e)\n",
        "print(e.eval())\n"
      ]
    },
    {
      "cell_type": "markdown",
      "metadata": {
        "deletable": false,
        "editable": false,
        "nbgrader": {
          "cell_type": "markdown",
          "checksum": "796894382698cbdc69af86d403ddb674",
          "grade": false,
          "grade_id": "cell-d84b3aea3ba2e46b",
          "locked": true,
          "schema_version": 3,
          "solution": false
        },
        "id": "UD7F8dmFiT_t"
      },
      "source": [
        "If we want to be able to assign values to variables, or refer to them in our code later, we need to assign our variable objects to Python variables: "
      ]
    },
    {
      "cell_type": "code",
      "execution_count": 7,
      "metadata": {
        "deletable": false,
        "editable": false,
        "nbgrader": {
          "cell_type": "code",
          "checksum": "b398aa248ed724a8ad4c6a9533c5407d",
          "grade": false,
          "grade_id": "cell-e63f373cfcf99c70",
          "locked": true,
          "schema_version": 3,
          "solution": false
        },
        "colab": {
          "base_uri": "https://localhost:8080/"
        },
        "id": "mXH54q1EiT_t",
        "outputId": "e9b20004-3082-4216-adbf-954567cd7eb8"
      },
      "outputs": [
        {
          "output_type": "stream",
          "name": "stdout",
          "text": [
            "-0.6212159557771483\n",
            "5\n"
          ]
        }
      ],
      "source": [
        "x = V()\n",
        "y = V()\n",
        "e = x + y\n",
        "\n",
        "print(e.eval()) # This uses the initial random values.\n",
        "\n",
        "x.assign(2)\n",
        "y.assign(3)\n",
        "print(e.eval())\n"
      ]
    },
    {
      "cell_type": "markdown",
      "metadata": {
        "deletable": false,
        "editable": false,
        "nbgrader": {
          "cell_type": "markdown",
          "checksum": "9c314cfe9a66730a1382589f62b2d621",
          "grade": false,
          "grade_id": "cell-456f818857685ba",
          "locked": true,
          "schema_version": 3,
          "solution": false
        },
        "id": "Gm22S8bdiT_t"
      },
      "source": [
        "### Defining Expression Equality"
      ]
    },
    {
      "cell_type": "markdown",
      "metadata": {
        "deletable": false,
        "editable": false,
        "nbgrader": {
          "cell_type": "markdown",
          "checksum": "a39b3328280b436337a4b1918ca31b8d",
          "grade": false,
          "grade_id": "cell-10427693c540f85e",
          "locked": true,
          "schema_version": 3,
          "solution": false
        },
        "id": "LRMA02HwiT_t"
      },
      "source": [
        "If we test equality between expressions, we are in for a surprise."
      ]
    },
    {
      "cell_type": "code",
      "execution_count": 8,
      "metadata": {
        "deletable": false,
        "editable": false,
        "nbgrader": {
          "cell_type": "code",
          "checksum": "83500083c187f2ad19b9368659e49a54",
          "grade": false,
          "grade_id": "cell-c742dbfa65cb2265",
          "locked": true,
          "schema_version": 3,
          "solution": false
        },
        "colab": {
          "base_uri": "https://localhost:8080/"
        },
        "id": "BPJUC-BsiT_u",
        "outputId": "2a5d9099-c8a5-436f-acd1-f162776d56bf"
      },
      "outputs": [
        {
          "output_type": "execute_result",
          "data": {
            "text/plain": [
              "False"
            ]
          },
          "metadata": {},
          "execution_count": 8
        }
      ],
      "source": [
        "x = V()\n",
        "e1 = x + 4\n",
        "e2 = x + 4\n",
        "e1 == e2\n"
      ]
    },
    {
      "cell_type": "markdown",
      "metadata": {
        "deletable": false,
        "editable": false,
        "nbgrader": {
          "cell_type": "markdown",
          "checksum": "00c826cbcd42b9245f76c8d088daffb9",
          "grade": false,
          "grade_id": "cell-481988e964f1b5c6",
          "locked": true,
          "schema_version": 3,
          "solution": false
        },
        "id": "bm3M9AWHiT_u"
      },
      "source": [
        "Why is the result False? \n",
        "\n",
        "Python knows how to compare objects that belong to its own types.  So you can do comparisons between strings, numbers, tuples, and more, and it all works as expected.  This is why we could check equality of expressions represented as trees: those expression trees are composed entirely of standard Python types, namely, strings, numbers, and tuples. \n",
        "\n",
        "However, `Expr`, `V`, etc, are classes we defined, and Python has no idea of what it means for objects of user-defined classes to be equal.  \n",
        "In this case, Python defaults to considering equal two objects if they are the _same_ object. \n",
        "The two expressions _e1_ and _e2_ above are not the same object: they are two distinct objects, which just happen to represent the same expression. \n",
        "\n",
        "If we want to have a notion of expression equality that represents our idea that \"two expression objects are equal if they represent the same expression\", we need to define equality ourselves. \n",
        "This can be easily done, by defining an _ _ eq _ _ method.  This method [has the form](https://docs.python.org/3/reference/datamodel.html#object.__eq__):\n",
        "\n",
        "    def __eq__(self, other):\n",
        "        ...\n",
        "        return <True/False>\n",
        "        \n",
        "Here, self is the object on which the method is called, and other is another object -- any other object.  Our job is to define when the object self is equal to the object other.  This can be easily done; using again our way of adding methods to existing classes, we write:"
      ]
    },
    {
      "cell_type": "code",
      "execution_count": 9,
      "metadata": {
        "deletable": false,
        "editable": false,
        "nbgrader": {
          "cell_type": "code",
          "checksum": "9ba335ac8dd0e3bdaccaf0d5ba09a2c6",
          "grade": false,
          "grade_id": "cell-329cc7a626fd3d13",
          "locked": true,
          "schema_version": 3,
          "solution": false
        },
        "id": "KhNvSELbiT_u"
      },
      "outputs": [],
      "source": [
        "def expr_eq(self, other):\n",
        "    if isinstance(other, Expr):\n",
        "        # The operators have to be the same\n",
        "        if self.__class__ != other.__class__:\n",
        "            return False\n",
        "        # and their corresponding children need to be equal\n",
        "        if len(self.children) != len(other.children):\n",
        "            return False\n",
        "        for c1, c2 in zip(self.children, other.children):\n",
        "            if c1 != c2: return False\n",
        "        return True\n",
        "    else:\n",
        "        return False\n",
        "\n",
        "Expr.__eq__ = expr_eq\n"
      ]
    },
    {
      "cell_type": "markdown",
      "metadata": {
        "deletable": false,
        "editable": false,
        "nbgrader": {
          "cell_type": "markdown",
          "checksum": "2b2e80cabdf7959cc5addfe8aa8b3c02",
          "grade": false,
          "grade_id": "cell-6fd03a56f77c1373",
          "locked": true,
          "schema_version": 3,
          "solution": false
        },
        "id": "ht87uMBbiT_u"
      },
      "source": [
        "If we did not define equality for variables, two variables would be considered equal according to `Expr.__eq__`, since `V` is a subclass of `Expr`.  This would yield non-intended consequences (all variables would be considered equal).\n",
        "\n",
        "Thus, we define equality for variables to be the basic equality for objects: two variables are equal iff they are the same object.  In the definition below, `object.__eq__` is this primitive notion of equality, defined over the class `object` of Python, which is the base class for all classes. \n"
      ]
    },
    {
      "cell_type": "code",
      "execution_count": 10,
      "metadata": {
        "deletable": false,
        "editable": false,
        "nbgrader": {
          "cell_type": "code",
          "checksum": "0038acb2ce1f76c69b8efd77bce6434b",
          "grade": false,
          "grade_id": "cell-d7f06a5b8193cf36",
          "locked": true,
          "schema_version": 3,
          "solution": false
        },
        "id": "0WAgF5CtiT_v"
      },
      "outputs": [],
      "source": [
        "V.__eq__  = object.__eq__\n"
      ]
    },
    {
      "cell_type": "code",
      "execution_count": 11,
      "metadata": {
        "deletable": false,
        "editable": false,
        "nbgrader": {
          "cell_type": "code",
          "checksum": "b269ad7b852cf6731194e55cc067432c",
          "grade": false,
          "grade_id": "cell-b9b98c6ce1300d53",
          "locked": true,
          "schema_version": 3,
          "solution": false
        },
        "colab": {
          "base_uri": "https://localhost:8080/"
        },
        "id": "gDkn8pBgiT_v",
        "outputId": "67467031-7a86-4409-a33c-5deaaaa4d891"
      },
      "outputs": [
        {
          "output_type": "stream",
          "name": "stdout",
          "text": [
            "False\n",
            "True\n"
          ]
        }
      ],
      "source": [
        "x = V()\n",
        "y = V()\n",
        "z = x\n",
        "print(x == y)\n",
        "print(x == z)\n"
      ]
    },
    {
      "cell_type": "markdown",
      "metadata": {
        "deletable": false,
        "editable": false,
        "nbgrader": {
          "cell_type": "markdown",
          "checksum": "3c6d3e5b5458fab50c16276b0c776d60",
          "grade": false,
          "grade_id": "cell-76f616d72a3fad3f",
          "locked": true,
          "schema_version": 3,
          "solution": false
        },
        "id": "ENAccVLAiT_v"
      },
      "source": [
        "Once expression equality is thus defined, we get the expected result when we compare expressions:"
      ]
    },
    {
      "cell_type": "code",
      "execution_count": 12,
      "metadata": {
        "deletable": false,
        "editable": false,
        "nbgrader": {
          "cell_type": "code",
          "checksum": "76163b39596a588d8a3dcac71c5e946a",
          "grade": false,
          "grade_id": "cell-b9680e4fd6492234",
          "locked": true,
          "schema_version": 3,
          "solution": false
        },
        "colab": {
          "base_uri": "https://localhost:8080/"
        },
        "id": "cS6X0aAriT_v",
        "outputId": "dbcf5285-72ef-4666-f90a-8d7b23be2938"
      },
      "outputs": [
        {
          "output_type": "execute_result",
          "data": {
            "text/plain": [
              "True"
            ]
          },
          "metadata": {},
          "execution_count": 12
        }
      ],
      "source": [
        "x = V()\n",
        "e1 = x + 4\n",
        "e2 = x + 4\n",
        "e1 == e2\n"
      ]
    },
    {
      "cell_type": "markdown",
      "metadata": {
        "deletable": false,
        "editable": false,
        "nbgrader": {
          "cell_type": "markdown",
          "checksum": "84c47753c2059e1f1002062f4ced6335",
          "grade": false,
          "grade_id": "cell-cb7671f2fe0d9f28",
          "locked": true,
          "schema_version": 3,
          "solution": false
        },
        "id": "BF4JTODUiT_v"
      },
      "source": [
        "Having to define equality \"by hand\" is very pedantic, but it does give us the flexibility of defining precisely what it means for two expressions to be equal."
      ]
    },
    {
      "cell_type": "markdown",
      "metadata": {
        "deletable": false,
        "editable": false,
        "nbgrader": {
          "cell_type": "markdown",
          "checksum": "1953b9530191b4887de2874a553cae5f",
          "grade": false,
          "grade_id": "cell-c8eeb577a42c02bf",
          "locked": true,
          "schema_version": 3,
          "solution": false
        },
        "id": "zc5qkscEiT_v"
      },
      "source": [
        "## Variable Occurrence\n",
        "\n",
        "Now that we have expressions, let us play with them.  First, as a warm-up exercise, let us write an `occurs` method for expressions, which checks if a given variable occurs in the expression.  First we define it for a variable: of course, a variable occurs in itself only if the variable is the same as the one whose occurrence we are checking."
      ]
    },
    {
      "cell_type": "markdown",
      "metadata": {
        "deletable": false,
        "editable": false,
        "nbgrader": {
          "cell_type": "markdown",
          "checksum": "0491e8b41b7f235755da4d7dd414051d",
          "grade": false,
          "grade_id": "cell-cc7ac70518cdb831",
          "locked": true,
          "schema_version": 3,
          "solution": false
        },
        "id": "SHAY2Pt8iT_v"
      },
      "source": [
        "## Question 1: Variable occurrence in variables"
      ]
    },
    {
      "cell_type": "code",
      "execution_count": 13,
      "metadata": {
        "deletable": false,
        "nbgrader": {
          "cell_type": "code",
          "checksum": "beee211a8d39a203443fc1fb92324b77",
          "grade": false,
          "grade_id": "cell-503eca36ffa39ced",
          "locked": false,
          "schema_version": 3,
          "solution": true
        },
        "id": "RJE4fRYoiT_w"
      },
      "outputs": [],
      "source": [
        "### Variable occurrence in a variable\n",
        "\n",
        "def v_contains(self, var):\n",
        "    \"\"\"Returns True of var is the same as self, and False otherwise.\"\"\"\n",
        "    # YOUR CODE HERE\n",
        "    if self == var:\n",
        "        return True\n",
        "    else: return False\n",
        "\n",
        "V.__contains__ = v_contains\n"
      ]
    },
    {
      "cell_type": "code",
      "execution_count": 14,
      "metadata": {
        "deletable": false,
        "editable": false,
        "nbgrader": {
          "cell_type": "code",
          "checksum": "ddbac0ff5c489fd435abdcdb1262db16",
          "grade": false,
          "grade_id": "cell-8c2bc64cccdd78e6",
          "locked": true,
          "schema_version": 3,
          "solution": false
        },
        "colab": {
          "base_uri": "https://localhost:8080/"
        },
        "id": "AIs-3XUaiT_w",
        "outputId": "3964c26b-4fba-4255-8823-dda50b19abbd"
      },
      "outputs": [
        {
          "output_type": "stream",
          "name": "stdout",
          "text": [
            "True\n",
            "False\n"
          ]
        }
      ],
      "source": [
        "## Here you can also test your code.\n",
        "\n",
        "x = V()\n",
        "y = V()\n",
        "print(x in x)\n",
        "print(x in y)\n"
      ]
    },
    {
      "cell_type": "code",
      "execution_count": 15,
      "metadata": {
        "deletable": false,
        "editable": false,
        "nbgrader": {
          "cell_type": "code",
          "checksum": "3c2a084a92d94b3ed6c6c33045fd4165",
          "grade": true,
          "grade_id": "cell-8ec4b8c459d3ac68",
          "locked": true,
          "points": 10,
          "schema_version": 3,
          "solution": false
        },
        "id": "8Mi1Frl4iT_w"
      },
      "outputs": [],
      "source": [
        "### Tests for variable occurrence\n",
        "\n",
        "x = V()\n",
        "y = V()\n",
        "assert x in x\n",
        "assert not x in y\n",
        "z = x\n",
        "assert x in z\n",
        "\n"
      ]
    },
    {
      "cell_type": "markdown",
      "metadata": {
        "deletable": false,
        "editable": false,
        "nbgrader": {
          "cell_type": "markdown",
          "checksum": "ac11d459ce271f62f09021d7bcb10798",
          "grade": false,
          "grade_id": "cell-6b4576ae858e6974",
          "locked": true,
          "schema_version": 3,
          "solution": false
        },
        "id": "2mEzC57SiT_w"
      },
      "source": [
        "## Question 2: Occurrence of a variable in an expression\n",
        "\n",
        "Once we define occurrence of a variable in a variable, we can define occurrence in a variable in a general expression. Of course, a variable appears in an expression if it appears in some of its children.  "
      ]
    },
    {
      "cell_type": "code",
      "execution_count": 16,
      "metadata": {
        "deletable": false,
        "nbgrader": {
          "cell_type": "code",
          "checksum": "0cbe273387e213a8d355e424d73cdfb7",
          "grade": false,
          "grade_id": "cell-2118a5e94104e74c",
          "locked": false,
          "schema_version": 3,
          "solution": true
        },
        "id": "mKIRVaOPiT_w"
      },
      "outputs": [],
      "source": [
        "### Occurrence of a variable in an expression\n",
        "\n",
        "def expr_contains(self, var):\n",
        "    # YOUR CODE HERE\n",
        "    for i in self.children:\n",
        "        if isinstance(i, Expr) and var in i.children:\n",
        "            return True\n",
        "        if var in self.children:\n",
        "            return True\n",
        "    return False\n",
        "\n",
        "\n",
        "Expr.__contains__ = expr_contains\n"
      ]
    },
    {
      "cell_type": "code",
      "execution_count": 17,
      "metadata": {
        "deletable": false,
        "editable": false,
        "nbgrader": {
          "cell_type": "code",
          "checksum": "4ae9187dd86ad3d17cc30d05fe2b2a5c",
          "grade": false,
          "grade_id": "cell-be4a98ae3d3f3739",
          "locked": true,
          "schema_version": 3,
          "solution": false
        },
        "colab": {
          "base_uri": "https://localhost:8080/"
        },
        "id": "ahhoEqChiT_w",
        "outputId": "ecf99843-19f8-46cb-fbee-e46cf34fb10c"
      },
      "outputs": [
        {
          "output_type": "stream",
          "name": "stdout",
          "text": [
            "True\n",
            "True\n",
            "False\n"
          ]
        }
      ],
      "source": [
        "## Here you can also test your code.\n",
        "\n",
        "x = V()\n",
        "y = V()\n",
        "z = V()\n",
        "e = x + (2 * y)\n",
        "#(var in self)\n",
        "print(x in e)\n",
        "print(y in e)\n",
        "print(z in e)\n"
      ]
    },
    {
      "cell_type": "code",
      "execution_count": 18,
      "metadata": {
        "deletable": false,
        "editable": false,
        "nbgrader": {
          "cell_type": "code",
          "checksum": "91ff5e1eaee46c5dab9a9cde42eeed80",
          "grade": true,
          "grade_id": "cell-75c2723f416854e1",
          "locked": true,
          "points": 10,
          "schema_version": 3,
          "solution": false
        },
        "id": "1pcWORU-iT_w"
      },
      "outputs": [],
      "source": [
        "## Tests for occurrence: 5 points.\n",
        "\n",
        "x = V()\n",
        "y = V()\n",
        "z = V()\n",
        "e = x + (2 * y)\n",
        "\n",
        "assert x in e\n",
        "assert y in e\n",
        "assert z not in e\n",
        "\n"
      ]
    },
    {
      "cell_type": "code",
      "execution_count": 19,
      "metadata": {
        "deletable": false,
        "editable": false,
        "nbgrader": {
          "cell_type": "code",
          "checksum": "a004a2a56f7372ef724aa61c9e2c0af5",
          "grade": true,
          "grade_id": "cell-71a57a5c24abc892",
          "locked": true,
          "points": 10,
          "schema_version": 3,
          "solution": false
        },
        "id": "PyXBg8tJiT_x"
      },
      "outputs": [],
      "source": [
        "## Hidden tests for occurrence: 5 points.\n",
        "\n"
      ]
    },
    {
      "cell_type": "markdown",
      "metadata": {
        "deletable": false,
        "editable": false,
        "nbgrader": {
          "cell_type": "markdown",
          "checksum": "e056ba0ebf2519e226e2bb2daa757f03",
          "grade": false,
          "grade_id": "cell-89fb0816794917a0",
          "locked": true,
          "schema_version": 3,
          "solution": false
        },
        "id": "7FCbL6zCiT_x"
      },
      "source": [
        "## Variable Substitution\n",
        "\n",
        "Another fun thing we can do is substitute a variable with an expression.  Suppose you define an expression: \n",
        "\n",
        "    x = V()\n",
        "    y = V()\n",
        "    e = (x + 1) * (y + 1)\n",
        "\n",
        "Suppose you also have another expression: \n",
        "\n",
        "    z = V()\n",
        "    f = y + z\n",
        "\n",
        "Then, you can replace all occurrences of variable `x` in `e` with expression `f`: \n",
        "\n",
        "    new_e = e.replace(x, f)\n",
        "\n",
        "and `new_e` should be then equal to: \n",
        "\n",
        "    ((x + z) + 1) * (y + 1)\n",
        "\n",
        "Let us implement variable substitution.  Let us begin by defining variable substitution for variables. "
      ]
    },
    {
      "cell_type": "markdown",
      "metadata": {
        "deletable": false,
        "editable": false,
        "nbgrader": {
          "cell_type": "markdown",
          "checksum": "9569da82352560a7e4d5bb30b40fc401",
          "grade": false,
          "grade_id": "cell-d5cb1f1990a946b6",
          "locked": true,
          "schema_version": 3,
          "solution": false
        },
        "id": "Z4TiSyC4iT_x"
      },
      "source": [
        "## Question 3: Variable replacement for variables"
      ]
    },
    {
      "cell_type": "code",
      "execution_count": 20,
      "metadata": {
        "deletable": false,
        "nbgrader": {
          "cell_type": "code",
          "checksum": "9caae0e3aaea67bae13ac1a03e8bb753",
          "grade": false,
          "grade_id": "cell-bf5ea992aec8f4ce",
          "locked": false,
          "schema_version": 3,
          "solution": true
        },
        "id": "cbwm75tCiT_x"
      },
      "outputs": [],
      "source": [
        "### Variable replacement in variables\n",
        "\n",
        "def v_replace(self, x, e):\n",
        "    \"\"\"If self is x, replaces all occurrences of x with e.\"\"\"\n",
        "    # YOUR CODE HERE\n",
        "    if self.children != []:\n",
        "        for i in range(len(self.children)):\n",
        "            if self.children[i] == x:\n",
        "                self.children[i] = e \n",
        "    else:\n",
        "        if self == x:\n",
        "            self = e\n",
        "    return self\n",
        "V.replace = v_replace\n"
      ]
    },
    {
      "cell_type": "code",
      "execution_count": 21,
      "metadata": {
        "deletable": false,
        "editable": false,
        "nbgrader": {
          "cell_type": "code",
          "checksum": "821cda4ca306dbe95d8c868e14af1384",
          "grade": false,
          "grade_id": "cell-2e074867fb1e9c50",
          "locked": true,
          "schema_version": 3,
          "solution": false
        },
        "colab": {
          "base_uri": "https://localhost:8080/"
        },
        "id": "2_2NB04SiT_x",
        "outputId": "700b53e7-34f1-49be-b638-f34589281288"
      },
      "outputs": [
        {
          "output_type": "stream",
          "name": "stdout",
          "text": [
            "V(J7O, value=0.9264528272109154)\n",
            "False\n",
            "True\n"
          ]
        }
      ],
      "source": [
        "## Here you can also test your code\n",
        "\n",
        "x = V()\n",
        "y = V()\n",
        "z = V()\n",
        "\n",
        "\n",
        "print(x.replace(x, x))\n",
        "print(x == x.replace(x, y))\n",
        "print(x == x.replace(y, z))\n"
      ]
    },
    {
      "cell_type": "code",
      "execution_count": 22,
      "metadata": {
        "deletable": false,
        "editable": false,
        "nbgrader": {
          "cell_type": "code",
          "checksum": "52b3769b62c73ddbe35511ea619a4bd5",
          "grade": true,
          "grade_id": "cell-4971b0a3f7bbf8d2",
          "locked": true,
          "points": 10,
          "schema_version": 3,
          "solution": false
        },
        "id": "2OB5n4DjiT_x"
      },
      "outputs": [],
      "source": [
        "## Tests for variable replacement in variables. 2 points.\n",
        "x = V()\n",
        "y = V()\n",
        "z = V()\n",
        "assert x == x.replace(x, x)\n",
        "assert y == x.replace(x, y)\n",
        "assert x == x.replace(y, z)\n",
        "assert x.replace(x, y).replace(y, z) == z\n",
        "\n"
      ]
    },
    {
      "cell_type": "code",
      "execution_count": 23,
      "metadata": {
        "deletable": false,
        "editable": false,
        "nbgrader": {
          "cell_type": "code",
          "checksum": "5849d900c39d7bf034d68973d6a6e924",
          "grade": true,
          "grade_id": "cell-c80e3cc1f22a05a0",
          "locked": true,
          "points": 10,
          "schema_version": 3,
          "solution": false
        },
        "id": "TPpLietRiT_x"
      },
      "outputs": [],
      "source": [
        "## Other tests for variable replacement. 2 points.\n",
        "\n",
        "x = V()\n",
        "y = V()\n",
        "\n",
        "e = x.replace(x, y + 3 * x)\n",
        "\n",
        "x.assign(2)\n",
        "y.assign(3)\n",
        "assert e.eval() == 9\n",
        "\n"
      ]
    },
    {
      "cell_type": "code",
      "execution_count": 24,
      "metadata": {
        "deletable": false,
        "editable": false,
        "nbgrader": {
          "cell_type": "code",
          "checksum": "8e29fa92eebc1139cb9b9d1f16e6390b",
          "grade": true,
          "grade_id": "cell-a17d87b0f5b24a3c",
          "locked": true,
          "points": 10,
          "schema_version": 3,
          "solution": false
        },
        "id": "k3NF47zWiT_x"
      },
      "outputs": [],
      "source": [
        "## Hidden tests for variable replacement.  2 points.\n",
        "\n"
      ]
    },
    {
      "cell_type": "markdown",
      "metadata": {
        "deletable": false,
        "editable": false,
        "nbgrader": {
          "cell_type": "markdown",
          "checksum": "5da1931188e16c872c23983d2ecf47d6",
          "grade": false,
          "grade_id": "cell-b5126876d86593c2",
          "locked": true,
          "schema_version": 3,
          "solution": false
        },
        "id": "GBbq4vJGiT_y"
      },
      "source": [
        "We now define variable replacement for expressions. Consider a simple expression:"
      ]
    },
    {
      "cell_type": "code",
      "execution_count": 25,
      "metadata": {
        "deletable": false,
        "editable": false,
        "nbgrader": {
          "cell_type": "code",
          "checksum": "55a0878b313172c30e2c36b96f3b3231",
          "grade": false,
          "grade_id": "cell-e2cedcd05beb2c39",
          "locked": true,
          "schema_version": 3,
          "solution": false
        },
        "id": "-pcg8biGiT_y"
      },
      "outputs": [],
      "source": [
        "x = V()\n",
        "y = V()\n",
        "z = V()\n",
        "e = x + y\n"
      ]
    },
    {
      "cell_type": "markdown",
      "metadata": {
        "deletable": false,
        "editable": false,
        "nbgrader": {
          "cell_type": "markdown",
          "checksum": "6ceebc7470af56c4f0368f767a8f5c2d",
          "grade": false,
          "grade_id": "cell-3bf1ed55f13ba061",
          "locked": true,
          "schema_version": 3,
          "solution": false
        },
        "id": "vVAcUK29iT_y"
      },
      "source": [
        "Suppose we want to return `e.replace(x, z)`.  The idea is: \n",
        "\n",
        "* carry out the replacement for each child (via a recursive call, as usual),  \n",
        "* then return an expression built out of the replacements. \n",
        "\n",
        "For instance, consider `e = x + y`.  To compute \n",
        "\n",
        "    e.replace(x, z)\n",
        "\n",
        "we first replace `x` with `z`, and then we return `Plus(z, y)`. \n",
        "\n",
        "The problem is exactly in the last sentence.  A `Plus` object, after carrying out the replacement in the children, should return a `Plus` object with the new children.  Similarly, a `Minus` object should return a `Minus` object, a `Multiply` object should return a `Multiply` object, and so forth.  If we implement this in the straightforward way, we need to add a `replace` method to all of these classes, so that they can return an object of the appropriate type.   This is a lot of work. \n",
        "\n",
        "Is there a better way?  It turns out, yes.  In an object, \n",
        "\n",
        "    self.__class__\n",
        "\n",
        "is the class of the object.  So if you want to return a new object of the same class, created say with arguments `x` and `y`, all you need to do is: \n",
        "\n",
        "    self.__class__(x, y)\n",
        "\n",
        "In this way, if you are in a `Plus` object, `self.__class__` is `Plus`, and everything works. \n",
        "Using this idea, we, that is, you, can implement the replacement method directly for the `Expr` class. \n",
        "\n"
      ]
    },
    {
      "cell_type": "markdown",
      "metadata": {
        "deletable": false,
        "editable": false,
        "nbgrader": {
          "cell_type": "markdown",
          "checksum": "8ecbf1c5b0e3d50ddc49f5aa33c95cd5",
          "grade": false,
          "grade_id": "cell-26d3ef3ff88da07f",
          "locked": true,
          "schema_version": 3,
          "solution": false
        },
        "id": "WkRbRTIriT_y"
      },
      "source": [
        "## Question 4: Replacement for expressions"
      ]
    },
    {
      "cell_type": "code",
      "execution_count": 26,
      "metadata": {
        "deletable": false,
        "nbgrader": {
          "cell_type": "code",
          "checksum": "0aa8013fe21f36c5df0eef3145c56893",
          "grade": false,
          "grade_id": "cell-196e85c1cd61dc2",
          "locked": false,
          "schema_version": 3,
          "solution": true
        },
        "id": "rAhezvteiT_y"
      },
      "outputs": [],
      "source": [
        "### Replacement for expressions\n",
        "\n",
        "def expr_replace(self, x, e):\n",
        "    # YOUR CODE HERE\n",
        "    if not isinstance(self, V) and not isinstance(self, int): \n",
        "        l = self.children[0]\n",
        "        r = self.children[1]\n",
        "        return self.__class__(expr_replace(l, x, e), expr_replace(r, x, e))\n",
        "    elif (isinstance(self, int)): return self\n",
        "    else: \n",
        "        if self == x: return e\n",
        "    return self\n",
        "            \n",
        "Expr.replace = expr_replace\n"
      ]
    },
    {
      "cell_type": "code",
      "execution_count": 27,
      "metadata": {
        "deletable": false,
        "editable": false,
        "nbgrader": {
          "cell_type": "code",
          "checksum": "abd99ef37c87fa869bbd9d933a2042ad",
          "grade": false,
          "grade_id": "cell-5a50301fc09d200d",
          "locked": true,
          "schema_version": 3,
          "solution": false
        },
        "colab": {
          "base_uri": "https://localhost:8080/"
        },
        "id": "n1RSQAELiT_y",
        "outputId": "6943be08-744b-46fa-c851-abaa6258e0c5"
      },
      "outputs": [
        {
          "output_type": "stream",
          "name": "stdout",
          "text": [
            "V(nK4, value=2.578999003788289) V(UPG, value=1.2401958390860215) V(mkE, value=-0.02958274086956074)\n",
            "(((V(nK4, value=2.578999003788289) + V(mkE, value=-0.02958274086956074)) + 1) * (V(UPG, value=1.2401958390860215) + 1))\n"
          ]
        }
      ],
      "source": [
        "### Here you can debug your code.\n",
        "\n",
        "x = V()\n",
        "y = V()\n",
        "z = V()\n",
        "\n",
        "print(x, y, z)\n",
        "e = (1 + x) * (1 + y)\n",
        "f = e.replace(x, x + z)\n",
        "print(f) \n",
        "#(1 + (x + z)) * (1 + y)\n"
      ]
    },
    {
      "cell_type": "code",
      "execution_count": 28,
      "metadata": {
        "deletable": false,
        "editable": false,
        "nbgrader": {
          "cell_type": "code",
          "checksum": "93728fce72a892845ff96ec5c4480519",
          "grade": true,
          "grade_id": "cell-bc773d87d678c4d6",
          "locked": true,
          "points": 10,
          "schema_version": 3,
          "solution": false
        },
        "id": "rzZBmfcgiT_y"
      },
      "outputs": [],
      "source": [
        "### Tests for expression replacement. 7 points.\n",
        "\n",
        "x = V()\n",
        "y = V()\n",
        "z = V()\n",
        "\n",
        "e = (1 + x) * (1 + y)\n",
        "f = e.replace(x, x + z)\n",
        "assert f == (1 + (x + z)) * (1 + y)\n",
        "\n",
        "x.assign(1)\n",
        "y.assign(2)\n",
        "z.assign(3)\n",
        "assert e.eval() == 6\n",
        "assert f.eval() == 15\n",
        "\n",
        "e = (x + y) / (x - y)\n",
        "f = e.replace(x, 2 * x).replace(y, 3 * y)\n",
        "assert f.eval() == (2 + 6) / (2 - 6)\n",
        "\n"
      ]
    },
    {
      "cell_type": "code",
      "execution_count": 29,
      "metadata": {
        "deletable": false,
        "editable": false,
        "nbgrader": {
          "cell_type": "code",
          "checksum": "d677b0e8d99e315c1c289ad90b2c33e5",
          "grade": true,
          "grade_id": "cell-384f1758b8eec799",
          "locked": true,
          "points": 10,
          "schema_version": 3,
          "solution": false
        },
        "id": "lCm_EoMKiT_z"
      },
      "outputs": [],
      "source": [
        "### Hidden tests for expression replacement. 8 points.\n",
        "\n"
      ]
    },
    {
      "cell_type": "markdown",
      "metadata": {
        "deletable": false,
        "editable": false,
        "nbgrader": {
          "cell_type": "markdown",
          "checksum": "c81f54529681cf26a130baf9bf123c62",
          "grade": false,
          "grade_id": "cell-21016879a0202d98",
          "locked": true,
          "schema_version": 3,
          "solution": false
        },
        "id": "8IrvK5NWiT_z"
      },
      "source": [
        "\n",
        "## Expression Derivation\n",
        "\n",
        "We will develop here a method `derivate` such that, for an expression `e`, the method call `e.derivate(x)` returns the derivative of the expression with respect to the variable `x`.  As in the previous chapter, we use the following derivation formulas: \n",
        "\n",
        "* For a constant $c$, $\\partial c / \\partial x = 0$.\n",
        "* For a variable $y \\neq x$,  $\\partial y / \\partial x = 0$.\n",
        "* $\\partial x / \\partial x = 1$.\n",
        "\n",
        "For operators, we can use:\n",
        "\n",
        "$$\n",
        " \\begin{align*}\n",
        " \\frac{\\partial}{\\partial x}(f \\pm g) & = \\frac{\\partial f}{\\partial x} \\pm \\frac  {\\partial g}{\\partial x}, \\\\[1ex]\n",
        " \\frac{\\partial}{\\partial x}(f \\cdot g) & = \\frac{\\partial f}{\\partial x} \\cdot g + f \\cdot \\frac{\\partial g}{\\partial x}, \\\\[1ex]\n",
        " \\frac{\\partial}{\\partial x}\\left(\\frac{f}{g}\\right) & = \\frac{\\frac\n",
        "  {\\partial f}{\\partial x} \\cdot g - f \\cdot \\frac{\\partial g}{\\partial x}}{g^2}. \n",
        "\\end{align*}\n",
        "$$\n",
        "\n",
        "Let us begin with implementing derivation for variables. \n"
      ]
    },
    {
      "cell_type": "markdown",
      "metadata": {
        "deletable": false,
        "editable": false,
        "nbgrader": {
          "cell_type": "markdown",
          "checksum": "59eedc75112bf770519db95ed7e7a796",
          "grade": false,
          "grade_id": "cell-116bdc73cec8ce94",
          "locked": true,
          "schema_version": 3,
          "solution": false
        },
        "id": "HNNM7hp1iT_z"
      },
      "source": [
        "## Question 5.  Derivation for a variable"
      ]
    },
    {
      "cell_type": "code",
      "execution_count": 30,
      "metadata": {
        "deletable": false,
        "nbgrader": {
          "cell_type": "code",
          "checksum": "c02fd5b9c3d67a1fec65ae605d7c444d",
          "grade": false,
          "grade_id": "cell-f6b692bf3de33f93",
          "locked": false,
          "schema_version": 3,
          "solution": true
        },
        "id": "5f_RjRVXiT_z"
      },
      "outputs": [],
      "source": [
        "### Derivation of variables\n",
        "\n",
        "def v_derivate(self, x):\n",
        "    # YOUR CODE HERE\n",
        "    if self == x:\n",
        "        return 1\n",
        "    return 0\n",
        "V.derivate = v_derivate\n"
      ]
    },
    {
      "cell_type": "code",
      "execution_count": 31,
      "metadata": {
        "deletable": false,
        "editable": false,
        "nbgrader": {
          "cell_type": "code",
          "checksum": "1536fec496659946c59e30767ed0158f",
          "grade": false,
          "grade_id": "cell-a700d9f00a606673",
          "locked": true,
          "schema_version": 3,
          "solution": false
        },
        "colab": {
          "base_uri": "https://localhost:8080/"
        },
        "id": "QZRwzhtpiT_z",
        "outputId": "71077cc2-70ce-44d2-8bf0-8b2feff7de1c"
      },
      "outputs": [
        {
          "output_type": "stream",
          "name": "stdout",
          "text": [
            "1\n",
            "0\n"
          ]
        }
      ],
      "source": [
        "## Here you can debug your code.\n",
        "\n",
        "x = V()\n",
        "y = V()\n",
        "print(x.derivate(x))\n",
        "print(x.derivate(y))\n"
      ]
    },
    {
      "cell_type": "code",
      "execution_count": 32,
      "metadata": {
        "deletable": false,
        "editable": false,
        "nbgrader": {
          "cell_type": "code",
          "checksum": "c474d33d43f904df47c2503d4c41d23d",
          "grade": true,
          "grade_id": "cell-cf3be1afe6cef5c1",
          "locked": true,
          "points": 10,
          "schema_version": 3,
          "solution": false
        },
        "id": "KbW7lb_riT_z"
      },
      "outputs": [],
      "source": [
        "## Tests for variable derivation\n",
        "\n",
        "x = V()\n",
        "y = V()\n",
        "assert x.derivate(x) == 1\n",
        "assert x.derivate(y) == 0\n",
        "\n"
      ]
    },
    {
      "cell_type": "markdown",
      "metadata": {
        "deletable": false,
        "editable": false,
        "nbgrader": {
          "cell_type": "markdown",
          "checksum": "598f6910a3977442bcf353e163ef6bfa",
          "grade": false,
          "grade_id": "cell-f1151aa874c7f620",
          "locked": true,
          "schema_version": 3,
          "solution": false
        },
        "id": "FAzlJpJFiT_z"
      },
      "source": [
        "### Derivation for expressions\n",
        "\n",
        "This time, there is no clever trick to implement `derivate` as a method of `Expr`, because the derivative behaves in a different way for the different operators.  Hence, we will need to implement `derivate` for each individual operator.  We let you do it.  There are two things to be careful about: \n",
        "\n",
        "* Children of an operator may not be expressions; they can also be constants such as 2.3 or 4.1.\n",
        "* If the _new_ children of an expression are all numbers, return the numerical result of the expression rather than a symbolic expression.  For example, do not return `Plus(1, 0)`; rather, just return `1`.  Note that, if you put the derivatives of the two children in, say, `df` and `dg`, you can simplify automatically by returning `df + dg`, which will return an expression if one of `df` or `dg` is an expression, and a number otherwise. \n",
        "\n",
        "We give you the solution for `Plus`, mainly because it might be difficult to believe that the solution is this simple. "
      ]
    },
    {
      "cell_type": "code",
      "execution_count": 33,
      "metadata": {
        "deletable": false,
        "editable": false,
        "nbgrader": {
          "cell_type": "code",
          "checksum": "6b20511d7fffee5cbb7621de90ff9bab",
          "grade": false,
          "grade_id": "cell-6b3a7a19474f498e",
          "locked": true,
          "schema_version": 3,
          "solution": false
        },
        "id": "0G3VPi9XiT_z"
      },
      "outputs": [],
      "source": [
        "def plus_derivate(self, x):\n",
        "    f, g = self.children\n",
        "    df = f.derivate(x) if isinstance(f, Expr) else 0\n",
        "    dg = g.derivate(x) if isinstance(g, Expr) else 0\n",
        "    return df + dg\n",
        "\n",
        "Plus.derivate = plus_derivate\n"
      ]
    },
    {
      "cell_type": "markdown",
      "metadata": {
        "deletable": false,
        "editable": false,
        "nbgrader": {
          "cell_type": "markdown",
          "checksum": "19a538eb6416e3b9b2074803794d6cf9",
          "grade": false,
          "grade_id": "cell-9056bfea4ebff8d5",
          "locked": true,
          "schema_version": 3,
          "solution": false
        },
        "id": "3kr9pk-viT_0"
      },
      "source": [
        "## Question 6: Derivation for Minus\n",
        "\n",
        "You can now work out the case for Minus, which is very similar. "
      ]
    },
    {
      "cell_type": "code",
      "execution_count": 34,
      "metadata": {
        "deletable": false,
        "nbgrader": {
          "cell_type": "code",
          "checksum": "7a4963221840498377196e3211192e64",
          "grade": false,
          "grade_id": "cell-d0ab24b737d02190",
          "locked": false,
          "schema_version": 3,
          "solution": true
        },
        "id": "nttdlgsjiT_0"
      },
      "outputs": [],
      "source": [
        "### Derivative of Minus\n",
        "\n",
        "def minus_derivate(self, x):\n",
        "    # YOUR CODE HERE\n",
        "    f, g = self.children\n",
        "    df = f.derivate(x) if isinstance(f, Expr) else 0\n",
        "    dg = g.derivate(x) if isinstance(g, Expr) else 0\n",
        "    return df - dg\n",
        "Minus.derivate = minus_derivate\n"
      ]
    },
    {
      "cell_type": "code",
      "execution_count": 35,
      "metadata": {
        "deletable": false,
        "editable": false,
        "nbgrader": {
          "cell_type": "code",
          "checksum": "6cdb269d850257e5582b2bd407416cc7",
          "grade": false,
          "grade_id": "cell-446a3da8d37544f8",
          "locked": true,
          "schema_version": 3,
          "solution": false
        },
        "colab": {
          "base_uri": "https://localhost:8080/"
        },
        "id": "b5evMXahiT_0",
        "outputId": "cce23ad4-7256-42eb-edd4-09a78edce70b"
      },
      "outputs": [
        {
          "output_type": "execute_result",
          "data": {
            "text/plain": [
              "-1"
            ]
          },
          "metadata": {},
          "execution_count": 35
        }
      ],
      "source": [
        "### Here you can debug your code.\n",
        "\n",
        "x = V()\n",
        "y = V()\n",
        "z = V()\n",
        "\n",
        "e = x - y\n",
        "e.derivate(y)\n"
      ]
    },
    {
      "cell_type": "code",
      "execution_count": 36,
      "metadata": {
        "deletable": false,
        "editable": false,
        "nbgrader": {
          "cell_type": "code",
          "checksum": "78309da4e67b5fd324a6f7dc45adabbb",
          "grade": true,
          "grade_id": "cell-81439756c14279b1",
          "locked": true,
          "points": 10,
          "schema_version": 3,
          "solution": false
        },
        "id": "NO7CZLesiT_0"
      },
      "outputs": [],
      "source": [
        "### Tests for derivatives of Plus and Minus. 3 points.\n",
        "\n",
        "x = V()\n",
        "y = V()\n",
        "z = V()\n",
        "\n",
        "e = x + y\n",
        "assert e.derivate(x) == 1\n",
        "f = x - y\n",
        "assert f.derivate(x) == 1\n",
        "assert f.derivate(y) == -1\n",
        "\n",
        "h = e + f\n",
        "assert h.derivate(x) == 2\n",
        "\n",
        "u = x + 4\n",
        "assert u.derivate(x) == 1\n",
        "v = 3 - y\n",
        "assert v.derivate(x) == 0\n",
        "assert v.derivate(y) == -1\n",
        "\n"
      ]
    },
    {
      "cell_type": "markdown",
      "metadata": {
        "deletable": false,
        "editable": false,
        "nbgrader": {
          "cell_type": "markdown",
          "checksum": "b0e72b412bc6d55de185dc10755c68e9",
          "grade": false,
          "grade_id": "cell-a4a43bacc9ab204",
          "locked": true,
          "schema_version": 3,
          "solution": false
        },
        "id": "Bg09IARLiT_2"
      },
      "source": [
        "## Question 7: derivative of Negative\n",
        "\n",
        "Since we are at it, let us take care of unary minus, or `Negative`. "
      ]
    },
    {
      "cell_type": "code",
      "execution_count": 37,
      "metadata": {
        "deletable": false,
        "nbgrader": {
          "cell_type": "code",
          "checksum": "866f4224e6e060a01b2df20ca8a1707b",
          "grade": false,
          "grade_id": "cell-ac21382beed7997c",
          "locked": false,
          "schema_version": 3,
          "solution": true
        },
        "id": "8g83BHpiiT_2"
      },
      "outputs": [],
      "source": [
        "### Derivative of Negative\n",
        "\n",
        "def negative_derivate(self, x):\n",
        "    # YOUR CODE HERE\n",
        "    f = self.children[0]\n",
        "    df = f.derivate(x) if isinstance(self, Expr) else 0\n",
        "    return -df\n",
        "Negative.derivate = negative_derivate\n"
      ]
    },
    {
      "cell_type": "code",
      "execution_count": 38,
      "metadata": {
        "deletable": false,
        "editable": false,
        "nbgrader": {
          "cell_type": "code",
          "checksum": "2b7e09a814042e19ae6ab2064ea4e715",
          "grade": false,
          "grade_id": "cell-95b0599c075990a6",
          "locked": true,
          "schema_version": 3,
          "solution": false
        },
        "colab": {
          "base_uri": "https://localhost:8080/"
        },
        "id": "1_ncGS_hiT_2",
        "outputId": "2be23a69-a5cf-41e4-853f-56cbe982719e"
      },
      "outputs": [
        {
          "output_type": "stream",
          "name": "stdout",
          "text": [
            "V(qau, value=-0.10525364932574678) V(4gC, value=0.09628745471905815)\n"
          ]
        },
        {
          "output_type": "execute_result",
          "data": {
            "text/plain": [
              "-1"
            ]
          },
          "metadata": {},
          "execution_count": 38
        }
      ],
      "source": [
        "### Here you can debug your code.\n",
        "\n",
        "x = V()\n",
        "y = V()\n",
        "print(x, y)\n",
        "e = x + (-y)\n",
        "e.derivate(y)\n"
      ]
    },
    {
      "cell_type": "code",
      "execution_count": 39,
      "metadata": {
        "deletable": false,
        "editable": false,
        "nbgrader": {
          "cell_type": "code",
          "checksum": "c8605a8f8d5f9d4b65215ab251990532",
          "grade": false,
          "grade_id": "cell-14f27e0875525bde",
          "locked": true,
          "schema_version": 3,
          "solution": false
        },
        "id": "bMt9k9c7iT_3"
      },
      "outputs": [],
      "source": [
        "### Tests for negative. 4 points.\n",
        "\n",
        "x = V()\n",
        "y = V()\n",
        "e = -x\n",
        "assert e.derivate(x) == -1\n",
        "assert e.derivate(y) == 0\n"
      ]
    },
    {
      "cell_type": "markdown",
      "metadata": {
        "deletable": false,
        "editable": false,
        "nbgrader": {
          "cell_type": "markdown",
          "checksum": "f14c58c7fda62afa5ee75ca70a7aa9c7",
          "grade": false,
          "grade_id": "cell-cc58e1a461adfa82",
          "locked": true,
          "schema_version": 3,
          "solution": false
        },
        "id": "gttVTl3-iT_3"
      },
      "source": [
        "Now for multiplication and divisions.  Be careful to use the formulas exactly as given, otherwise the result may not match.  E.g. use \n",
        "\n",
        "$$\n",
        "\\frac{\\partial}{\\partial x}(f \\cdot g) = \\frac{\\partial f}{\\partial x} \\cdot g + f \\cdot \\frac{\\partial g}{\\partial x}\n",
        "$$\n",
        "\n",
        "and _not_, for instance, $\\frac{\\partial}{\\partial x}(f \\cdot g) = g \\cdot \\frac{\\partial f}{\\partial x} + f \\cdot \\frac{\\partial g}{\\partial x}$ (note the swap of the factors in the first term).\n",
        "\n",
        "We would like you to return simplified expressions.  You can again use the trick that, if you have two expressions `df` and `g` (or similar), then `df * g` will be an expression if one of `df` and `g` are expressions, and a number if both `df` and `g` are numbers. "
      ]
    },
    {
      "cell_type": "markdown",
      "metadata": {
        "deletable": false,
        "editable": false,
        "nbgrader": {
          "cell_type": "markdown",
          "checksum": "034e0a4e879bb6642b3632dede4a197f",
          "grade": false,
          "grade_id": "cell-dd725d034cd71a2c",
          "locked": true,
          "schema_version": 3,
          "solution": false
        },
        "id": "_MzlAFkliT_3"
      },
      "source": [
        "## Question 8: Derivation of multiplication"
      ]
    },
    {
      "cell_type": "code",
      "execution_count": 43,
      "metadata": {
        "deletable": false,
        "nbgrader": {
          "cell_type": "code",
          "checksum": "f7809033ee3d2d5106ce6da29a0eb772",
          "grade": false,
          "grade_id": "cell-934db7e12efb8ff7",
          "locked": false,
          "schema_version": 3,
          "solution": true
        },
        "id": "CP7FVapEiT_4"
      },
      "outputs": [],
      "source": [
        "### Derivative of multiplication.\n",
        "\n",
        "def multiply_derivate(self, x):\n",
        "    # YOUR CODE HERE\n",
        "    l, r = self.children\n",
        "    if isinstance(l, int):\n",
        "        return ((l * r.derivate(x)) + (0 * x))\n",
        "    elif isinstance(r, int):\n",
        "        return ((l.derivate(x) * r) + (0 * x))\n",
        "    else:\n",
        "        return ((l.derivate(x) * r) + (l * r.derivate(x)))\n",
        "\n",
        "Multiply.derivate = multiply_derivate\n"
      ]
    },
    {
      "cell_type": "markdown",
      "metadata": {
        "deletable": false,
        "editable": false,
        "nbgrader": {
          "cell_type": "markdown",
          "checksum": "8a338a18ede52523f963ed9b84f0b01f",
          "grade": false,
          "grade_id": "cell-e95c269e1ee356c1",
          "locked": true,
          "schema_version": 3,
          "solution": false
        },
        "id": "KY36eP6DiT_4"
      },
      "source": [
        "If you did the above right, it will be 4-5 lines wrong.  If you wrote much more than that, please think at it again.  The solution is quite simple; you can just trust that the operators `*` and `+` will build it. "
      ]
    },
    {
      "cell_type": "code",
      "execution_count": 41,
      "metadata": {
        "deletable": false,
        "editable": false,
        "nbgrader": {
          "cell_type": "code",
          "checksum": "95920fa7778c6e320b1595e77508aa9e",
          "grade": false,
          "grade_id": "cell-5480126af0553e9e",
          "locked": true,
          "schema_version": 3,
          "solution": false
        },
        "colab": {
          "base_uri": "https://localhost:8080/"
        },
        "id": "qUWZWYP6iT_4",
        "outputId": "3b9cb597-4dd1-4bfc-b4fc-4469c66326f4"
      },
      "outputs": [
        {
          "output_type": "stream",
          "name": "stdout",
          "text": [
            "3.0\n"
          ]
        }
      ],
      "source": [
        "## Here you can debug your code.\n",
        "\n",
        "x = V()\n",
        "h = 3 * x\n",
        "print(h.derivate(x).eval())\n"
      ]
    },
    {
      "cell_type": "code",
      "execution_count": 44,
      "metadata": {
        "deletable": false,
        "editable": false,
        "nbgrader": {
          "cell_type": "code",
          "checksum": "af2b91ed22bf1a05c12dc9e6a5f57028",
          "grade": false,
          "grade_id": "cell-543686203f7153",
          "locked": true,
          "schema_version": 3,
          "solution": false
        },
        "id": "VSx1L3g2iT_4"
      },
      "outputs": [],
      "source": [
        "## Tests for derivative of multiplication. 4 points.\n",
        "\n",
        "x = V()\n",
        "y = V(value=2)\n",
        "\n",
        "e = x * y\n",
        "# This is ugly.  It is.  We have not implemented 0, 1 simplifications.\n",
        "assert e.derivate(x) == 1 * y + x * 0\n",
        "\n",
        "# To remedy ugliness, we now test numerically.\n",
        "f = x * x\n",
        "x.assign(3)\n",
        "assert f.derivate(x).eval() == 6, f.derivate(x).eval()\n",
        "x.assign(4)\n",
        "assert f.derivate(x).eval() == 8, f.derivate(x).eval()\n",
        "\n",
        "h = 3 * x\n",
        "assert h.derivate(x).eval() == 3\n",
        "u = x * 3\n",
        "assert u.derivate(x).eval() == 3\n"
      ]
    },
    {
      "cell_type": "markdown",
      "metadata": {
        "deletable": false,
        "editable": false,
        "nbgrader": {
          "cell_type": "markdown",
          "checksum": "69d9e2aae71a86a2055de04f343e541d",
          "grade": false,
          "grade_id": "cell-fe73f33a46d3b175",
          "locked": true,
          "schema_version": 3,
          "solution": false
        },
        "id": "N7IWy7opiT_5"
      },
      "source": [
        "## Question 9: Derivative of division\n",
        "\n",
        "For division, the expression is: \n",
        "\n",
        "$$\n",
        " \\frac{\\partial}{\\partial x}\\left(\\frac{f}{g}\\right) = \\frac{\\frac\n",
        "  {\\partial f}{\\partial x} \\cdot g - f \\cdot \\frac{\\partial g}{\\partial x}}{g^2}. \n",
        "$$\n",
        "\n",
        "Note that you can obtain the denominator just by doing `g * g`, if `g` is the second child.  Again, the correct solution is quite short. "
      ]
    },
    {
      "cell_type": "code",
      "execution_count": 45,
      "metadata": {
        "deletable": false,
        "nbgrader": {
          "cell_type": "code",
          "checksum": "24c51003e633bbab177cf21f7225482f",
          "grade": false,
          "grade_id": "cell-ec16a744f575d52b",
          "locked": false,
          "schema_version": 3,
          "solution": true
        },
        "id": "0TW1avYaiT_5"
      },
      "outputs": [],
      "source": [
        "### Derivative of division\n",
        "\n",
        "def divide_derivate(self, x):\n",
        "    # YOUR CODE HERE\n",
        "    l, r = self.children\n",
        "    if isinstance(l, int):\n",
        "        return (((-l * r.derivate(x))+ (x * 0))/(r * r))\n",
        "    elif isinstance(r, int):\n",
        "        return (((l.derivate(x) * r)+ (x * 0))/(r * r))\n",
        "    else:\n",
        "        return (((l.derivate(x) * r) - (l * r.derivate(x)))/ (r * r))\n",
        "Divide.derivate = divide_derivate\n"
      ]
    },
    {
      "cell_type": "code",
      "execution_count": 46,
      "metadata": {
        "deletable": false,
        "editable": false,
        "nbgrader": {
          "cell_type": "code",
          "checksum": "cc8ec6f450c7b61e7f25626a1fb19ae2",
          "grade": false,
          "grade_id": "cell-a80e0f0388bbca12",
          "locked": true,
          "schema_version": 3,
          "solution": false
        },
        "colab": {
          "base_uri": "https://localhost:8080/"
        },
        "id": "0iW6ZYFJiT_5",
        "outputId": "4aecea33-a558-4f15-a4e0-2af72d771822"
      },
      "outputs": [
        {
          "output_type": "stream",
          "name": "stdout",
          "text": [
            "(((V(yDT, value=3) * 0) + -1) / (V(yDT, value=3) * V(yDT, value=3)))\n",
            "-0.1111111111111111\n"
          ]
        }
      ],
      "source": [
        "## Here you can debug your code.\n",
        "\n",
        "x = V(value=3)\n",
        "g = 1 / x\n",
        "print(g.derivate(x))\n",
        "print(g.derivate(x).eval())"
      ]
    },
    {
      "cell_type": "code",
      "execution_count": 47,
      "metadata": {
        "deletable": false,
        "editable": false,
        "nbgrader": {
          "cell_type": "code",
          "checksum": "2ccc109895b5fcba17d74bc808e1a459",
          "grade": true,
          "grade_id": "cell-a75a4b760612d7cd",
          "locked": true,
          "points": 10,
          "schema_version": 3,
          "solution": false
        },
        "id": "Czux3DWGiT_5"
      },
      "outputs": [],
      "source": [
        "### Tests for derivative of division. 4 points.\n",
        "\n",
        "x = V()\n",
        "y = V()\n",
        "e = x / 2\n",
        "f = e.derivate(x)\n",
        "x.assign(3)\n",
        "assert f.eval() == 1/2\n",
        "\n",
        "g = 1 / x\n",
        "assert g.derivate(x).eval() == - 1 / 9\n",
        "assert g.derivate(y).eval() == 0\n",
        "\n"
      ]
    },
    {
      "cell_type": "code",
      "execution_count": 48,
      "metadata": {
        "deletable": false,
        "editable": false,
        "nbgrader": {
          "cell_type": "code",
          "checksum": "dafb2c681b90e30c806258ac4dc15538",
          "grade": true,
          "grade_id": "cell-66a59c8f196e3e74",
          "locked": true,
          "points": 10,
          "schema_version": 3,
          "solution": false
        },
        "id": "YIEnFN7ZiT_5"
      },
      "outputs": [],
      "source": [
        "## Miscellaneous tests.  3 points.\n",
        "\n",
        "x = V(value=2)\n",
        "y = V(value=3)\n",
        "\n",
        "f = (x + 1) * (y + 1) / (x - 1) * (y - 1)\n",
        "df = f.derivate(x)\n",
        "\n",
        "assert df.eval() == -16\n",
        "\n",
        "x.assign(0.5)\n",
        "y.assign(0.5)\n",
        "assert df.eval() == 6\n",
        "\n"
      ]
    },
    {
      "cell_type": "code",
      "execution_count": 49,
      "metadata": {
        "deletable": false,
        "editable": false,
        "nbgrader": {
          "cell_type": "code",
          "checksum": "733df60c94f3065392531ed74d397c63",
          "grade": true,
          "grade_id": "cell-95997be9fd014540",
          "locked": true,
          "points": 10,
          "schema_version": 3,
          "solution": false
        },
        "id": "wXW5-qdZiT_6"
      },
      "outputs": [],
      "source": [
        "## Miscellaneous tests. 3 points.\n",
        "\n",
        "x = V(value=0)\n",
        "\n",
        "f = (3 * x * x + 2 * x + 4) / (5 * x * x - 7 * x + 12)\n",
        "\n",
        "df = f.derivate(x)\n",
        "assert abs(df.eval() - 0.3611) < 0.01\n",
        "x.assign(1)\n",
        "assert df.eval() == 0.53\n",
        "x.assign(1000)\n",
        "assert abs(df.eval()) < 0.001\n",
        "x.assign(-0.5)\n",
        "assert abs(df.eval() - 0.1) < 0.01\n",
        "\n"
      ]
    },
    {
      "cell_type": "code",
      "execution_count": 50,
      "metadata": {
        "deletable": false,
        "editable": false,
        "nbgrader": {
          "cell_type": "code",
          "checksum": "36314f4bfc7605dd67c7f05bef10e8e8",
          "grade": true,
          "grade_id": "cell-dcc6f26f67c2fd50",
          "locked": true,
          "points": 10,
          "schema_version": 3,
          "solution": false
        },
        "id": "W9lEcnu4iT_6"
      },
      "outputs": [],
      "source": [
        "## Final hidden tests on everything. 10 points.\n",
        "\n"
      ]
    }
  ],
  "metadata": {
    "colab": {
      "collapsed_sections": [],
      "name": "Homework_10_Expressions_as_Classes_test.ipynb",
      "provenance": []
    },
    "kernelspec": {
      "display_name": "Python 3",
      "language": "python",
      "name": "python3"
    },
    "language_info": {
      "codemirror_mode": {
        "name": "ipython",
        "version": 3
      },
      "file_extension": ".py",
      "mimetype": "text/x-python",
      "name": "python",
      "nbconvert_exporter": "python",
      "pygments_lexer": "ipython3",
      "version": "3.8.10"
    },
    "test_info": {
      "id": "103968b6e58654ea9ce8625796a5b8f12478a71b"
    }
  },
  "nbformat": 4,
  "nbformat_minor": 0
}