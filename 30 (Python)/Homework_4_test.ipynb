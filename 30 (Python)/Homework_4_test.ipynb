{
  "cells": [
    {
      "cell_type": "markdown",
      "id": "179516f3",
      "metadata": {
        "id": "179516f3"
      },
      "source": [
        "Before you turn this problem in, make sure everything runs as expected. First, **restart the kernel** (in the menubar, select Kernel$\\rightarrow$Restart) and then **run all cells** (in the menubar, select Cell$\\rightarrow$Run All).\n",
        "\n",
        "Make sure you fill in any place that says `YOUR CODE HERE` or \"YOUR ANSWER HERE\", as well as your name and collaborators below:"
      ]
    },
    {
      "cell_type": "code",
      "execution_count": null,
      "id": "2dd05551",
      "metadata": {
        "id": "2dd05551"
      },
      "outputs": [],
      "source": [
        "NAME = \"\"\n",
        "COLLABORATORS = \"\""
      ]
    },
    {
      "cell_type": "markdown",
      "id": "5c1ee34a",
      "metadata": {
        "id": "5c1ee34a"
      },
      "source": [
        "---"
      ]
    },
    {
      "cell_type": "markdown",
      "id": "94c3e876",
      "metadata": {
        "deletable": false,
        "editable": false,
        "nbgrader": {
          "cell_type": "markdown",
          "checksum": "48ca2a4c72079f262b43ffab8d91708a",
          "grade": false,
          "grade_id": "cell-bb56deb3355fa93f",
          "locked": true,
          "schema_version": 3,
          "solution": false
        },
        "id": "94c3e876"
      },
      "source": [
        "# CSE 30 Fall 2021 - Homework 4\n",
        "\n",
        "\n",
        "### Instructions\n",
        "\n",
        "Please disregard the YOUR NAME and COLLABORATORS above.  They are put there atomatically by the grading tool.\n",
        "You can find instructions on how to work on a homework on Canvas.  Here is a short summary: \n",
        "\n",
        "### Submitting your work\n",
        "\n",
        "To submit your work: \n",
        "\n",
        "* First, click on \"Runtime > Restart and run all\", and check that you get no errors.  This enables you to catch any error you might have introduced, and not noticed, due to your running cells out of order. \n",
        "* Second, download the notebook in .ipynb format (File > Download .ipynb) and upload the .ipynb file to [this form](https://docs.google.com/forms/d/e/1FAIpQLSe7oq8KxzdbDKmeKBWaK--qBF04zuXcqumX8B3KikU_RncWPg/viewform?usp=sf_link). This homework is due by 11:59pm on Friday 21 January 2022.\n",
        "\n",
        "You can submit multiple times; the last submission before the deadline is the one that counts.\n",
        "\n",
        "### Homework format\n",
        "\n",
        "For each question in this notebook, there is: \n",
        "\n",
        "* A text description of the problem. \n",
        "* One or more places where you have to insert your solution.  You need to complete every place marked: \n",
        "\n",
        "    `# YOUR CODE HERE`\n",
        "    \n",
        "    and you should not modify any other place. \n",
        "* One or more test cells.  Each cell is worth some number of points, marked at the top.  You should not modify these tests cells.  The tests pass if no error is printed out: when there is a statement that says, for instance: \n",
        "\n",
        "    `assert x == 2`\n",
        "    \n",
        "    then the test passes if `x` has value 2, and fails otherwise.  You can insert a `print(x)` (for this case!) somewhere if you want to debug your work; it is up to you.  \n",
        "    \n",
        "### Notes:\n",
        "\n",
        "* Your code will be tested both according to the tests you can see (the `assert` statements you can see), _and_ additional tests.  This prevents you from hard-coding the answer to the particular questions posed.  Your code should solve the _general_ intended case, not hard-code the particular answer for the values used in the tests. \n",
        "\n",
        "* **Please do not delete or add cells!** The test is autograded, and if you modify the test by adding or deleting cells, even if you re-add cells you delete, you may not receive credit. \n",
        "\n",
        "* **Please do not import modules that are not part of the [standard library](https://docs.python.org/3/library/index.html).** You do not need any, and they will likely not available in the grading environment, leading your code to fail. \n",
        "\n",
        "* **If you are inactive too long, your notebook might get disconnected from the back-end.** Your work is never lost, but you have to re-run all the cells before you continue. \n",
        "\n",
        "* You can write out print statements in your code, to help you test/debug it. But remember: the code is graded on the basis of what it outputs or returns, not on the basis of what it prints.\n",
        "\n",
        "* **TAs and tutors have access to this notebook,** so if you let them know you need their help, they can look at your work and give you advice. \n",
        "\n",
        "### Grading\n",
        "\n",
        "Each cell where there are tests is worth a certain number of points.  You get the points allocated to a cell only if you pass _all_ the tests in the cell. \n",
        "\n",
        "The tests in a cell include both the tests you can see, and other, similar, tests that are used for grading only.  Therefore, you cannot hard-code the solutions: you really have to solve the essence of the problem, to receive the points in a cell. \n",
        "\n",
        "### Code of Conduct\n",
        "\n",
        "* Work on the test yourself, alone. \n",
        "* You can search documentation on the web, on sites such as the Python documentation sites, Stackoverflow, and similar, and you can use the results. \n",
        "* You cannot share your work with others or solicit their help.\n"
      ]
    },
    {
      "cell_type": "markdown",
      "id": "237ed457",
      "metadata": {
        "deletable": false,
        "editable": false,
        "nbgrader": {
          "cell_type": "markdown",
          "checksum": "e0b4ff68374d044931290397481a35a5",
          "grade": false,
          "grade_id": "cell-b8ca377728d80859",
          "locked": true,
          "schema_version": 3,
          "solution": false
        },
        "id": "237ed457"
      },
      "source": [
        "## Problem 1 \n",
        "### Write a generator for the Fibonacci Numbers\n",
        "\n",
        "Build a generator that returns the [Fibonacci numbers](https://en.wikipedia.org/wiki/Fibonacci_number): 0, 1, 1, 2, 3, 5, and so on. "
      ]
    },
    {
      "cell_type": "code",
      "execution_count": 10,
      "id": "12ac52b7",
      "metadata": {
        "deletable": false,
        "nbgrader": {
          "cell_type": "code",
          "checksum": "39eb9abe529c87e935708e7d1389b1d4",
          "grade": false,
          "grade_id": "cell-272a42f4ce1df5f9",
          "locked": false,
          "schema_version": 3,
          "solution": true
        },
        "id": "12ac52b7"
      },
      "outputs": [],
      "source": [
        "def fibonacci_generator():\n",
        "    \"\"\"Generates all Fibonacci numbers.\"\"\"\n",
        "    # YOUR CODE HERE\n",
        "    previous = 0\n",
        "    second = 0\n",
        "    while True:\n",
        "      if previous == 0 and second == 0:\n",
        "        yield 0\n",
        "        second += 1\n",
        "      else:\n",
        "        current = previous + second\n",
        "        yield current\n",
        "        second = previous\n",
        "        previous = current"
      ]
    },
    {
      "cell_type": "code",
      "execution_count": 11,
      "id": "ec6cd8d1",
      "metadata": {
        "deletable": false,
        "editable": false,
        "nbgrader": {
          "cell_type": "code",
          "checksum": "4c2aaabb5f78f931a6e0689dfd182b95",
          "grade": false,
          "grade_id": "cell-56f5d84d4b6d1079",
          "locked": true,
          "schema_version": 3,
          "solution": false
        },
        "id": "ec6cd8d1",
        "colab": {
          "base_uri": "https://localhost:8080/"
        },
        "outputId": "3ae9d27e-493e-4540-c41d-46f2f085af04"
      },
      "outputs": [
        {
          "output_type": "stream",
          "name": "stdout",
          "text": [
            "0\n",
            "1\n",
            "1\n",
            "2\n",
            "3\n",
            "5\n",
            "8\n",
            "13\n",
            "21\n",
            "34\n"
          ]
        }
      ],
      "source": [
        "## Here you can test your code.\n",
        "## What you write here will be removed.\n",
        "output = fibonacci_generator()\n",
        "for x in output:\n",
        "  if x > 50:\n",
        "    break\n",
        "  print(x)"
      ]
    },
    {
      "cell_type": "code",
      "execution_count": 12,
      "id": "8ecc1012",
      "metadata": {
        "deletable": false,
        "editable": false,
        "nbgrader": {
          "cell_type": "code",
          "checksum": "b65e8fcb4b4cc43301757f257ae72a79",
          "grade": false,
          "grade_id": "cell-5106a63868845d2b",
          "locked": true,
          "schema_version": 3,
          "solution": false
        },
        "id": "8ecc1012"
      },
      "outputs": [],
      "source": [
        "# Visible tests: 5 points\n",
        "\n",
        "r = []\n",
        "for n in fibonacci_generator():\n",
        "    r.append(n)\n",
        "    if n > 100:\n",
        "        break\n",
        "assert r == [0, 1, 1, 2, 3, 5, 8, 13, 21, 34, 55, 89, 144]\n"
      ]
    },
    {
      "cell_type": "code",
      "execution_count": 13,
      "id": "cb4a8211",
      "metadata": {
        "deletable": false,
        "editable": false,
        "nbgrader": {
          "cell_type": "code",
          "checksum": "e31543659ebf1f6fe572b53d66505d70",
          "grade": true,
          "grade_id": "cell-1e461d53e390cba5",
          "locked": true,
          "points": 10,
          "schema_version": 3,
          "solution": false
        },
        "id": "cb4a8211"
      },
      "outputs": [],
      "source": [
        "# Hidden tests, 5 points\n",
        "\n",
        "# These tests check basically that you generate Fibonacci numbers, forever -- without stopping.\n",
        "# It is the reader (the user) of the function that decides when to stop.\n",
        "\n"
      ]
    },
    {
      "cell_type": "markdown",
      "id": "f28fc0f1",
      "metadata": {
        "deletable": false,
        "editable": false,
        "nbgrader": {
          "cell_type": "markdown",
          "checksum": "0bea45d3d2e4bce32e530614a2ae2987",
          "grade": false,
          "grade_id": "cell-92e9585d26c63a93",
          "locked": true,
          "schema_version": 3,
          "solution": false
        },
        "id": "f28fc0f1"
      },
      "source": [
        "## Problem 2\n",
        "### Write a prime number generator\n",
        "\n",
        "Write a generator that returns all the prime numbers.  The idea is to loop over all positive integers, test each one to see if it is prime, and if it is, `yield` it. "
      ]
    },
    {
      "cell_type": "code",
      "execution_count": 14,
      "id": "817c5d18",
      "metadata": {
        "deletable": false,
        "nbgrader": {
          "cell_type": "code",
          "checksum": "e57a4a89c0448b15607700ae8a388d0b",
          "grade": false,
          "grade_id": "cell-6486f8e9d1595cc6",
          "locked": false,
          "schema_version": 3,
          "solution": true
        },
        "id": "817c5d18"
      },
      "outputs": [],
      "source": [
        "# My solution is simple and not particularly optimized,\n",
        "# and it is 12 lines long.\n",
        "\n",
        "def prime_number_generator():\n",
        "    \"\"\"This generator returns all prime numbers.\"\"\"\n",
        "    # YOUR CODE HERE\n",
        "    test = 2\n",
        "    while True:\n",
        "      prime = True\n",
        "      for i in range(2, test):\n",
        "        if(test % i) == 0:\n",
        "          prime = False\n",
        "      if(prime):\n",
        "        yield test\n",
        "      test += 1"
      ]
    },
    {
      "cell_type": "code",
      "execution_count": 15,
      "id": "2ba6559b",
      "metadata": {
        "deletable": false,
        "editable": false,
        "nbgrader": {
          "cell_type": "code",
          "checksum": "cf4e6f32b521f523b335804c70c83268",
          "grade": false,
          "grade_id": "cell-b9905bdd3e09b766",
          "locked": true,
          "schema_version": 3,
          "solution": false
        },
        "id": "2ba6559b",
        "colab": {
          "base_uri": "https://localhost:8080/"
        },
        "outputId": "a589e1f4-0776-4d8c-a8cf-ed2547f181b2"
      },
      "outputs": [
        {
          "output_type": "stream",
          "name": "stdout",
          "text": [
            "2\n",
            "3\n",
            "5\n",
            "7\n",
            "11\n",
            "13\n",
            "17\n",
            "19\n",
            "23\n",
            "29\n",
            "31\n",
            "37\n",
            "41\n",
            "43\n",
            "47\n"
          ]
        }
      ],
      "source": [
        "## Here you can test your code.\n",
        "## What you write here will be removed.\n",
        "output = prime_number_generator()\n",
        "for x in output:\n",
        "  if x > 50:\n",
        "    break\n",
        "  print(x)"
      ]
    },
    {
      "cell_type": "code",
      "execution_count": 16,
      "id": "d6100dd0",
      "metadata": {
        "deletable": false,
        "editable": false,
        "nbgrader": {
          "cell_type": "code",
          "checksum": "daf1f0627d0f78853ac2941f62e3094c",
          "grade": false,
          "grade_id": "cell-390b7612c3df3343",
          "locked": true,
          "schema_version": 3,
          "solution": false
        },
        "id": "d6100dd0"
      },
      "outputs": [],
      "source": [
        "## Visible tests: 5 points\n",
        "\n",
        "initial_primes = [2, 3, 5, 7, 11, 13, 17, 19, 23]\n",
        "\n",
        "idx = 0\n",
        "for p in prime_number_generator():\n",
        "    assert p == initial_primes[idx]\n",
        "    idx += 1\n",
        "    if idx == len(initial_primes):\n",
        "        break\n"
      ]
    },
    {
      "cell_type": "code",
      "execution_count": 17,
      "id": "5e433c5b",
      "metadata": {
        "deletable": false,
        "editable": false,
        "nbgrader": {
          "cell_type": "code",
          "checksum": "2ee9b558b9c1e2bcac29960729887a63",
          "grade": true,
          "grade_id": "cell-a7e50a3c136cec77",
          "locked": true,
          "points": 10,
          "schema_version": 3,
          "solution": false
        },
        "id": "5e433c5b"
      },
      "outputs": [],
      "source": [
        "## Hidden tests: 10 points\n",
        "\n",
        "# We test that the generator goes on and on and on.\n",
        "\n"
      ]
    }
  ],
  "metadata": {
    "kernelspec": {
      "display_name": "Python 3 (ipykernel)",
      "language": "python",
      "name": "python3"
    },
    "language_info": {
      "codemirror_mode": {
        "name": "ipython",
        "version": 3
      },
      "file_extension": ".py",
      "mimetype": "text/x-python",
      "name": "python",
      "nbconvert_exporter": "python",
      "pygments_lexer": "ipython3",
      "version": "3.8.10"
    },
    "test_info": {
      "id": "103968b6e58654ea9ce8625796a5b8f12478a71b"
    },
    "colab": {
      "name": "Homework_4_test.ipynb",
      "provenance": []
    }
  },
  "nbformat": 4,
  "nbformat_minor": 5
}