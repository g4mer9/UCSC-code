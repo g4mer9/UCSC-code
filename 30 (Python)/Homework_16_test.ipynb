{
  "cells": [
    {
      "cell_type": "markdown",
      "metadata": {
        "id": "Slg_YAu4kNCo"
      },
      "source": [
        "Before you turn this problem in, make sure everything runs as expected. First, **restart the kernel** (in the menubar, select Kernel$\\rightarrow$Restart) and then **run all cells** (in the menubar, select Cell$\\rightarrow$Run All).\n",
        "\n",
        "Make sure you fill in any place that says `YOUR CODE HERE` or \"YOUR ANSWER HERE\", as well as your name and collaborators below:"
      ]
    },
    {
      "cell_type": "code",
      "execution_count": null,
      "metadata": {
        "id": "DlbPj1ZIkNCr"
      },
      "outputs": [],
      "source": [
        "NAME = \"\"\n",
        "COLLABORATORS = \"\""
      ]
    },
    {
      "cell_type": "markdown",
      "metadata": {
        "id": "5tKJEucEkNCs"
      },
      "source": [
        "---"
      ]
    },
    {
      "cell_type": "markdown",
      "metadata": {
        "deletable": false,
        "editable": false,
        "nbgrader": {
          "grade": false,
          "grade_id": "cell-94263b50821e127f",
          "locked": true,
          "schema_version": 3,
          "solution": false
        },
        "id": "EwdOWJUvkNCs"
      },
      "source": [
        "# CSE 30 Winter 2022 - Homework 16\n",
        "\n",
        "Copyright Luca de Alfaro, 2020.  License: [CC-BY-NC-ND](https://creativecommons.org/licenses/by-nc-nd/4.0/).\n",
        "\n",
        "\n",
        "### Instructions\n",
        "\n",
        "Please disregard the YOUR NAME and COLLABORATORS above.  They are put there atomatically by the grading tool.\n",
        "You can find instructions on how to work on a homework on Canvas.  Here is a short summary: \n",
        "\n",
        "### Submitting your work\n",
        "\n",
        "To submit your work: \n",
        "\n",
        "* First, click on \"Runtime > Restart and run all\", and check that you get no errors.  This enables you to catch any error you might have introduced, and not noticed, due to your running cells out of order. \n",
        "* Second, download the notebook in .ipynb format (File > Download .ipynb) and upload the .ipynb file to [this form](https://docs.google.com/forms/d/e/1FAIpQLSc8Mdao4KHmzgnVO4UHmS-pnyjuDKDkwusAcJZxbIPmn8vlEA/viewform?usp=sf_link).  This homework is due at **11:59pm on Friday, 11 March 2022**.\n",
        "\n",
        "You can submit multiple times; the last submission before the deadline is the one that counts.\n",
        "\n",
        "### Homework format\n",
        "\n",
        "For each question in this notebook, there is: \n",
        "\n",
        "* A text description of the problem. \n",
        "* One or more places where you have to insert your solution.  You need to complete every place marked: \n",
        "\n",
        "    `# YOUR CODE HERE`\n",
        "    \n",
        "    and you should not modify any other place. \n",
        "* One or more test cells.  Each cell is worth some number of points, marked at the top.  You should not modify these tests cells.  The tests pass if no error is printed out: when there is a statement that says, for instance: \n",
        "\n",
        "    `assert x == 2`\n",
        "    \n",
        "    then the test passes if `x` has value 2, and fails otherwise.  You can insert a `print(x)` (for this case!) somewhere if you want to debug your work; it is up to you.  \n",
        "    \n",
        "### Notes:\n",
        "\n",
        "* Your code will be tested both according to the tests you can see (the `assert` statements you can see), _and_ additional tests.  This prevents you from hard-coding the answer to the particular questions posed.  Your code should solve the _general_ intended case, not hard-code the particular answer for the values used in the tests. \n",
        "\n",
        "* **Please do not delete or add cells!** The test is autograded, and if you modify the test by adding or deleting cells, even if you re-add cells you delete, you may not receive credit. \n",
        "\n",
        "* **Please do not import modules that are not part of the [standard library](https://docs.python.org/3/library/index.html).** You do not need any, and they will likely not available in the grading environment, leading your code to fail. \n",
        "\n",
        "* **If you are inactive too long, your notebook might get disconnected from the back-end.** Your work is never lost, but you have to re-run all the cells before you continue. \n",
        "\n",
        "* You can write out print statements in your code, to help you test/debug it. But remember: the code is graded on the basis of what it outputs or returns, not on the basis of what it prints.\n",
        "\n",
        "* **TAs and tutors have access to this notebook,** so if you let them know you need their help, they can look at your work and give you advice. \n",
        "\n",
        "### Grading\n",
        "\n",
        "Each cell where there are tests is worth a certain number of points.  You get the points allocated to a cell only if you pass _all_ the tests in the cell. \n",
        "\n",
        "The tests in a cell include both the tests you can see, and other, similar, tests that are used for grading only.  Therefore, you cannot hard-code the solutions: you really have to solve the essence of the problem, to receive the points in a cell. \n",
        "\n",
        "### Code of Conduct\n",
        "\n",
        "* Work on the test yourself, alone. \n",
        "* You can search documentation on the web, on sites such as the Python documentation sites, Stackoverflow, and similar, and you can use the results. \n",
        "* You cannot share your work with others or solicit their help."
      ]
    },
    {
      "cell_type": "markdown",
      "metadata": {
        "deletable": false,
        "editable": false,
        "nbgrader": {
          "grade": false,
          "grade_id": "cell-34d3e7c253e0c37e",
          "locked": true,
          "schema_version": 3,
          "solution": false
        },
        "id": "MMPRoYc_kNCt"
      },
      "source": [
        "----\n",
        "\n",
        "## From Sudoku to SAT\n",
        "\n",
        "Sudoku is a search problem.  SAT is a prototypical search problem, and more precisely, SAT is perhaps the most basic of the _NP-Complete_ problems: the problems where, if you could only _guess_ the solution, you could _verify_ that it is truly a solution in time that is polynomial in the size of the problem (in case of SAT, the sum of the length of all the clauses). \n",
        "\n",
        "This opens the question: can we solve Sudoku, rather than by writing a special-purpose Sudoku solver, by translating the Sudoku problem to SAT, and using an off-the-shelf SAT solver?  There is a lot of research that went into developing efficient SAT solvers: would it be more efficient to use a custom solver, as we did, or to translate and rely on an off-the-shelf SAT solver?  Let's experiment. "
      ]
    },
    {
      "cell_type": "markdown",
      "metadata": {
        "deletable": false,
        "editable": false,
        "nbgrader": {
          "grade": false,
          "grade_id": "cell-15eefbe643b16ee5",
          "locked": true,
          "schema_version": 3,
          "solution": false
        },
        "id": "dQLF0ixrkNCu"
      },
      "source": [
        "### Installing a SAT solver library"
      ]
    },
    {
      "cell_type": "markdown",
      "metadata": {
        "deletable": false,
        "editable": false,
        "nbgrader": {
          "grade": false,
          "grade_id": "cell-e15cc35a1c77b80d",
          "locked": true,
          "schema_version": 3,
          "solution": false
        },
        "id": "1gu39DD3kNCu"
      },
      "source": [
        "Let us install our library for SAT solvers.  Here is a link to the [pysat](https://pysathq.github.io/usage.html) documentation. "
      ]
    },
    {
      "cell_type": "code",
      "execution_count": 1,
      "metadata": {
        "deletable": false,
        "editable": false,
        "nbgrader": {
          "grade": false,
          "grade_id": "cell-aff8b789d9842c4d",
          "locked": true,
          "schema_version": 3,
          "solution": false
        },
        "colab": {
          "base_uri": "https://localhost:8080/"
        },
        "id": "R4sI1fLzkNCv",
        "outputId": "409af091-2c93-48a4-b880-0692f60f6b3e"
      },
      "outputs": [
        {
          "output_type": "stream",
          "name": "stdout",
          "text": [
            "Collecting python-sat\n",
            "  Downloading python_sat-0.1.7.dev16-cp37-cp37m-manylinux2010_x86_64.whl (1.8 MB)\n",
            "\u001b[K     |████████████████████████████████| 1.8 MB 3.9 MB/s \n",
            "\u001b[?25hRequirement already satisfied: six in /usr/local/lib/python3.7/dist-packages (from python-sat) (1.15.0)\n",
            "Installing collected packages: python-sat\n",
            "Successfully installed python-sat-0.1.7.dev16\n"
          ]
        }
      ],
      "source": [
        "try:\n",
        "    import pysat\n",
        "except:\n",
        "    !pip install python-sat\n",
        "    import pysat\n"
      ]
    },
    {
      "cell_type": "markdown",
      "metadata": {
        "deletable": false,
        "editable": false,
        "nbgrader": {
          "grade": false,
          "grade_id": "cell-53ebf65bd5c63d98",
          "locked": true,
          "schema_version": 3,
          "solution": false
        },
        "id": "KPsMPLNykNCv"
      },
      "source": [
        "Let us check that our solver works.  The Glucose solver is one of the solvers. "
      ]
    },
    {
      "cell_type": "code",
      "execution_count": 2,
      "metadata": {
        "deletable": false,
        "editable": false,
        "nbgrader": {
          "grade": false,
          "grade_id": "cell-5969e2b9880c9cde",
          "locked": true,
          "schema_version": 3,
          "solution": false
        },
        "colab": {
          "base_uri": "https://localhost:8080/"
        },
        "id": "YPBkMIkfkNCw",
        "outputId": "18ddecab-4671-4450-9373-1ed949e70285"
      },
      "outputs": [
        {
          "output_type": "stream",
          "name": "stdout",
          "text": [
            "True\n",
            "[-1, -2, -3]\n"
          ]
        }
      ],
      "source": [
        "from pysat.solvers import Glucose3\n",
        "g = Glucose3()\n",
        "g.add_clause([-1, 2])\n",
        "g.add_clause([-2, 3])\n",
        "print(g.solve())\n",
        "print(g.get_model())\n",
        "g.delete()\n"
      ]
    },
    {
      "cell_type": "markdown",
      "metadata": {
        "deletable": false,
        "editable": false,
        "nbgrader": {
          "grade": false,
          "grade_id": "cell-f27b373a697746e6",
          "locked": true,
          "schema_version": 3,
          "solution": false
        },
        "id": "p6I81S0UkNCw"
      },
      "source": [
        "Rather than deleting the solver after use with `g.delete()`, it is better to use the solver within a `with` clause: this avoids the problem of forgetting to delete the solver after use. "
      ]
    },
    {
      "cell_type": "code",
      "execution_count": 3,
      "metadata": {
        "deletable": false,
        "editable": false,
        "nbgrader": {
          "grade": false,
          "grade_id": "cell-4aaece271e6a53c2",
          "locked": true,
          "schema_version": 3,
          "solution": false
        },
        "colab": {
          "base_uri": "https://localhost:8080/"
        },
        "id": "rsTf3CWzkNCw",
        "outputId": "8d7a53f5-ac6e-42c2-c6fe-31a7577976c3"
      },
      "outputs": [
        {
          "output_type": "stream",
          "name": "stdout",
          "text": [
            "True\n",
            "[-1, -2, -3]\n"
          ]
        }
      ],
      "source": [
        "with Glucose3() as g:\n",
        "    g.add_clause([-1, 2])\n",
        "    g.add_clause([-2, 3])\n",
        "    print(g.solve())\n",
        "    print(g.get_model())\n"
      ]
    },
    {
      "cell_type": "markdown",
      "metadata": {
        "deletable": false,
        "editable": false,
        "nbgrader": {
          "grade": false,
          "grade_id": "cell-6527f161d077599b",
          "locked": true,
          "schema_version": 3,
          "solution": false
        },
        "id": "IAsobh0ukNCw"
      },
      "source": [
        "There are also Glucose4, and Minisat22.  They all work in the same way. "
      ]
    },
    {
      "cell_type": "code",
      "execution_count": 4,
      "metadata": {
        "deletable": false,
        "editable": false,
        "nbgrader": {
          "grade": false,
          "grade_id": "cell-2a74bff834cc9d4d",
          "locked": true,
          "schema_version": 3,
          "solution": false
        },
        "colab": {
          "base_uri": "https://localhost:8080/"
        },
        "id": "R-lT_JggkNCx",
        "outputId": "365480fe-73e5-4685-f00f-7f1e43efe05d"
      },
      "outputs": [
        {
          "output_type": "stream",
          "name": "stdout",
          "text": [
            "True\n",
            "[-1, -2, -3]\n"
          ]
        }
      ],
      "source": [
        "from pysat.solvers import Glucose4, Minisat22\n",
        "with Minisat22() as g:\n",
        "    g.add_clause([-1, 2])\n",
        "    g.add_clause([-2, 3])\n",
        "    print(g.solve())\n",
        "    print(g.get_model())\n"
      ]
    },
    {
      "cell_type": "markdown",
      "metadata": {
        "deletable": false,
        "editable": false,
        "nbgrader": {
          "grade": false,
          "grade_id": "cell-ebd0a7b432694762",
          "locked": true,
          "schema_version": 3,
          "solution": false
        },
        "id": "JrvKoafikNCx"
      },
      "source": [
        "## A `SudokuViaSAT` class. \n",
        "\n",
        "The first thing we do is to write a Sudoku class that can represent a Sudoku problem to be solved.  Unlike our previosu representation, each cell here will contain either a digit 1..9, or 0, where 0 represents an unknown digit. \n",
        "We do not need to represent our solver's state of knowledge in terms of sets of digits, since the seach for a solution will be done in the SAT solver. \n",
        "\n",
        "The class has three methods, which we will fill in later: one for translating the Sudoku into a SAT instance, one for solving the SAT instance, and another one for using the solution to the SAT instance to fill in the unspecified cells of the Sudoku problem. \n",
        "\n",
        "Contrary to the previous approach, we keep the state of the board as a numpy array, of size 9 x 9; this will make indexing in the array a little bit more pleasant. \n",
        "The reason we could not use this representation earlier is that we wanted to associate with each cell a _set_ of digits, and sets are not pleasant to represent in Numpy; single digits are. "
      ]
    },
    {
      "cell_type": "code",
      "execution_count": 5,
      "metadata": {
        "deletable": false,
        "nbgrader": {
          "grade": false,
          "grade_id": "cell-544f7f15c1b64ec2",
          "locked": false,
          "schema_version": 3,
          "solution": true
        },
        "id": "sVsoDunskNCx"
      },
      "outputs": [],
      "source": [
        "import numpy as np\n",
        "\n",
        "class SudokuViaSAT(object):\n",
        "\n",
        "    def __init__(self, sudoku_string):\n",
        "        \"\"\"\n",
        "        @param sudoku_string: an 81-long digit string: 0 represents an unknown\n",
        "            digit, and 1..9 represent the respective digit.\n",
        "        \"\"\"\n",
        "        assert len(sudoku_string) > 80\n",
        "        self.board = np.zeros((9, 9), dtype=np.uint8)\n",
        "        for i in range(9):\n",
        "            for j in range(9):\n",
        "                self.board[i, j] = int(sudoku_string[i * 9 + j])\n",
        "        self.sat = None # This will be the SAT instance.\n",
        "        # Perform here any other initialization you think you need.\n",
        "        # YOUR CODE HERE\n",
        "        \n",
        "\n",
        "    def show(self):\n",
        "        \"\"\"Prints out the board.\"\"\"\n",
        "        print(\"+---+---+---+\")\n",
        "        for i in range(9):\n",
        "            r = '|'\n",
        "            for j in range(9):\n",
        "                r += \".\" if self.board[i, j] == 0 else str(self.board[i, j])\n",
        "                if (j + 1) % 3 == 0:\n",
        "                    r += \"|\"\n",
        "            print(r)\n",
        "            if (i + 1) % 3 == 0:\n",
        "                print(\"+---+---+---+\")\n"
      ]
    },
    {
      "cell_type": "code",
      "execution_count": null,
      "metadata": {
        "deletable": false,
        "editable": false,
        "nbgrader": {
          "grade": false,
          "grade_id": "cell-a9381a141dd36a44",
          "locked": true,
          "schema_version": 3,
          "solution": false
        },
        "id": "xaAYR2GtkNCx"
      },
      "outputs": [],
      "source": [
        "problem = \"000000061350000000400050000020000800000601000000700000000080200600400000007000010\"\n",
        "sd = SudokuViaSAT(problem)\n",
        "sd.show()\n"
      ]
    },
    {
      "cell_type": "markdown",
      "metadata": {
        "deletable": false,
        "editable": false,
        "nbgrader": {
          "grade": false,
          "grade_id": "cell-abd5fa8c47c1156d",
          "locked": true,
          "schema_version": 3,
          "solution": false
        },
        "id": "KDmrzAo-kNCy"
      },
      "source": [
        "## Variables\n",
        "\n",
        "We base our trasnslation of Sudoku into SAT on variables $p_{dij}$, where $p_{dij}$ expresses the fact that the digit $d$ appears at coordinates $(i, j)$. \n",
        "Since SAT solvers represent a variable by an integer, we will have that $p_{dij}$ is encoded simply using the integer $dij$ (in decimal notation), and the literal $\\bar{p}_{dij}$ will be encoded as $-dij$. \n",
        "\n",
        "For example, to express that digit 3 appears at coordinates 6, 7, we use the literal 367.  To express the negation of this, $\\bar{p}_{367}$, that is, that digit 3 _does not_ appear at coordinates 6, 7, we use the literal -367. \n",
        "\n",
        "We thus start by writing two helper functions, `encode_variable` and `decode_variable`, that go from $d, i, j$ to the corresponding integer, and vice versa.  \n",
        "We write one of them for you, and we ask you to write the other."
      ]
    },
    {
      "cell_type": "code",
      "execution_count": 7,
      "metadata": {
        "deletable": false,
        "editable": false,
        "nbgrader": {
          "grade": false,
          "grade_id": "cell-c927ed1f885fd6a6",
          "locked": true,
          "schema_version": 3,
          "solution": false
        },
        "id": "UgrUf8gVkNCy"
      },
      "outputs": [],
      "source": [
        "def encode_variable(d, i, j):\n",
        "    \"\"\"This function creates the variable (the integer) representing the\n",
        "    fact that digit d appears in position i, j.\n",
        "    Of course, to obtain the complement variable, you can just negate\n",
        "    (take the negative) of the returned integer.\n",
        "    Note that it must be: 1 <= d <= 9, 0 <= i <= 8, 0 <= j <= 8.\"\"\"\n",
        "    assert 1 <= d <= 9\n",
        "    assert 0 <= i < 9\n",
        "    assert 0 <= j < 9\n",
        "    # The int() below seems useless, but it is not.  If d is a numpy.uint8,\n",
        "    # as an element of the board is, this int() ensures that the generated\n",
        "    # literal is a normal Python integer, as the SAT solvers expect.\n",
        "    return int(d * 100 + i * 10 + j)\n"
      ]
    },
    {
      "cell_type": "code",
      "execution_count": 8,
      "metadata": {
        "deletable": false,
        "editable": false,
        "nbgrader": {
          "grade": false,
          "grade_id": "cell-64dcab3ae185dcff",
          "locked": true,
          "schema_version": 3,
          "solution": false
        },
        "id": "QDW3mD2AkNCy"
      },
      "outputs": [],
      "source": [
        "# Let's define a testing helper.\n",
        "\n",
        "def check_equal(x, y, msg=None):\n",
        "    if x != y:\n",
        "        if msg is None:\n",
        "            print(\"Error:\")\n",
        "        else:\n",
        "            print(\"Error in\", msg, \":\")\n",
        "        print(\"    Your answer was:\", x)\n",
        "        print(\"    Correct answer: \", y)\n",
        "    assert x == y, \"%r and %r are different\" % (x, y)\n"
      ]
    },
    {
      "cell_type": "code",
      "execution_count": 9,
      "metadata": {
        "deletable": false,
        "editable": false,
        "nbgrader": {
          "grade": false,
          "grade_id": "cell-ae889d901ccfc5aa",
          "locked": true,
          "schema_version": 3,
          "solution": false
        },
        "id": "0RUoBp8GkNCz"
      },
      "outputs": [],
      "source": [
        "check_equal(encode_variable(3, 6, 7), 367)\n"
      ]
    },
    {
      "cell_type": "markdown",
      "metadata": {
        "deletable": false,
        "editable": false,
        "nbgrader": {
          "grade": false,
          "grade_id": "cell-ffa2eb9646c2a7fa",
          "locked": true,
          "schema_version": 3,
          "solution": false
        },
        "id": "pWFdSnn3kNCz"
      },
      "source": [
        "It's your turn now to write a function `decode_variable` that is the opposite of `encode_variable`. "
      ]
    },
    {
      "cell_type": "code",
      "execution_count": 36,
      "metadata": {
        "deletable": false,
        "nbgrader": {
          "grade": false,
          "grade_id": "cell-549959a68f2b85d4",
          "locked": false,
          "schema_version": 3,
          "solution": true
        },
        "id": "_bkmS7G4kNCz"
      },
      "outputs": [],
      "source": [
        "def decode_variable(p):\n",
        "    \"\"\"Given an integer constructed as by _create_prediate above,\n",
        "    returns the tuple (d, i, j), where d is the digit, and i, j are\n",
        "    the cells where the digit is.  Returns None if the integer is out of\n",
        "    range.\n",
        "    Note that it must be: 1 <= d <= 9, 0 <= i <= 8, 0 <= j <= 8.\n",
        "    If this does not hold, return None.\n",
        "    Also return None if p is not in the range from 100, to 988 (the\n",
        "    highest and lowest values that p can assume).\n",
        "    Hint: modulo arithmetic via %, // is useful here!\"\"\"\n",
        "    # YOUR CODE HERE\n",
        "    x = []\n",
        "    if(str(p)[0]) == \"-\": \n",
        "        x.append(-int(str(p)[1]))\n",
        "        for i in range(len(str(p)[2:])):\n",
        "            x.append(int(str(p)[i+2]))\n",
        "    else:\n",
        "        for i in range(len(str(p))):\n",
        "            x.append(int(str(p)[i]))\n",
        "    return tuple(x)"
      ]
    },
    {
      "cell_type": "markdown",
      "metadata": {
        "deletable": false,
        "editable": false,
        "nbgrader": {
          "grade": false,
          "grade_id": "cell-fe38e522d03ccb0c",
          "locked": true,
          "schema_version": 3,
          "solution": false
        },
        "id": "VyIWuE7_kNCz"
      },
      "source": [
        "Let's test this. \n",
        "\n"
      ]
    },
    {
      "cell_type": "code",
      "execution_count": 37,
      "metadata": {
        "deletable": false,
        "editable": false,
        "nbgrader": {
          "grade": true,
          "grade_id": "cell-de5ad0dc9c87ce81",
          "locked": true,
          "points": 10,
          "schema_version": 3,
          "solution": false
        },
        "id": "tdD0nKnakNCz"
      },
      "outputs": [],
      "source": [
        "for d in range(1, 10):\n",
        "    for i in range(9):\n",
        "        for j in range(9):\n",
        "            r = decode_variable(encode_variable(d, i, j))\n",
        "            check_equal((d, i, j), r)\n",
        "\n",
        "r = decode_variable(-encode_variable(1, i, j))\n",
        "check_equal((-1, i, j), r)"
      ]
    },
    {
      "cell_type": "markdown",
      "metadata": {
        "deletable": false,
        "editable": false,
        "nbgrader": {
          "grade": false,
          "grade_id": "cell-cbecc904d5c47d2c",
          "locked": true,
          "schema_version": 3,
          "solution": false
        },
        "id": "mzPd9LPdkNCz"
      },
      "source": [
        "## Creating the clauses that represent a generic Sudoku problem\n",
        "\n",
        "The key to translating Sudoku to SAT consists in producing a list of clauses that encodes the rules of Sudoku.  We will create list of clauses expressing the following. \n",
        "Below, we have $1 \\leq d \\leq 9$, and $0 \\leq i, j \\leq 8$. \n",
        "\n",
        "1. At each cell $i, j$ at least one digit $d$ must appear.\n",
        "2. At each cell $i, j$, at most one digit $d$ must appear. \n",
        "* If a digit $d$ appears at cell $i, j$, the same digit $d$ will not appear elsewhere on: \n",
        "    3. The same column. \n",
        "    4. The same row. \n",
        "    5. The same 3x3 Sudoku block. \n",
        "\n",
        "Note that conditions 1 and 2 are obvious to a human, and were encoded implicitly in our Sudoku solver.  Our SAT solver, however, has no idea of what a variable like $p_{367}$ means, or that digit 3 appears in cell 6, 7; therefore, we must teach it that exactly one digit apppears in each cell, via clauses. \n",
        "\n",
        "As an example, you can say that at at least one digit appears in cell 6, 7 via the clause: \n",
        "\n",
        "$$\n",
        "[p_{167}, p_{267}, \\ldots, p_{967}]\n",
        "$$\n",
        "\n",
        "and you can say that if 2 appears in cell 67, then 3 does not apper in that same cell, via: \n",
        "\n",
        "$$\n",
        "[\\bar{p}_{267}, \\bar{p}_{367}] \\; . \n",
        "$$\n",
        "\n",
        "In literals ready for SAT, the latter is [-267, -367]. \n",
        "Similarly, to say that if a 2 appears at 6, 7, it does not appear on the same row at 6, 8, you would use the clause [-267, -268]. \n",
        "\n",
        "You will be creating these list of clauses below, for the cases 1, 2, 3, 4, 5 above. "
      ]
    },
    {
      "cell_type": "markdown",
      "metadata": {
        "deletable": false,
        "editable": false,
        "nbgrader": {
          "grade": false,
          "grade_id": "cell-ca2dd717c732e45f",
          "locked": true,
          "schema_version": 3,
          "solution": false
        },
        "id": "jfjfkRP3kNC0"
      },
      "source": [
        "### 1. Cells contain at least one digit\n",
        "\n",
        "For each cell $i, j$, you have to create a clause stating that at least one $p_{dij}$ is true, for some $d$.  You can easily build it as the disjunction $p_{1ij} \\vee p_{2ij} \\vee \\cdots \\vee p_{9ij}$, corresponding to the clause:  \n",
        "\n",
        "$$\n",
        "[p_{1ij}, p_{2ij}, \\ldots, p_{9ij}] \\; . \n",
        "$$\n",
        "\n",
        "Of course, to generate the clause for the SAT solver, you have to encode the variables $p_{1ij}, p_{2ij}, \\ldots, p_{9ij}$ using `encode_variable`."
      ]
    },
    {
      "cell_type": "code",
      "execution_count": 155,
      "metadata": {
        "deletable": false,
        "nbgrader": {
          "grade": false,
          "grade_id": "cell-62e8e10c5f6ad251",
          "locked": false,
          "schema_version": 3,
          "solution": true
        },
        "id": "q8mETSahkNC0"
      },
      "outputs": [],
      "source": [
        "def every_cell_contains_at_least_one_digit():\n",
        "    \"\"\"Returns a list of clauses, stating that every cell must contain\n",
        "    at least one digit.\"\"\"\n",
        "    # YOUR CODE HERE\n",
        "    returnList = []\n",
        "    for i in range(9):\n",
        "        for j in range(9):\n",
        "            currentClause = []\n",
        "            for d in range(1, 10):\n",
        "                currentClause.append(encode_variable(d, i, j))\n",
        "            returnList.append(currentClause)\n",
        "    return returnList\n"
      ]
    },
    {
      "cell_type": "markdown",
      "metadata": {
        "deletable": false,
        "editable": false,
        "nbgrader": {
          "grade": false,
          "grade_id": "cell-2f81606473f887ea",
          "locked": true,
          "schema_version": 3,
          "solution": false
        },
        "id": "aeP5sKQrkNC0"
      },
      "source": [
        "We test it with help of a SAT solver. "
      ]
    },
    {
      "cell_type": "code",
      "execution_count": 156,
      "metadata": {
        "deletable": false,
        "editable": false,
        "nbgrader": {
          "grade": true,
          "grade_id": "cell-c33be26c623c5807",
          "locked": true,
          "points": 10,
          "schema_version": 3,
          "solution": false
        },
        "id": "qat-6riZkNC0"
      },
      "outputs": [],
      "source": [
        "def prepare(g):\n",
        "    for c in every_cell_contains_at_least_one_digit():\n",
        "        g.add_clause(c)\n",
        "\n",
        "with Glucose3() as g:\n",
        "    prepare(g)\n",
        "    # This can be solved.\n",
        "    check_equal(g.solve(), True)\n",
        "    for d in range(1, 10):\n",
        "        # These clauses state that no digit appears at 4, 5.\n",
        "        # You can change the coordinates if you like.\n",
        "        g.add_clause([-encode_variable(d, 4, 5)])\n",
        "    check_equal(g.solve(), False)\n",
        "\n"
      ]
    },
    {
      "cell_type": "markdown",
      "metadata": {
        "deletable": false,
        "editable": false,
        "nbgrader": {
          "grade": false,
          "grade_id": "cell-f49a6c58fad3212b",
          "locked": true,
          "schema_version": 3,
          "solution": false
        },
        "id": "K5ljwoMekNC0"
      },
      "source": [
        "### 2. Cells contain at most one digit\n",
        "\n",
        "Next, we need to express the fact that each cell can contain at most one digit $d$. \n",
        "The idea is to write clauses that say that if a cell $i,j$ contains a digit $d$, it does not contain a different digit $d'$. \n",
        "This is expressed by $p_{dij} \\rightarrow \\bar{p}_{d'ij}$ for all $0 \\leq i, j \\leq 8$ and all $1 \\leq d, d' \\leq 9$ with $d \\neq d'$.  In turn, the implication $p_{dij} \\rightarrow \\bar{p}_{d'ij}$ can be expressed as the clause \n",
        "\n",
        "$$\n",
        "[\\bar{p}_{dij}, \\bar{p}_{d'ij}] \\; , \n",
        "$$\n",
        "\n",
        "for all $0 \\leq i, j \\leq 8$ and all $1 \\leq d, d' \\leq 9$ with $d \\neq d'$. \n",
        "The clause says that either $d$ is not at $i,j$, or $d'$ is not at $i,j$: this ensures that $d, d'$ are not both at $i, j$.\n"
      ]
    },
    {
      "cell_type": "code",
      "execution_count": 159,
      "metadata": {
        "deletable": false,
        "nbgrader": {
          "grade": false,
          "grade_id": "cell-4bbe3f0626ade2c8",
          "locked": false,
          "schema_version": 3,
          "solution": true
        },
        "id": "op0vqHKPkNC0"
      },
      "outputs": [],
      "source": [
        "def every_cell_contains_at_most_one_digit():\n",
        "    \"\"\"Returns a list of clauses, stating that every cell contains\n",
        "    at most one digit.\"\"\"\n",
        "    # YOUR CODE HERE\n",
        "    returnList = []\n",
        "    for i in range(9):\n",
        "        for j in range(9):\n",
        "            for d in range(1, 10):\n",
        "                for dPrime in range(1, 10):\n",
        "                    currentClause = []\n",
        "                    currentClause.append(-encode_variable(d, i, j))\n",
        "                    if d != dPrime: \n",
        "                        currentClause.append(-encode_variable(dPrime, i, j))\n",
        "                        returnList.append(currentClause)\n",
        "    return returnList"
      ]
    },
    {
      "cell_type": "markdown",
      "metadata": {
        "deletable": false,
        "editable": false,
        "nbgrader": {
          "grade": false,
          "grade_id": "cell-d77875fbba9b7086",
          "locked": true,
          "schema_version": 3,
          "solution": false
        },
        "id": "GHnU7u2XkNC0"
      },
      "source": [
        "We test this again with the help of a SAT solver. "
      ]
    },
    {
      "cell_type": "code",
      "execution_count": 158,
      "metadata": {
        "deletable": false,
        "editable": false,
        "nbgrader": {
          "grade": true,
          "grade_id": "cell-a71eb0e7a8e11a4e",
          "locked": true,
          "points": 10,
          "schema_version": 3,
          "solution": false
        },
        "id": "7rEZCtqGkNC1",
        "colab": {
          "base_uri": "https://localhost:8080/"
        },
        "outputId": "f8a6d177-0323-45d1-8e02-24e6129ed758"
      },
      "outputs": [
        {
          "output_type": "stream",
          "name": "stdout",
          "text": [
            "[[-100, -200], [-100, -300], [-100, -400], [-100, -500], [-100, -600], [-100, -700], [-100, -800], [-100, -900], [-200, -100], [-200, -300], [-200, -400], [-200, -500], [-200, -600], [-200, -700], [-200, -800], [-200, -900], [-300, -100], [-300, -200], [-300, -400], [-300, -500], [-300, -600], [-300, -700], [-300, -800], [-300, -900], [-400, -100], [-400, -200], [-400, -300], [-400, -500], [-400, -600], [-400, -700], [-400, -800], [-400, -900], [-500, -100], [-500, -200], [-500, -300], [-500, -400], [-500, -600], [-500, -700], [-500, -800], [-500, -900], [-600, -100], [-600, -200], [-600, -300], [-600, -400], [-600, -500], [-600, -700], [-600, -800], [-600, -900], [-700, -100], [-700, -200], [-700, -300], [-700, -400], [-700, -500], [-700, -600], [-700, -800], [-700, -900], [-800, -100], [-800, -200], [-800, -300], [-800, -400], [-800, -500], [-800, -600], [-800, -700], [-800, -900], [-900, -100], [-900, -200], [-900, -300], [-900, -400], [-900, -500], [-900, -600], [-900, -700], [-900, -800], [-101, -201], [-101, -301], [-101, -401], [-101, -501], [-101, -601], [-101, -701], [-101, -801], [-101, -901], [-201, -101], [-201, -301], [-201, -401], [-201, -501], [-201, -601], [-201, -701], [-201, -801], [-201, -901], [-301, -101], [-301, -201], [-301, -401], [-301, -501], [-301, -601], [-301, -701], [-301, -801], [-301, -901], [-401, -101], [-401, -201], [-401, -301], [-401, -501], [-401, -601], [-401, -701], [-401, -801], [-401, -901], [-501, -101], [-501, -201], [-501, -301], [-501, -401], [-501, -601], [-501, -701], [-501, -801], [-501, -901], [-601, -101], [-601, -201], [-601, -301], [-601, -401], [-601, -501], [-601, -701], [-601, -801], [-601, -901], [-701, -101], [-701, -201], [-701, -301], [-701, -401], [-701, -501], [-701, -601], [-701, -801], [-701, -901], [-801, -101], [-801, -201], [-801, -301], [-801, -401], [-801, -501], [-801, -601], [-801, -701], [-801, -901], [-901, -101], [-901, -201], [-901, -301], [-901, -401], [-901, -501], [-901, -601], [-901, -701], [-901, -801], [-102, -202], [-102, -302], [-102, -402], [-102, -502], [-102, -602], [-102, -702], [-102, -802], [-102, -902], [-202, -102], [-202, -302], [-202, -402], [-202, -502], [-202, -602], [-202, -702], [-202, -802], [-202, -902], [-302, -102], [-302, -202], [-302, -402], [-302, -502], [-302, -602], [-302, -702], [-302, -802], [-302, -902], [-402, -102], [-402, -202], [-402, -302], [-402, -502], [-402, -602], [-402, -702], [-402, -802], [-402, -902], [-502, -102], [-502, -202], [-502, -302], [-502, -402], [-502, -602], [-502, -702], [-502, -802], [-502, -902], [-602, -102], [-602, -202], [-602, -302], [-602, -402], [-602, -502], [-602, -702], [-602, -802], [-602, -902], [-702, -102], [-702, -202], [-702, -302], [-702, -402], [-702, -502], [-702, -602], [-702, -802], [-702, -902], [-802, -102], [-802, -202], [-802, -302], [-802, -402], [-802, -502], [-802, -602], [-802, -702], [-802, -902], [-902, -102], [-902, -202], [-902, -302], [-902, -402], [-902, -502], [-902, -602], [-902, -702], [-902, -802], [-103, -203], [-103, -303], [-103, -403], [-103, -503], [-103, -603], [-103, -703], [-103, -803], [-103, -903], [-203, -103], [-203, -303], [-203, -403], [-203, -503], [-203, -603], [-203, -703], [-203, -803], [-203, -903], [-303, -103], [-303, -203], [-303, -403], [-303, -503], [-303, -603], [-303, -703], [-303, -803], [-303, -903], [-403, -103], [-403, -203], [-403, -303], [-403, -503], [-403, -603], [-403, -703], [-403, -803], [-403, -903], [-503, -103], [-503, -203], [-503, -303], [-503, -403], [-503, -603], [-503, -703], [-503, -803], [-503, -903], [-603, -103], [-603, -203], [-603, -303], [-603, -403], [-603, -503], [-603, -703], [-603, -803], [-603, -903], [-703, -103], [-703, -203], [-703, -303], [-703, -403], [-703, -503], [-703, -603], [-703, -803], [-703, -903], [-803, -103], [-803, -203], [-803, -303], [-803, -403], [-803, -503], [-803, -603], [-803, -703], [-803, -903], [-903, -103], [-903, -203], [-903, -303], [-903, -403], [-903, -503], [-903, -603], [-903, -703], [-903, -803], [-104, -204], [-104, -304], [-104, -404], [-104, -504], [-104, -604], [-104, -704], [-104, -804], [-104, -904], [-204, -104], [-204, -304], [-204, -404], [-204, -504], [-204, -604], [-204, -704], [-204, -804], [-204, -904], [-304, -104], [-304, -204], [-304, -404], [-304, -504], [-304, -604], [-304, -704], [-304, -804], [-304, -904], [-404, -104], [-404, -204], [-404, -304], [-404, -504], [-404, -604], [-404, -704], [-404, -804], [-404, -904], [-504, -104], [-504, -204], [-504, -304], [-504, -404], [-504, -604], [-504, -704], [-504, -804], [-504, -904], [-604, -104], [-604, -204], [-604, -304], [-604, -404], [-604, -504], [-604, -704], [-604, -804], [-604, -904], [-704, -104], [-704, -204], [-704, -304], [-704, -404], [-704, -504], [-704, -604], [-704, -804], [-704, -904], [-804, -104], [-804, -204], [-804, -304], [-804, -404], [-804, -504], [-804, -604], [-804, -704], [-804, -904], [-904, -104], [-904, -204], [-904, -304], [-904, -404], [-904, -504], [-904, -604], [-904, -704], [-904, -804], [-105, -205], [-105, -305], [-105, -405], [-105, -505], [-105, -605], [-105, -705], [-105, -805], [-105, -905], [-205, -105], [-205, -305], [-205, -405], [-205, -505], [-205, -605], [-205, -705], [-205, -805], [-205, -905], [-305, -105], [-305, -205], [-305, -405], [-305, -505], [-305, -605], [-305, -705], [-305, -805], [-305, -905], [-405, -105], [-405, -205], [-405, -305], [-405, -505], [-405, -605], [-405, -705], [-405, -805], [-405, -905], [-505, -105], [-505, -205], [-505, -305], [-505, -405], [-505, -605], [-505, -705], [-505, -805], [-505, -905], [-605, -105], [-605, -205], [-605, -305], [-605, -405], [-605, -505], [-605, -705], [-605, -805], [-605, -905], [-705, -105], [-705, -205], [-705, -305], [-705, -405], [-705, -505], [-705, -605], [-705, -805], [-705, -905], [-805, -105], [-805, -205], [-805, -305], [-805, -405], [-805, -505], [-805, -605], [-805, -705], [-805, -905], [-905, -105], [-905, -205], [-905, -305], [-905, -405], [-905, -505], [-905, -605], [-905, -705], [-905, -805], [-106, -206], [-106, -306], [-106, -406], [-106, -506], [-106, -606], [-106, -706], [-106, -806], [-106, -906], [-206, -106], [-206, -306], [-206, -406], [-206, -506], [-206, -606], [-206, -706], [-206, -806], [-206, -906], [-306, -106], [-306, -206], [-306, -406], [-306, -506], [-306, -606], [-306, -706], [-306, -806], [-306, -906], [-406, -106], [-406, -206], [-406, -306], [-406, -506], [-406, -606], [-406, -706], [-406, -806], [-406, -906], [-506, -106], [-506, -206], [-506, -306], [-506, -406], [-506, -606], [-506, -706], [-506, -806], [-506, -906], [-606, -106], [-606, -206], [-606, -306], [-606, -406], [-606, -506], [-606, -706], [-606, -806], [-606, -906], [-706, -106], [-706, -206], [-706, -306], [-706, -406], [-706, -506], [-706, -606], [-706, -806], [-706, -906], [-806, -106], [-806, -206], [-806, -306], [-806, -406], [-806, -506], [-806, -606], [-806, -706], [-806, -906], [-906, -106], [-906, -206], [-906, -306], [-906, -406], [-906, -506], [-906, -606], [-906, -706], [-906, -806], [-107, -207], [-107, -307], [-107, -407], [-107, -507], [-107, -607], [-107, -707], [-107, -807], [-107, -907], [-207, -107], [-207, -307], [-207, -407], [-207, -507], [-207, -607], [-207, -707], [-207, -807], [-207, -907], [-307, -107], [-307, -207], [-307, -407], [-307, -507], [-307, -607], [-307, -707], [-307, -807], [-307, -907], [-407, -107], [-407, -207], [-407, -307], [-407, -507], [-407, -607], [-407, -707], [-407, -807], [-407, -907], [-507, -107], [-507, -207], [-507, -307], [-507, -407], [-507, -607], [-507, -707], [-507, -807], [-507, -907], [-607, -107], [-607, -207], [-607, -307], [-607, -407], [-607, -507], [-607, -707], [-607, -807], [-607, -907], [-707, -107], [-707, -207], [-707, -307], [-707, -407], [-707, -507], [-707, -607], [-707, -807], [-707, -907], [-807, -107], [-807, -207], [-807, -307], [-807, -407], [-807, -507], [-807, -607], [-807, -707], [-807, -907], [-907, -107], [-907, -207], [-907, -307], [-907, -407], [-907, -507], [-907, -607], [-907, -707], [-907, -807], [-108, -208], [-108, -308], [-108, -408], [-108, -508], [-108, -608], [-108, -708], [-108, -808], [-108, -908], [-208, -108], [-208, -308], [-208, -408], [-208, -508], [-208, -608], [-208, -708], [-208, -808], [-208, -908], [-308, -108], [-308, -208], [-308, -408], [-308, -508], [-308, -608], [-308, -708], [-308, -808], [-308, -908], [-408, -108], [-408, -208], [-408, -308], [-408, -508], [-408, -608], [-408, -708], [-408, -808], [-408, -908], [-508, -108], [-508, -208], [-508, -308], [-508, -408], [-508, -608], [-508, -708], [-508, -808], [-508, -908], [-608, -108], [-608, -208], [-608, -308], [-608, -408], [-608, -508], [-608, -708], [-608, -808], [-608, -908], [-708, -108], [-708, -208], [-708, -308], [-708, -408], [-708, -508], [-708, -608], [-708, -808], [-708, -908], [-808, -108], [-808, -208], [-808, -308], [-808, -408], [-808, -508], [-808, -608], [-808, -708], [-808, -908], [-908, -108], [-908, -208], [-908, -308], [-908, -408], [-908, -508], [-908, -608], [-908, -708], [-908, -808], [-110, -210], [-110, -310], [-110, -410], [-110, -510], [-110, -610], [-110, -710], [-110, -810], [-110, -910], [-210, -110], [-210, -310], [-210, -410], [-210, -510], [-210, -610], [-210, -710], [-210, -810], [-210, -910], [-310, -110], [-310, -210], [-310, -410], [-310, -510], [-310, -610], [-310, -710], [-310, -810], [-310, -910], [-410, -110], [-410, -210], [-410, -310], [-410, -510], [-410, -610], [-410, -710], [-410, -810], [-410, -910], [-510, -110], [-510, -210], [-510, -310], [-510, -410], [-510, -610], [-510, -710], [-510, -810], [-510, -910], [-610, -110], [-610, -210], [-610, -310], [-610, -410], [-610, -510], [-610, -710], [-610, -810], [-610, -910], [-710, -110], [-710, -210], [-710, -310], [-710, -410], [-710, -510], [-710, -610], [-710, -810], [-710, -910], [-810, -110], [-810, -210], [-810, -310], [-810, -410], [-810, -510], [-810, -610], [-810, -710], [-810, -910], [-910, -110], [-910, -210], [-910, -310], [-910, -410], [-910, -510], [-910, -610], [-910, -710], [-910, -810], [-111, -211], [-111, -311], [-111, -411], [-111, -511], [-111, -611], [-111, -711], [-111, -811], [-111, -911], [-211, -111], [-211, -311], [-211, -411], [-211, -511], [-211, -611], [-211, -711], [-211, -811], [-211, -911], [-311, -111], [-311, -211], [-311, -411], [-311, -511], [-311, -611], [-311, -711], [-311, -811], [-311, -911], [-411, -111], [-411, -211], [-411, -311], [-411, -511], [-411, -611], [-411, -711], [-411, -811], [-411, -911], [-511, -111], [-511, -211], [-511, -311], [-511, -411], [-511, -611], [-511, -711], [-511, -811], [-511, -911], [-611, -111], [-611, -211], [-611, -311], [-611, -411], [-611, -511], [-611, -711], [-611, -811], [-611, -911], [-711, -111], [-711, -211], [-711, -311], [-711, -411], [-711, -511], [-711, -611], [-711, -811], [-711, -911], [-811, -111], [-811, -211], [-811, -311], [-811, -411], [-811, -511], [-811, -611], [-811, -711], [-811, -911], [-911, -111], [-911, -211], [-911, -311], [-911, -411], [-911, -511], [-911, -611], [-911, -711], [-911, -811], [-112, -212], [-112, -312], [-112, -412], [-112, -512], [-112, -612], [-112, -712], [-112, -812], [-112, -912], [-212, -112], [-212, -312], [-212, -412], [-212, -512], [-212, -612], [-212, -712], [-212, -812], [-212, -912], [-312, -112], [-312, -212], [-312, -412], [-312, -512], [-312, -612], [-312, -712], [-312, -812], [-312, -912], [-412, -112], [-412, -212], [-412, -312], [-412, -512], [-412, -612], [-412, -712], [-412, -812], [-412, -912], [-512, -112], [-512, -212], [-512, -312], [-512, -412], [-512, -612], [-512, -712], [-512, -812], [-512, -912], [-612, -112], [-612, -212], [-612, -312], [-612, -412], [-612, -512], [-612, -712], [-612, -812], [-612, -912], [-712, -112], [-712, -212], [-712, -312], [-712, -412], [-712, -512], [-712, -612], [-712, -812], [-712, -912], [-812, -112], [-812, -212], [-812, -312], [-812, -412], [-812, -512], [-812, -612], [-812, -712], [-812, -912], [-912, -112], [-912, -212], [-912, -312], [-912, -412], [-912, -512], [-912, -612], [-912, -712], [-912, -812], [-113, -213], [-113, -313], [-113, -413], [-113, -513], [-113, -613], [-113, -713], [-113, -813], [-113, -913], [-213, -113], [-213, -313], [-213, -413], [-213, -513], [-213, -613], [-213, -713], [-213, -813], [-213, -913], [-313, -113], [-313, -213], [-313, -413], [-313, -513], [-313, -613], [-313, -713], [-313, -813], [-313, -913], [-413, -113], [-413, -213], [-413, -313], [-413, -513], [-413, -613], [-413, -713], [-413, -813], [-413, -913], [-513, -113], [-513, -213], [-513, -313], [-513, -413], [-513, -613], [-513, -713], [-513, -813], [-513, -913], [-613, -113], [-613, -213], [-613, -313], [-613, -413], [-613, -513], [-613, -713], [-613, -813], [-613, -913], [-713, -113], [-713, -213], [-713, -313], [-713, -413], [-713, -513], [-713, -613], [-713, -813], [-713, -913], [-813, -113], [-813, -213], [-813, -313], [-813, -413], [-813, -513], [-813, -613], [-813, -713], [-813, -913], [-913, -113], [-913, -213], [-913, -313], [-913, -413], [-913, -513], [-913, -613], [-913, -713], [-913, -813], [-114, -214], [-114, -314], [-114, -414], [-114, -514], [-114, -614], [-114, -714], [-114, -814], [-114, -914], [-214, -114], [-214, -314], [-214, -414], [-214, -514], [-214, -614], [-214, -714], [-214, -814], [-214, -914], [-314, -114], [-314, -214], [-314, -414], [-314, -514], [-314, -614], [-314, -714], [-314, -814], [-314, -914], [-414, -114], [-414, -214], [-414, -314], [-414, -514], [-414, -614], [-414, -714], [-414, -814], [-414, -914], [-514, -114], [-514, -214], [-514, -314], [-514, -414], [-514, -614], [-514, -714], [-514, -814], [-514, -914], [-614, -114], [-614, -214], [-614, -314], [-614, -414], [-614, -514], [-614, -714], [-614, -814], [-614, -914], [-714, -114], [-714, -214], [-714, -314], [-714, -414], [-714, -514], [-714, -614], [-714, -814], [-714, -914], [-814, -114], [-814, -214], [-814, -314], [-814, -414], [-814, -514], [-814, -614], [-814, -714], [-814, -914], [-914, -114], [-914, -214], [-914, -314], [-914, -414], [-914, -514], [-914, -614], [-914, -714], [-914, -814], [-115, -215], [-115, -315], [-115, -415], [-115, -515], [-115, -615], [-115, -715], [-115, -815], [-115, -915], [-215, -115], [-215, -315], [-215, -415], [-215, -515], [-215, -615], [-215, -715], [-215, -815], [-215, -915], [-315, -115], [-315, -215], [-315, -415], [-315, -515], [-315, -615], [-315, -715], [-315, -815], [-315, -915], [-415, -115], [-415, -215], [-415, -315], [-415, -515], [-415, -615], [-415, -715], [-415, -815], [-415, -915], [-515, -115], [-515, -215], [-515, -315], [-515, -415], [-515, -615], [-515, -715], [-515, -815], [-515, -915], [-615, -115], [-615, -215], [-615, -315], [-615, -415], [-615, -515], [-615, -715], [-615, -815], [-615, -915], [-715, -115], [-715, -215], [-715, -315], [-715, -415], [-715, -515], [-715, -615], [-715, -815], [-715, -915], [-815, -115], [-815, -215], [-815, -315], [-815, -415], [-815, -515], [-815, -615], [-815, -715], [-815, -915], [-915, -115], [-915, -215], [-915, -315], [-915, -415], [-915, -515], [-915, -615], [-915, -715], [-915, -815], [-116, -216], [-116, -316], [-116, -416], [-116, -516], [-116, -616], [-116, -716], [-116, -816], [-116, -916], [-216, -116], [-216, -316], [-216, -416], [-216, -516], [-216, -616], [-216, -716], [-216, -816], [-216, -916], [-316, -116], [-316, -216], [-316, -416], [-316, -516], [-316, -616], [-316, -716], [-316, -816], [-316, -916], [-416, -116], [-416, -216], [-416, -316], [-416, -516], [-416, -616], [-416, -716], [-416, -816], [-416, -916], [-516, -116], [-516, -216], [-516, -316], [-516, -416], [-516, -616], [-516, -716], [-516, -816], [-516, -916], [-616, -116], [-616, -216], [-616, -316], [-616, -416], [-616, -516], [-616, -716], [-616, -816], [-616, -916], [-716, -116], [-716, -216], [-716, -316], [-716, -416], [-716, -516], [-716, -616], [-716, -816], [-716, -916], [-816, -116], [-816, -216], [-816, -316], [-816, -416], [-816, -516], [-816, -616], [-816, -716], [-816, -916], [-916, -116], [-916, -216], [-916, -316], [-916, -416], [-916, -516], [-916, -616], [-916, -716], [-916, -816], [-117, -217], [-117, -317], [-117, -417], [-117, -517], [-117, -617], [-117, -717], [-117, -817], [-117, -917], [-217, -117], [-217, -317], [-217, -417], [-217, -517], [-217, -617], [-217, -717], [-217, -817], [-217, -917], [-317, -117], [-317, -217], [-317, -417], [-317, -517], [-317, -617], [-317, -717], [-317, -817], [-317, -917], [-417, -117], [-417, -217], [-417, -317], [-417, -517], [-417, -617], [-417, -717], [-417, -817], [-417, -917], [-517, -117], [-517, -217], [-517, -317], [-517, -417], [-517, -617], [-517, -717], [-517, -817], [-517, -917], [-617, -117], [-617, -217], [-617, -317], [-617, -417], [-617, -517], [-617, -717], [-617, -817], [-617, -917], [-717, -117], [-717, -217], [-717, -317], [-717, -417], [-717, -517], [-717, -617], [-717, -817], [-717, -917], [-817, -117], [-817, -217], [-817, -317], [-817, -417], [-817, -517], [-817, -617], [-817, -717], [-817, -917], [-917, -117], [-917, -217], [-917, -317], [-917, -417], [-917, -517], [-917, -617], [-917, -717], [-917, -817], [-118, -218], [-118, -318], [-118, -418], [-118, -518], [-118, -618], [-118, -718], [-118, -818], [-118, -918], [-218, -118], [-218, -318], [-218, -418], [-218, -518], [-218, -618], [-218, -718], [-218, -818], [-218, -918], [-318, -118], [-318, -218], [-318, -418], [-318, -518], [-318, -618], [-318, -718], [-318, -818], [-318, -918], [-418, -118], [-418, -218], [-418, -318], [-418, -518], [-418, -618], [-418, -718], [-418, -818], [-418, -918], [-518, -118], [-518, -218], [-518, -318], [-518, -418], [-518, -618], [-518, -718], [-518, -818], [-518, -918], [-618, -118], [-618, -218], [-618, -318], [-618, -418], [-618, -518], [-618, -718], [-618, -818], [-618, -918], [-718, -118], [-718, -218], [-718, -318], [-718, -418], [-718, -518], [-718, -618], [-718, -818], [-718, -918], [-818, -118], [-818, -218], [-818, -318], [-818, -418], [-818, -518], [-818, -618], [-818, -718], [-818, -918], [-918, -118], [-918, -218], [-918, -318], [-918, -418], [-918, -518], [-918, -618], [-918, -718], [-918, -818], [-120, -220], [-120, -320], [-120, -420], [-120, -520], [-120, -620], [-120, -720], [-120, -820], [-120, -920], [-220, -120], [-220, -320], [-220, -420], [-220, -520], [-220, -620], [-220, -720], [-220, -820], [-220, -920], [-320, -120], [-320, -220], [-320, -420], [-320, -520], [-320, -620], [-320, -720], [-320, -820], [-320, -920], [-420, -120], [-420, -220], [-420, -320], [-420, -520], [-420, -620], [-420, -720], [-420, -820], [-420, -920], [-520, -120], [-520, -220], [-520, -320], [-520, -420], [-520, -620], [-520, -720], [-520, -820], [-520, -920], [-620, -120], [-620, -220], [-620, -320], [-620, -420], [-620, -520], [-620, -720], [-620, -820], [-620, -920], [-720, -120], [-720, -220], [-720, -320], [-720, -420], [-720, -520], [-720, -620], [-720, -820], [-720, -920], [-820, -120], [-820, -220], [-820, -320], [-820, -420], [-820, -520], [-820, -620], [-820, -720], [-820, -920], [-920, -120], [-920, -220], [-920, -320], [-920, -420], [-920, -520], [-920, -620], [-920, -720], [-920, -820], [-121, -221], [-121, -321], [-121, -421], [-121, -521], [-121, -621], [-121, -721], [-121, -821], [-121, -921], [-221, -121], [-221, -321], [-221, -421], [-221, -521], [-221, -621], [-221, -721], [-221, -821], [-221, -921], [-321, -121], [-321, -221], [-321, -421], [-321, -521], [-321, -621], [-321, -721], [-321, -821], [-321, -921], [-421, -121], [-421, -221], [-421, -321], [-421, -521], [-421, -621], [-421, -721], [-421, -821], [-421, -921], [-521, -121], [-521, -221], [-521, -321], [-521, -421], [-521, -621], [-521, -721], [-521, -821], [-521, -921], [-621, -121], [-621, -221], [-621, -321], [-621, -421], [-621, -521], [-621, -721], [-621, -821], [-621, -921], [-721, -121], [-721, -221], [-721, -321], [-721, -421], [-721, -521], [-721, -621], [-721, -821], [-721, -921], [-821, -121], [-821, -221], [-821, -321], [-821, -421], [-821, -521], [-821, -621], [-821, -721], [-821, -921], [-921, -121], [-921, -221], [-921, -321], [-921, -421], [-921, -521], [-921, -621], [-921, -721], [-921, -821], [-122, -222], [-122, -322], [-122, -422], [-122, -522], [-122, -622], [-122, -722], [-122, -822], [-122, -922], [-222, -122], [-222, -322], [-222, -422], [-222, -522], [-222, -622], [-222, -722], [-222, -822], [-222, -922], [-322, -122], [-322, -222], [-322, -422], [-322, -522], [-322, -622], [-322, -722], [-322, -822], [-322, -922], [-422, -122], [-422, -222], [-422, -322], [-422, -522], [-422, -622], [-422, -722], [-422, -822], [-422, -922], [-522, -122], [-522, -222], [-522, -322], [-522, -422], [-522, -622], [-522, -722], [-522, -822], [-522, -922], [-622, -122], [-622, -222], [-622, -322], [-622, -422], [-622, -522], [-622, -722], [-622, -822], [-622, -922], [-722, -122], [-722, -222], [-722, -322], [-722, -422], [-722, -522], [-722, -622], [-722, -822], [-722, -922], [-822, -122], [-822, -222], [-822, -322], [-822, -422], [-822, -522], [-822, -622], [-822, -722], [-822, -922], [-922, -122], [-922, -222], [-922, -322], [-922, -422], [-922, -522], [-922, -622], [-922, -722], [-922, -822], [-123, -223], [-123, -323], [-123, -423], [-123, -523], [-123, -623], [-123, -723], [-123, -823], [-123, -923], [-223, -123], [-223, -323], [-223, -423], [-223, -523], [-223, -623], [-223, -723], [-223, -823], [-223, -923], [-323, -123], [-323, -223], [-323, -423], [-323, -523], [-323, -623], [-323, -723], [-323, -823], [-323, -923], [-423, -123], [-423, -223], [-423, -323], [-423, -523], [-423, -623], [-423, -723], [-423, -823], [-423, -923], [-523, -123], [-523, -223], [-523, -323], [-523, -423], [-523, -623], [-523, -723], [-523, -823], [-523, -923], [-623, -123], [-623, -223], [-623, -323], [-623, -423], [-623, -523], [-623, -723], [-623, -823], [-623, -923], [-723, -123], [-723, -223], [-723, -323], [-723, -423], [-723, -523], [-723, -623], [-723, -823], [-723, -923], [-823, -123], [-823, -223], [-823, -323], [-823, -423], [-823, -523], [-823, -623], [-823, -723], [-823, -923], [-923, -123], [-923, -223], [-923, -323], [-923, -423], [-923, -523], [-923, -623], [-923, -723], [-923, -823], [-124, -224], [-124, -324], [-124, -424], [-124, -524], [-124, -624], [-124, -724], [-124, -824], [-124, -924], [-224, -124], [-224, -324], [-224, -424], [-224, -524], [-224, -624], [-224, -724], [-224, -824], [-224, -924], [-324, -124], [-324, -224], [-324, -424], [-324, -524], [-324, -624], [-324, -724], [-324, -824], [-324, -924], [-424, -124], [-424, -224], [-424, -324], [-424, -524], [-424, -624], [-424, -724], [-424, -824], [-424, -924], [-524, -124], [-524, -224], [-524, -324], [-524, -424], [-524, -624], [-524, -724], [-524, -824], [-524, -924], [-624, -124], [-624, -224], [-624, -324], [-624, -424], [-624, -524], [-624, -724], [-624, -824], [-624, -924], [-724, -124], [-724, -224], [-724, -324], [-724, -424], [-724, -524], [-724, -624], [-724, -824], [-724, -924], [-824, -124], [-824, -224], [-824, -324], [-824, -424], [-824, -524], [-824, -624], [-824, -724], [-824, -924], [-924, -124], [-924, -224], [-924, -324], [-924, -424], [-924, -524], [-924, -624], [-924, -724], [-924, -824], [-125, -225], [-125, -325], [-125, -425], [-125, -525], [-125, -625], [-125, -725], [-125, -825], [-125, -925], [-225, -125], [-225, -325], [-225, -425], [-225, -525], [-225, -625], [-225, -725], [-225, -825], [-225, -925], [-325, -125], [-325, -225], [-325, -425], [-325, -525], [-325, -625], [-325, -725], [-325, -825], [-325, -925], [-425, -125], [-425, -225], [-425, -325], [-425, -525], [-425, -625], [-425, -725], [-425, -825], [-425, -925], [-525, -125], [-525, -225], [-525, -325], [-525, -425], [-525, -625], [-525, -725], [-525, -825], [-525, -925], [-625, -125], [-625, -225], [-625, -325], [-625, -425], [-625, -525], [-625, -725], [-625, -825], [-625, -925], [-725, -125], [-725, -225], [-725, -325], [-725, -425], [-725, -525], [-725, -625], [-725, -825], [-725, -925], [-825, -125], [-825, -225], [-825, -325], [-825, -425], [-825, -525], [-825, -625], [-825, -725], [-825, -925], [-925, -125], [-925, -225], [-925, -325], [-925, -425], [-925, -525], [-925, -625], [-925, -725], [-925, -825], [-126, -226], [-126, -326], [-126, -426], [-126, -526], [-126, -626], [-126, -726], [-126, -826], [-126, -926], [-226, -126], [-226, -326], [-226, -426], [-226, -526], [-226, -626], [-226, -726], [-226, -826], [-226, -926], [-326, -126], [-326, -226], [-326, -426], [-326, -526], [-326, -626], [-326, -726], [-326, -826], [-326, -926], [-426, -126], [-426, -226], [-426, -326], [-426, -526], [-426, -626], [-426, -726], [-426, -826], [-426, -926], [-526, -126], [-526, -226], [-526, -326], [-526, -426], [-526, -626], [-526, -726], [-526, -826], [-526, -926], [-626, -126], [-626, -226], [-626, -326], [-626, -426], [-626, -526], [-626, -726], [-626, -826], [-626, -926], [-726, -126], [-726, -226], [-726, -326], [-726, -426], [-726, -526], [-726, -626], [-726, -826], [-726, -926], [-826, -126], [-826, -226], [-826, -326], [-826, -426], [-826, -526], [-826, -626], [-826, -726], [-826, -926], [-926, -126], [-926, -226], [-926, -326], [-926, -426], [-926, -526], [-926, -626], [-926, -726], [-926, -826], [-127, -227], [-127, -327], [-127, -427], [-127, -527], [-127, -627], [-127, -727], [-127, -827], [-127, -927], [-227, -127], [-227, -327], [-227, -427], [-227, -527], [-227, -627], [-227, -727], [-227, -827], [-227, -927], [-327, -127], [-327, -227], [-327, -427], [-327, -527], [-327, -627], [-327, -727], [-327, -827], [-327, -927], [-427, -127], [-427, -227], [-427, -327], [-427, -527], [-427, -627], [-427, -727], [-427, -827], [-427, -927], [-527, -127], [-527, -227], [-527, -327], [-527, -427], [-527, -627], [-527, -727], [-527, -827], [-527, -927], [-627, -127], [-627, -227], [-627, -327], [-627, -427], [-627, -527], [-627, -727], [-627, -827], [-627, -927], [-727, -127], [-727, -227], [-727, -327], [-727, -427], [-727, -527], [-727, -627], [-727, -827], [-727, -927], [-827, -127], [-827, -227], [-827, -327], [-827, -427], [-827, -527], [-827, -627], [-827, -727], [-827, -927], [-927, -127], [-927, -227], [-927, -327], [-927, -427], [-927, -527], [-927, -627], [-927, -727], [-927, -827], [-128, -228], [-128, -328], [-128, -428], [-128, -528], [-128, -628], [-128, -728], [-128, -828], [-128, -928], [-228, -128], [-228, -328], [-228, -428], [-228, -528], [-228, -628], [-228, -728], [-228, -828], [-228, -928], [-328, -128], [-328, -228], [-328, -428], [-328, -528], [-328, -628], [-328, -728], [-328, -828], [-328, -928], [-428, -128], [-428, -228], [-428, -328], [-428, -528], [-428, -628], [-428, -728], [-428, -828], [-428, -928], [-528, -128], [-528, -228], [-528, -328], [-528, -428], [-528, -628], [-528, -728], [-528, -828], [-528, -928], [-628, -128], [-628, -228], [-628, -328], [-628, -428], [-628, -528], [-628, -728], [-628, -828], [-628, -928], [-728, -128], [-728, -228], [-728, -328], [-728, -428], [-728, -528], [-728, -628], [-728, -828], [-728, -928], [-828, -128], [-828, -228], [-828, -328], [-828, -428], [-828, -528], [-828, -628], [-828, -728], [-828, -928], [-928, -128], [-928, -228], [-928, -328], [-928, -428], [-928, -528], [-928, -628], [-928, -728], [-928, -828], [-130, -230], [-130, -330], [-130, -430], [-130, -530], [-130, -630], [-130, -730], [-130, -830], [-130, -930], [-230, -130], [-230, -330], [-230, -430], [-230, -530], [-230, -630], [-230, -730], [-230, -830], [-230, -930], [-330, -130], [-330, -230], [-330, -430], [-330, -530], [-330, -630], [-330, -730], [-330, -830], [-330, -930], [-430, -130], [-430, -230], [-430, -330], [-430, -530], [-430, -630], [-430, -730], [-430, -830], [-430, -930], [-530, -130], [-530, -230], [-530, -330], [-530, -430], [-530, -630], [-530, -730], [-530, -830], [-530, -930], [-630, -130], [-630, -230], [-630, -330], [-630, -430], [-630, -530], [-630, -730], [-630, -830], [-630, -930], [-730, -130], [-730, -230], [-730, -330], [-730, -430], [-730, -530], [-730, -630], [-730, -830], [-730, -930], [-830, -130], [-830, -230], [-830, -330], [-830, -430], [-830, -530], [-830, -630], [-830, -730], [-830, -930], [-930, -130], [-930, -230], [-930, -330], [-930, -430], [-930, -530], [-930, -630], [-930, -730], [-930, -830], [-131, -231], [-131, -331], [-131, -431], [-131, -531], [-131, -631], [-131, -731], [-131, -831], [-131, -931], [-231, -131], [-231, -331], [-231, -431], [-231, -531], [-231, -631], [-231, -731], [-231, -831], [-231, -931], [-331, -131], [-331, -231], [-331, -431], [-331, -531], [-331, -631], [-331, -731], [-331, -831], [-331, -931], [-431, -131], [-431, -231], [-431, -331], [-431, -531], [-431, -631], [-431, -731], [-431, -831], [-431, -931], [-531, -131], [-531, -231], [-531, -331], [-531, -431], [-531, -631], [-531, -731], [-531, -831], [-531, -931], [-631, -131], [-631, -231], [-631, -331], [-631, -431], [-631, -531], [-631, -731], [-631, -831], [-631, -931], [-731, -131], [-731, -231], [-731, -331], [-731, -431], [-731, -531], [-731, -631], [-731, -831], [-731, -931], [-831, -131], [-831, -231], [-831, -331], [-831, -431], [-831, -531], [-831, -631], [-831, -731], [-831, -931], [-931, -131], [-931, -231], [-931, -331], [-931, -431], [-931, -531], [-931, -631], [-931, -731], [-931, -831], [-132, -232], [-132, -332], [-132, -432], [-132, -532], [-132, -632], [-132, -732], [-132, -832], [-132, -932], [-232, -132], [-232, -332], [-232, -432], [-232, -532], [-232, -632], [-232, -732], [-232, -832], [-232, -932], [-332, -132], [-332, -232], [-332, -432], [-332, -532], [-332, -632], [-332, -732], [-332, -832], [-332, -932], [-432, -132], [-432, -232], [-432, -332], [-432, -532], [-432, -632], [-432, -732], [-432, -832], [-432, -932], [-532, -132], [-532, -232], [-532, -332], [-532, -432], [-532, -632], [-532, -732], [-532, -832], [-532, -932], [-632, -132], [-632, -232], [-632, -332], [-632, -432], [-632, -532], [-632, -732], [-632, -832], [-632, -932], [-732, -132], [-732, -232], [-732, -332], [-732, -432], [-732, -532], [-732, -632], [-732, -832], [-732, -932], [-832, -132], [-832, -232], [-832, -332], [-832, -432], [-832, -532], [-832, -632], [-832, -732], [-832, -932], [-932, -132], [-932, -232], [-932, -332], [-932, -432], [-932, -532], [-932, -632], [-932, -732], [-932, -832], [-133, -233], [-133, -333], [-133, -433], [-133, -533], [-133, -633], [-133, -733], [-133, -833], [-133, -933], [-233, -133], [-233, -333], [-233, -433], [-233, -533], [-233, -633], [-233, -733], [-233, -833], [-233, -933], [-333, -133], [-333, -233], [-333, -433], [-333, -533], [-333, -633], [-333, -733], [-333, -833], [-333, -933], [-433, -133], [-433, -233], [-433, -333], [-433, -533], [-433, -633], [-433, -733], [-433, -833], [-433, -933], [-533, -133], [-533, -233], [-533, -333], [-533, -433], [-533, -633], [-533, -733], [-533, -833], [-533, -933], [-633, -133], [-633, -233], [-633, -333], [-633, -433], [-633, -533], [-633, -733], [-633, -833], [-633, -933], [-733, -133], [-733, -233], [-733, -333], [-733, -433], [-733, -533], [-733, -633], [-733, -833], [-733, -933], [-833, -133], [-833, -233], [-833, -333], [-833, -433], [-833, -533], [-833, -633], [-833, -733], [-833, -933], [-933, -133], [-933, -233], [-933, -333], [-933, -433], [-933, -533], [-933, -633], [-933, -733], [-933, -833], [-134, -234], [-134, -334], [-134, -434], [-134, -534], [-134, -634], [-134, -734], [-134, -834], [-134, -934], [-234, -134], [-234, -334], [-234, -434], [-234, -534], [-234, -634], [-234, -734], [-234, -834], [-234, -934], [-334, -134], [-334, -234], [-334, -434], [-334, -534], [-334, -634], [-334, -734], [-334, -834], [-334, -934], [-434, -134], [-434, -234], [-434, -334], [-434, -534], [-434, -634], [-434, -734], [-434, -834], [-434, -934], [-534, -134], [-534, -234], [-534, -334], [-534, -434], [-534, -634], [-534, -734], [-534, -834], [-534, -934], [-634, -134], [-634, -234], [-634, -334], [-634, -434], [-634, -534], [-634, -734], [-634, -834], [-634, -934], [-734, -134], [-734, -234], [-734, -334], [-734, -434], [-734, -534], [-734, -634], [-734, -834], [-734, -934], [-834, -134], [-834, -234], [-834, -334], [-834, -434], [-834, -534], [-834, -634], [-834, -734], [-834, -934], [-934, -134], [-934, -234], [-934, -334], [-934, -434], [-934, -534], [-934, -634], [-934, -734], [-934, -834], [-135, -235], [-135, -335], [-135, -435], [-135, -535], [-135, -635], [-135, -735], [-135, -835], [-135, -935], [-235, -135], [-235, -335], [-235, -435], [-235, -535], [-235, -635], [-235, -735], [-235, -835], [-235, -935], [-335, -135], [-335, -235], [-335, -435], [-335, -535], [-335, -635], [-335, -735], [-335, -835], [-335, -935], [-435, -135], [-435, -235], [-435, -335], [-435, -535], [-435, -635], [-435, -735], [-435, -835], [-435, -935], [-535, -135], [-535, -235], [-535, -335], [-535, -435], [-535, -635], [-535, -735], [-535, -835], [-535, -935], [-635, -135], [-635, -235], [-635, -335], [-635, -435], [-635, -535], [-635, -735], [-635, -835], [-635, -935], [-735, -135], [-735, -235], [-735, -335], [-735, -435], [-735, -535], [-735, -635], [-735, -835], [-735, -935], [-835, -135], [-835, -235], [-835, -335], [-835, -435], [-835, -535], [-835, -635], [-835, -735], [-835, -935], [-935, -135], [-935, -235], [-935, -335], [-935, -435], [-935, -535], [-935, -635], [-935, -735], [-935, -835], [-136, -236], [-136, -336], [-136, -436], [-136, -536], [-136, -636], [-136, -736], [-136, -836], [-136, -936], [-236, -136], [-236, -336], [-236, -436], [-236, -536], [-236, -636], [-236, -736], [-236, -836], [-236, -936], [-336, -136], [-336, -236], [-336, -436], [-336, -536], [-336, -636], [-336, -736], [-336, -836], [-336, -936], [-436, -136], [-436, -236], [-436, -336], [-436, -536], [-436, -636], [-436, -736], [-436, -836], [-436, -936], [-536, -136], [-536, -236], [-536, -336], [-536, -436], [-536, -636], [-536, -736], [-536, -836], [-536, -936], [-636, -136], [-636, -236], [-636, -336], [-636, -436], [-636, -536], [-636, -736], [-636, -836], [-636, -936], [-736, -136], [-736, -236], [-736, -336], [-736, -436], [-736, -536], [-736, -636], [-736, -836], [-736, -936], [-836, -136], [-836, -236], [-836, -336], [-836, -436], [-836, -536], [-836, -636], [-836, -736], [-836, -936], [-936, -136], [-936, -236], [-936, -336], [-936, -436], [-936, -536], [-936, -636], [-936, -736], [-936, -836], [-137, -237], [-137, -337], [-137, -437], [-137, -537], [-137, -637], [-137, -737], [-137, -837], [-137, -937], [-237, -137], [-237, -337], [-237, -437], [-237, -537], [-237, -637], [-237, -737], [-237, -837], [-237, -937], [-337, -137], [-337, -237], [-337, -437], [-337, -537], [-337, -637], [-337, -737], [-337, -837], [-337, -937], [-437, -137], [-437, -237], [-437, -337], [-437, -537], [-437, -637], [-437, -737], [-437, -837], [-437, -937], [-537, -137], [-537, -237], [-537, -337], [-537, -437], [-537, -637], [-537, -737], [-537, -837], [-537, -937], [-637, -137], [-637, -237], [-637, -337], [-637, -437], [-637, -537], [-637, -737], [-637, -837], [-637, -937], [-737, -137], [-737, -237], [-737, -337], [-737, -437], [-737, -537], [-737, -637], [-737, -837], [-737, -937], [-837, -137], [-837, -237], [-837, -337], [-837, -437], [-837, -537], [-837, -637], [-837, -737], [-837, -937], [-937, -137], [-937, -237], [-937, -337], [-937, -437], [-937, -537], [-937, -637], [-937, -737], [-937, -837], [-138, -238], [-138, -338], [-138, -438], [-138, -538], [-138, -638], [-138, -738], [-138, -838], [-138, -938], [-238, -138], [-238, -338], [-238, -438], [-238, -538], [-238, -638], [-238, -738], [-238, -838], [-238, -938], [-338, -138], [-338, -238], [-338, -438], [-338, -538], [-338, -638], [-338, -738], [-338, -838], [-338, -938], [-438, -138], [-438, -238], [-438, -338], [-438, -538], [-438, -638], [-438, -738], [-438, -838], [-438, -938], [-538, -138], [-538, -238], [-538, -338], [-538, -438], [-538, -638], [-538, -738], [-538, -838], [-538, -938], [-638, -138], [-638, -238], [-638, -338], [-638, -438], [-638, -538], [-638, -738], [-638, -838], [-638, -938], [-738, -138], [-738, -238], [-738, -338], [-738, -438], [-738, -538], [-738, -638], [-738, -838], [-738, -938], [-838, -138], [-838, -238], [-838, -338], [-838, -438], [-838, -538], [-838, -638], [-838, -738], [-838, -938], [-938, -138], [-938, -238], [-938, -338], [-938, -438], [-938, -538], [-938, -638], [-938, -738], [-938, -838], [-140, -240], [-140, -340], [-140, -440], [-140, -540], [-140, -640], [-140, -740], [-140, -840], [-140, -940], [-240, -140], [-240, -340], [-240, -440], [-240, -540], [-240, -640], [-240, -740], [-240, -840], [-240, -940], [-340, -140], [-340, -240], [-340, -440], [-340, -540], [-340, -640], [-340, -740], [-340, -840], [-340, -940], [-440, -140], [-440, -240], [-440, -340], [-440, -540], [-440, -640], [-440, -740], [-440, -840], [-440, -940], [-540, -140], [-540, -240], [-540, -340], [-540, -440], [-540, -640], [-540, -740], [-540, -840], [-540, -940], [-640, -140], [-640, -240], [-640, -340], [-640, -440], [-640, -540], [-640, -740], [-640, -840], [-640, -940], [-740, -140], [-740, -240], [-740, -340], [-740, -440], [-740, -540], [-740, -640], [-740, -840], [-740, -940], [-840, -140], [-840, -240], [-840, -340], [-840, -440], [-840, -540], [-840, -640], [-840, -740], [-840, -940], [-940, -140], [-940, -240], [-940, -340], [-940, -440], [-940, -540], [-940, -640], [-940, -740], [-940, -840], [-141, -241], [-141, -341], [-141, -441], [-141, -541], [-141, -641], [-141, -741], [-141, -841], [-141, -941], [-241, -141], [-241, -341], [-241, -441], [-241, -541], [-241, -641], [-241, -741], [-241, -841], [-241, -941], [-341, -141], [-341, -241], [-341, -441], [-341, -541], [-341, -641], [-341, -741], [-341, -841], [-341, -941], [-441, -141], [-441, -241], [-441, -341], [-441, -541], [-441, -641], [-441, -741], [-441, -841], [-441, -941], [-541, -141], [-541, -241], [-541, -341], [-541, -441], [-541, -641], [-541, -741], [-541, -841], [-541, -941], [-641, -141], [-641, -241], [-641, -341], [-641, -441], [-641, -541], [-641, -741], [-641, -841], [-641, -941], [-741, -141], [-741, -241], [-741, -341], [-741, -441], [-741, -541], [-741, -641], [-741, -841], [-741, -941], [-841, -141], [-841, -241], [-841, -341], [-841, -441], [-841, -541], [-841, -641], [-841, -741], [-841, -941], [-941, -141], [-941, -241], [-941, -341], [-941, -441], [-941, -541], [-941, -641], [-941, -741], [-941, -841], [-142, -242], [-142, -342], [-142, -442], [-142, -542], [-142, -642], [-142, -742], [-142, -842], [-142, -942], [-242, -142], [-242, -342], [-242, -442], [-242, -542], [-242, -642], [-242, -742], [-242, -842], [-242, -942], [-342, -142], [-342, -242], [-342, -442], [-342, -542], [-342, -642], [-342, -742], [-342, -842], [-342, -942], [-442, -142], [-442, -242], [-442, -342], [-442, -542], [-442, -642], [-442, -742], [-442, -842], [-442, -942], [-542, -142], [-542, -242], [-542, -342], [-542, -442], [-542, -642], [-542, -742], [-542, -842], [-542, -942], [-642, -142], [-642, -242], [-642, -342], [-642, -442], [-642, -542], [-642, -742], [-642, -842], [-642, -942], [-742, -142], [-742, -242], [-742, -342], [-742, -442], [-742, -542], [-742, -642], [-742, -842], [-742, -942], [-842, -142], [-842, -242], [-842, -342], [-842, -442], [-842, -542], [-842, -642], [-842, -742], [-842, -942], [-942, -142], [-942, -242], [-942, -342], [-942, -442], [-942, -542], [-942, -642], [-942, -742], [-942, -842], [-143, -243], [-143, -343], [-143, -443], [-143, -543], [-143, -643], [-143, -743], [-143, -843], [-143, -943], [-243, -143], [-243, -343], [-243, -443], [-243, -543], [-243, -643], [-243, -743], [-243, -843], [-243, -943], [-343, -143], [-343, -243], [-343, -443], [-343, -543], [-343, -643], [-343, -743], [-343, -843], [-343, -943], [-443, -143], [-443, -243], [-443, -343], [-443, -543], [-443, -643], [-443, -743], [-443, -843], [-443, -943], [-543, -143], [-543, -243], [-543, -343], [-543, -443], [-543, -643], [-543, -743], [-543, -843], [-543, -943], [-643, -143], [-643, -243], [-643, -343], [-643, -443], [-643, -543], [-643, -743], [-643, -843], [-643, -943], [-743, -143], [-743, -243], [-743, -343], [-743, -443], [-743, -543], [-743, -643], [-743, -843], [-743, -943], [-843, -143], [-843, -243], [-843, -343], [-843, -443], [-843, -543], [-843, -643], [-843, -743], [-843, -943], [-943, -143], [-943, -243], [-943, -343], [-943, -443], [-943, -543], [-943, -643], [-943, -743], [-943, -843], [-144, -244], [-144, -344], [-144, -444], [-144, -544], [-144, -644], [-144, -744], [-144, -844], [-144, -944], [-244, -144], [-244, -344], [-244, -444], [-244, -544], [-244, -644], [-244, -744], [-244, -844], [-244, -944], [-344, -144], [-344, -244], [-344, -444], [-344, -544], [-344, -644], [-344, -744], [-344, -844], [-344, -944], [-444, -144], [-444, -244], [-444, -344], [-444, -544], [-444, -644], [-444, -744], [-444, -844], [-444, -944], [-544, -144], [-544, -244], [-544, -344], [-544, -444], [-544, -644], [-544, -744], [-544, -844], [-544, -944], [-644, -144], [-644, -244], [-644, -344], [-644, -444], [-644, -544], [-644, -744], [-644, -844], [-644, -944], [-744, -144], [-744, -244], [-744, -344], [-744, -444], [-744, -544], [-744, -644], [-744, -844], [-744, -944], [-844, -144], [-844, -244], [-844, -344], [-844, -444], [-844, -544], [-844, -644], [-844, -744], [-844, -944], [-944, -144], [-944, -244], [-944, -344], [-944, -444], [-944, -544], [-944, -644], [-944, -744], [-944, -844], [-145, -245], [-145, -345], [-145, -445], [-145, -545], [-145, -645], [-145, -745], [-145, -845], [-145, -945], [-245, -145], [-245, -345], [-245, -445], [-245, -545], [-245, -645], [-245, -745], [-245, -845], [-245, -945], [-345, -145], [-345, -245], [-345, -445], [-345, -545], [-345, -645], [-345, -745], [-345, -845], [-345, -945], [-445, -145], [-445, -245], [-445, -345], [-445, -545], [-445, -645], [-445, -745], [-445, -845], [-445, -945], [-545, -145], [-545, -245], [-545, -345], [-545, -445], [-545, -645], [-545, -745], [-545, -845], [-545, -945], [-645, -145], [-645, -245], [-645, -345], [-645, -445], [-645, -545], [-645, -745], [-645, -845], [-645, -945], [-745, -145], [-745, -245], [-745, -345], [-745, -445], [-745, -545], [-745, -645], [-745, -845], [-745, -945], [-845, -145], [-845, -245], [-845, -345], [-845, -445], [-845, -545], [-845, -645], [-845, -745], [-845, -945], [-945, -145], [-945, -245], [-945, -345], [-945, -445], [-945, -545], [-945, -645], [-945, -745], [-945, -845], [-146, -246], [-146, -346], [-146, -446], [-146, -546], [-146, -646], [-146, -746], [-146, -846], [-146, -946], [-246, -146], [-246, -346], [-246, -446], [-246, -546], [-246, -646], [-246, -746], [-246, -846], [-246, -946], [-346, -146], [-346, -246], [-346, -446], [-346, -546], [-346, -646], [-346, -746], [-346, -846], [-346, -946], [-446, -146], [-446, -246], [-446, -346], [-446, -546], [-446, -646], [-446, -746], [-446, -846], [-446, -946], [-546, -146], [-546, -246], [-546, -346], [-546, -446], [-546, -646], [-546, -746], [-546, -846], [-546, -946], [-646, -146], [-646, -246], [-646, -346], [-646, -446], [-646, -546], [-646, -746], [-646, -846], [-646, -946], [-746, -146], [-746, -246], [-746, -346], [-746, -446], [-746, -546], [-746, -646], [-746, -846], [-746, -946], [-846, -146], [-846, -246], [-846, -346], [-846, -446], [-846, -546], [-846, -646], [-846, -746], [-846, -946], [-946, -146], [-946, -246], [-946, -346], [-946, -446], [-946, -546], [-946, -646], [-946, -746], [-946, -846], [-147, -247], [-147, -347], [-147, -447], [-147, -547], [-147, -647], [-147, -747], [-147, -847], [-147, -947], [-247, -147], [-247, -347], [-247, -447], [-247, -547], [-247, -647], [-247, -747], [-247, -847], [-247, -947], [-347, -147], [-347, -247], [-347, -447], [-347, -547], [-347, -647], [-347, -747], [-347, -847], [-347, -947], [-447, -147], [-447, -247], [-447, -347], [-447, -547], [-447, -647], [-447, -747], [-447, -847], [-447, -947], [-547, -147], [-547, -247], [-547, -347], [-547, -447], [-547, -647], [-547, -747], [-547, -847], [-547, -947], [-647, -147], [-647, -247], [-647, -347], [-647, -447], [-647, -547], [-647, -747], [-647, -847], [-647, -947], [-747, -147], [-747, -247], [-747, -347], [-747, -447], [-747, -547], [-747, -647], [-747, -847], [-747, -947], [-847, -147], [-847, -247], [-847, -347], [-847, -447], [-847, -547], [-847, -647], [-847, -747], [-847, -947], [-947, -147], [-947, -247], [-947, -347], [-947, -447], [-947, -547], [-947, -647], [-947, -747], [-947, -847], [-148, -248], [-148, -348], [-148, -448], [-148, -548], [-148, -648], [-148, -748], [-148, -848], [-148, -948], [-248, -148], [-248, -348], [-248, -448], [-248, -548], [-248, -648], [-248, -748], [-248, -848], [-248, -948], [-348, -148], [-348, -248], [-348, -448], [-348, -548], [-348, -648], [-348, -748], [-348, -848], [-348, -948], [-448, -148], [-448, -248], [-448, -348], [-448, -548], [-448, -648], [-448, -748], [-448, -848], [-448, -948], [-548, -148], [-548, -248], [-548, -348], [-548, -448], [-548, -648], [-548, -748], [-548, -848], [-548, -948], [-648, -148], [-648, -248], [-648, -348], [-648, -448], [-648, -548], [-648, -748], [-648, -848], [-648, -948], [-748, -148], [-748, -248], [-748, -348], [-748, -448], [-748, -548], [-748, -648], [-748, -848], [-748, -948], [-848, -148], [-848, -248], [-848, -348], [-848, -448], [-848, -548], [-848, -648], [-848, -748], [-848, -948], [-948, -148], [-948, -248], [-948, -348], [-948, -448], [-948, -548], [-948, -648], [-948, -748], [-948, -848], [-150, -250], [-150, -350], [-150, -450], [-150, -550], [-150, -650], [-150, -750], [-150, -850], [-150, -950], [-250, -150], [-250, -350], [-250, -450], [-250, -550], [-250, -650], [-250, -750], [-250, -850], [-250, -950], [-350, -150], [-350, -250], [-350, -450], [-350, -550], [-350, -650], [-350, -750], [-350, -850], [-350, -950], [-450, -150], [-450, -250], [-450, -350], [-450, -550], [-450, -650], [-450, -750], [-450, -850], [-450, -950], [-550, -150], [-550, -250], [-550, -350], [-550, -450], [-550, -650], [-550, -750], [-550, -850], [-550, -950], [-650, -150], [-650, -250], [-650, -350], [-650, -450], [-650, -550], [-650, -750], [-650, -850], [-650, -950], [-750, -150], [-750, -250], [-750, -350], [-750, -450], [-750, -550], [-750, -650], [-750, -850], [-750, -950], [-850, -150], [-850, -250], [-850, -350], [-850, -450], [-850, -550], [-850, -650], [-850, -750], [-850, -950], [-950, -150], [-950, -250], [-950, -350], [-950, -450], [-950, -550], [-950, -650], [-950, -750], [-950, -850], [-151, -251], [-151, -351], [-151, -451], [-151, -551], [-151, -651], [-151, -751], [-151, -851], [-151, -951], [-251, -151], [-251, -351], [-251, -451], [-251, -551], [-251, -651], [-251, -751], [-251, -851], [-251, -951], [-351, -151], [-351, -251], [-351, -451], [-351, -551], [-351, -651], [-351, -751], [-351, -851], [-351, -951], [-451, -151], [-451, -251], [-451, -351], [-451, -551], [-451, -651], [-451, -751], [-451, -851], [-451, -951], [-551, -151], [-551, -251], [-551, -351], [-551, -451], [-551, -651], [-551, -751], [-551, -851], [-551, -951], [-651, -151], [-651, -251], [-651, -351], [-651, -451], [-651, -551], [-651, -751], [-651, -851], [-651, -951], [-751, -151], [-751, -251], [-751, -351], [-751, -451], [-751, -551], [-751, -651], [-751, -851], [-751, -951], [-851, -151], [-851, -251], [-851, -351], [-851, -451], [-851, -551], [-851, -651], [-851, -751], [-851, -951], [-951, -151], [-951, -251], [-951, -351], [-951, -451], [-951, -551], [-951, -651], [-951, -751], [-951, -851], [-152, -252], [-152, -352], [-152, -452], [-152, -552], [-152, -652], [-152, -752], [-152, -852], [-152, -952], [-252, -152], [-252, -352], [-252, -452], [-252, -552], [-252, -652], [-252, -752], [-252, -852], [-252, -952], [-352, -152], [-352, -252], [-352, -452], [-352, -552], [-352, -652], [-352, -752], [-352, -852], [-352, -952], [-452, -152], [-452, -252], [-452, -352], [-452, -552], [-452, -652], [-452, -752], [-452, -852], [-452, -952], [-552, -152], [-552, -252], [-552, -352], [-552, -452], [-552, -652], [-552, -752], [-552, -852], [-552, -952], [-652, -152], [-652, -252], [-652, -352], [-652, -452], [-652, -552], [-652, -752], [-652, -852], [-652, -952], [-752, -152], [-752, -252], [-752, -352], [-752, -452], [-752, -552], [-752, -652], [-752, -852], [-752, -952], [-852, -152], [-852, -252], [-852, -352], [-852, -452], [-852, -552], [-852, -652], [-852, -752], [-852, -952], [-952, -152], [-952, -252], [-952, -352], [-952, -452], [-952, -552], [-952, -652], [-952, -752], [-952, -852], [-153, -253], [-153, -353], [-153, -453], [-153, -553], [-153, -653], [-153, -753], [-153, -853], [-153, -953], [-253, -153], [-253, -353], [-253, -453], [-253, -553], [-253, -653], [-253, -753], [-253, -853], [-253, -953], [-353, -153], [-353, -253], [-353, -453], [-353, -553], [-353, -653], [-353, -753], [-353, -853], [-353, -953], [-453, -153], [-453, -253], [-453, -353], [-453, -553], [-453, -653], [-453, -753], [-453, -853], [-453, -953], [-553, -153], [-553, -253], [-553, -353], [-553, -453], [-553, -653], [-553, -753], [-553, -853], [-553, -953], [-653, -153], [-653, -253], [-653, -353], [-653, -453], [-653, -553], [-653, -753], [-653, -853], [-653, -953], [-753, -153], [-753, -253], [-753, -353], [-753, -453], [-753, -553], [-753, -653], [-753, -853], [-753, -953], [-853, -153], [-853, -253], [-853, -353], [-853, -453], [-853, -553], [-853, -653], [-853, -753], [-853, -953], [-953, -153], [-953, -253], [-953, -353], [-953, -453], [-953, -553], [-953, -653], [-953, -753], [-953, -853], [-154, -254], [-154, -354], [-154, -454], [-154, -554], [-154, -654], [-154, -754], [-154, -854], [-154, -954], [-254, -154], [-254, -354], [-254, -454], [-254, -554], [-254, -654], [-254, -754], [-254, -854], [-254, -954], [-354, -154], [-354, -254], [-354, -454], [-354, -554], [-354, -654], [-354, -754], [-354, -854], [-354, -954], [-454, -154], [-454, -254], [-454, -354], [-454, -554], [-454, -654], [-454, -754], [-454, -854], [-454, -954], [-554, -154], [-554, -254], [-554, -354], [-554, -454], [-554, -654], [-554, -754], [-554, -854], [-554, -954], [-654, -154], [-654, -254], [-654, -354], [-654, -454], [-654, -554], [-654, -754], [-654, -854], [-654, -954], [-754, -154], [-754, -254], [-754, -354], [-754, -454], [-754, -554], [-754, -654], [-754, -854], [-754, -954], [-854, -154], [-854, -254], [-854, -354], [-854, -454], [-854, -554], [-854, -654], [-854, -754], [-854, -954], [-954, -154], [-954, -254], [-954, -354], [-954, -454], [-954, -554], [-954, -654], [-954, -754], [-954, -854], [-155, -255], [-155, -355], [-155, -455], [-155, -555], [-155, -655], [-155, -755], [-155, -855], [-155, -955], [-255, -155], [-255, -355], [-255, -455], [-255, -555], [-255, -655], [-255, -755], [-255, -855], [-255, -955], [-355, -155], [-355, -255], [-355, -455], [-355, -555], [-355, -655], [-355, -755], [-355, -855], [-355, -955], [-455, -155], [-455, -255], [-455, -355], [-455, -555], [-455, -655], [-455, -755], [-455, -855], [-455, -955], [-555, -155], [-555, -255], [-555, -355], [-555, -455], [-555, -655], [-555, -755], [-555, -855], [-555, -955], [-655, -155], [-655, -255], [-655, -355], [-655, -455], [-655, -555], [-655, -755], [-655, -855], [-655, -955], [-755, -155], [-755, -255], [-755, -355], [-755, -455], [-755, -555], [-755, -655], [-755, -855], [-755, -955], [-855, -155], [-855, -255], [-855, -355], [-855, -455], [-855, -555], [-855, -655], [-855, -755], [-855, -955], [-955, -155], [-955, -255], [-955, -355], [-955, -455], [-955, -555], [-955, -655], [-955, -755], [-955, -855], [-156, -256], [-156, -356], [-156, -456], [-156, -556], [-156, -656], [-156, -756], [-156, -856], [-156, -956], [-256, -156], [-256, -356], [-256, -456], [-256, -556], [-256, -656], [-256, -756], [-256, -856], [-256, -956], [-356, -156], [-356, -256], [-356, -456], [-356, -556], [-356, -656], [-356, -756], [-356, -856], [-356, -956], [-456, -156], [-456, -256], [-456, -356], [-456, -556], [-456, -656], [-456, -756], [-456, -856], [-456, -956], [-556, -156], [-556, -256], [-556, -356], [-556, -456], [-556, -656], [-556, -756], [-556, -856], [-556, -956], [-656, -156], [-656, -256], [-656, -356], [-656, -456], [-656, -556], [-656, -756], [-656, -856], [-656, -956], [-756, -156], [-756, -256], [-756, -356], [-756, -456], [-756, -556], [-756, -656], [-756, -856], [-756, -956], [-856, -156], [-856, -256], [-856, -356], [-856, -456], [-856, -556], [-856, -656], [-856, -756], [-856, -956], [-956, -156], [-956, -256], [-956, -356], [-956, -456], [-956, -556], [-956, -656], [-956, -756], [-956, -856], [-157, -257], [-157, -357], [-157, -457], [-157, -557], [-157, -657], [-157, -757], [-157, -857], [-157, -957], [-257, -157], [-257, -357], [-257, -457], [-257, -557], [-257, -657], [-257, -757], [-257, -857], [-257, -957], [-357, -157], [-357, -257], [-357, -457], [-357, -557], [-357, -657], [-357, -757], [-357, -857], [-357, -957], [-457, -157], [-457, -257], [-457, -357], [-457, -557], [-457, -657], [-457, -757], [-457, -857], [-457, -957], [-557, -157], [-557, -257], [-557, -357], [-557, -457], [-557, -657], [-557, -757], [-557, -857], [-557, -957], [-657, -157], [-657, -257], [-657, -357], [-657, -457], [-657, -557], [-657, -757], [-657, -857], [-657, -957], [-757, -157], [-757, -257], [-757, -357], [-757, -457], [-757, -557], [-757, -657], [-757, -857], [-757, -957], [-857, -157], [-857, -257], [-857, -357], [-857, -457], [-857, -557], [-857, -657], [-857, -757], [-857, -957], [-957, -157], [-957, -257], [-957, -357], [-957, -457], [-957, -557], [-957, -657], [-957, -757], [-957, -857], [-158, -258], [-158, -358], [-158, -458], [-158, -558], [-158, -658], [-158, -758], [-158, -858], [-158, -958], [-258, -158], [-258, -358], [-258, -458], [-258, -558], [-258, -658], [-258, -758], [-258, -858], [-258, -958], [-358, -158], [-358, -258], [-358, -458], [-358, -558], [-358, -658], [-358, -758], [-358, -858], [-358, -958], [-458, -158], [-458, -258], [-458, -358], [-458, -558], [-458, -658], [-458, -758], [-458, -858], [-458, -958], [-558, -158], [-558, -258], [-558, -358], [-558, -458], [-558, -658], [-558, -758], [-558, -858], [-558, -958], [-658, -158], [-658, -258], [-658, -358], [-658, -458], [-658, -558], [-658, -758], [-658, -858], [-658, -958], [-758, -158], [-758, -258], [-758, -358], [-758, -458], [-758, -558], [-758, -658], [-758, -858], [-758, -958], [-858, -158], [-858, -258], [-858, -358], [-858, -458], [-858, -558], [-858, -658], [-858, -758], [-858, -958], [-958, -158], [-958, -258], [-958, -358], [-958, -458], [-958, -558], [-958, -658], [-958, -758], [-958, -858], [-160, -260], [-160, -360], [-160, -460], [-160, -560], [-160, -660], [-160, -760], [-160, -860], [-160, -960], [-260, -160], [-260, -360], [-260, -460], [-260, -560], [-260, -660], [-260, -760], [-260, -860], [-260, -960], [-360, -160], [-360, -260], [-360, -460], [-360, -560], [-360, -660], [-360, -760], [-360, -860], [-360, -960], [-460, -160], [-460, -260], [-460, -360], [-460, -560], [-460, -660], [-460, -760], [-460, -860], [-460, -960], [-560, -160], [-560, -260], [-560, -360], [-560, -460], [-560, -660], [-560, -760], [-560, -860], [-560, -960], [-660, -160], [-660, -260], [-660, -360], [-660, -460], [-660, -560], [-660, -760], [-660, -860], [-660, -960], [-760, -160], [-760, -260], [-760, -360], [-760, -460], [-760, -560], [-760, -660], [-760, -860], [-760, -960], [-860, -160], [-860, -260], [-860, -360], [-860, -460], [-860, -560], [-860, -660], [-860, -760], [-860, -960], [-960, -160], [-960, -260], [-960, -360], [-960, -460], [-960, -560], [-960, -660], [-960, -760], [-960, -860], [-161, -261], [-161, -361], [-161, -461], [-161, -561], [-161, -661], [-161, -761], [-161, -861], [-161, -961], [-261, -161], [-261, -361], [-261, -461], [-261, -561], [-261, -661], [-261, -761], [-261, -861], [-261, -961], [-361, -161], [-361, -261], [-361, -461], [-361, -561], [-361, -661], [-361, -761], [-361, -861], [-361, -961], [-461, -161], [-461, -261], [-461, -361], [-461, -561], [-461, -661], [-461, -761], [-461, -861], [-461, -961], [-561, -161], [-561, -261], [-561, -361], [-561, -461], [-561, -661], [-561, -761], [-561, -861], [-561, -961], [-661, -161], [-661, -261], [-661, -361], [-661, -461], [-661, -561], [-661, -761], [-661, -861], [-661, -961], [-761, -161], [-761, -261], [-761, -361], [-761, -461], [-761, -561], [-761, -661], [-761, -861], [-761, -961], [-861, -161], [-861, -261], [-861, -361], [-861, -461], [-861, -561], [-861, -661], [-861, -761], [-861, -961], [-961, -161], [-961, -261], [-961, -361], [-961, -461], [-961, -561], [-961, -661], [-961, -761], [-961, -861], [-162, -262], [-162, -362], [-162, -462], [-162, -562], [-162, -662], [-162, -762], [-162, -862], [-162, -962], [-262, -162], [-262, -362], [-262, -462], [-262, -562], [-262, -662], [-262, -762], [-262, -862], [-262, -962], [-362, -162], [-362, -262], [-362, -462], [-362, -562], [-362, -662], [-362, -762], [-362, -862], [-362, -962], [-462, -162], [-462, -262], [-462, -362], [-462, -562], [-462, -662], [-462, -762], [-462, -862], [-462, -962], [-562, -162], [-562, -262], [-562, -362], [-562, -462], [-562, -662], [-562, -762], [-562, -862], [-562, -962], [-662, -162], [-662, -262], [-662, -362], [-662, -462], [-662, -562], [-662, -762], [-662, -862], [-662, -962], [-762, -162], [-762, -262], [-762, -362], [-762, -462], [-762, -562], [-762, -662], [-762, -862], [-762, -962], [-862, -162], [-862, -262], [-862, -362], [-862, -462], [-862, -562], [-862, -662], [-862, -762], [-862, -962], [-962, -162], [-962, -262], [-962, -362], [-962, -462], [-962, -562], [-962, -662], [-962, -762], [-962, -862], [-163, -263], [-163, -363], [-163, -463], [-163, -563], [-163, -663], [-163, -763], [-163, -863], [-163, -963], [-263, -163], [-263, -363], [-263, -463], [-263, -563], [-263, -663], [-263, -763], [-263, -863], [-263, -963], [-363, -163], [-363, -263], [-363, -463], [-363, -563], [-363, -663], [-363, -763], [-363, -863], [-363, -963], [-463, -163], [-463, -263], [-463, -363], [-463, -563], [-463, -663], [-463, -763], [-463, -863], [-463, -963], [-563, -163], [-563, -263], [-563, -363], [-563, -463], [-563, -663], [-563, -763], [-563, -863], [-563, -963], [-663, -163], [-663, -263], [-663, -363], [-663, -463], [-663, -563], [-663, -763], [-663, -863], [-663, -963], [-763, -163], [-763, -263], [-763, -363], [-763, -463], [-763, -563], [-763, -663], [-763, -863], [-763, -963], [-863, -163], [-863, -263], [-863, -363], [-863, -463], [-863, -563], [-863, -663], [-863, -763], [-863, -963], [-963, -163], [-963, -263], [-963, -363], [-963, -463], [-963, -563], [-963, -663], [-963, -763], [-963, -863], [-164, -264], [-164, -364], [-164, -464], [-164, -564], [-164, -664], [-164, -764], [-164, -864], [-164, -964], [-264, -164], [-264, -364], [-264, -464], [-264, -564], [-264, -664], [-264, -764], [-264, -864], [-264, -964], [-364, -164], [-364, -264], [-364, -464], [-364, -564], [-364, -664], [-364, -764], [-364, -864], [-364, -964], [-464, -164], [-464, -264], [-464, -364], [-464, -564], [-464, -664], [-464, -764], [-464, -864], [-464, -964], [-564, -164], [-564, -264], [-564, -364], [-564, -464], [-564, -664], [-564, -764], [-564, -864], [-564, -964], [-664, -164], [-664, -264], [-664, -364], [-664, -464], [-664, -564], [-664, -764], [-664, -864], [-664, -964], [-764, -164], [-764, -264], [-764, -364], [-764, -464], [-764, -564], [-764, -664], [-764, -864], [-764, -964], [-864, -164], [-864, -264], [-864, -364], [-864, -464], [-864, -564], [-864, -664], [-864, -764], [-864, -964], [-964, -164], [-964, -264], [-964, -364], [-964, -464], [-964, -564], [-964, -664], [-964, -764], [-964, -864], [-165, -265], [-165, -365], [-165, -465], [-165, -565], [-165, -665], [-165, -765], [-165, -865], [-165, -965], [-265, -165], [-265, -365], [-265, -465], [-265, -565], [-265, -665], [-265, -765], [-265, -865], [-265, -965], [-365, -165], [-365, -265], [-365, -465], [-365, -565], [-365, -665], [-365, -765], [-365, -865], [-365, -965], [-465, -165], [-465, -265], [-465, -365], [-465, -565], [-465, -665], [-465, -765], [-465, -865], [-465, -965], [-565, -165], [-565, -265], [-565, -365], [-565, -465], [-565, -665], [-565, -765], [-565, -865], [-565, -965], [-665, -165], [-665, -265], [-665, -365], [-665, -465], [-665, -565], [-665, -765], [-665, -865], [-665, -965], [-765, -165], [-765, -265], [-765, -365], [-765, -465], [-765, -565], [-765, -665], [-765, -865], [-765, -965], [-865, -165], [-865, -265], [-865, -365], [-865, -465], [-865, -565], [-865, -665], [-865, -765], [-865, -965], [-965, -165], [-965, -265], [-965, -365], [-965, -465], [-965, -565], [-965, -665], [-965, -765], [-965, -865], [-166, -266], [-166, -366], [-166, -466], [-166, -566], [-166, -666], [-166, -766], [-166, -866], [-166, -966], [-266, -166], [-266, -366], [-266, -466], [-266, -566], [-266, -666], [-266, -766], [-266, -866], [-266, -966], [-366, -166], [-366, -266], [-366, -466], [-366, -566], [-366, -666], [-366, -766], [-366, -866], [-366, -966], [-466, -166], [-466, -266], [-466, -366], [-466, -566], [-466, -666], [-466, -766], [-466, -866], [-466, -966], [-566, -166], [-566, -266], [-566, -366], [-566, -466], [-566, -666], [-566, -766], [-566, -866], [-566, -966], [-666, -166], [-666, -266], [-666, -366], [-666, -466], [-666, -566], [-666, -766], [-666, -866], [-666, -966], [-766, -166], [-766, -266], [-766, -366], [-766, -466], [-766, -566], [-766, -666], [-766, -866], [-766, -966], [-866, -166], [-866, -266], [-866, -366], [-866, -466], [-866, -566], [-866, -666], [-866, -766], [-866, -966], [-966, -166], [-966, -266], [-966, -366], [-966, -466], [-966, -566], [-966, -666], [-966, -766], [-966, -866], [-167, -267], [-167, -367], [-167, -467], [-167, -567], [-167, -667], [-167, -767], [-167, -867], [-167, -967], [-267, -167], [-267, -367], [-267, -467], [-267, -567], [-267, -667], [-267, -767], [-267, -867], [-267, -967], [-367, -167], [-367, -267], [-367, -467], [-367, -567], [-367, -667], [-367, -767], [-367, -867], [-367, -967], [-467, -167], [-467, -267], [-467, -367], [-467, -567], [-467, -667], [-467, -767], [-467, -867], [-467, -967], [-567, -167], [-567, -267], [-567, -367], [-567, -467], [-567, -667], [-567, -767], [-567, -867], [-567, -967], [-667, -167], [-667, -267], [-667, -367], [-667, -467], [-667, -567], [-667, -767], [-667, -867], [-667, -967], [-767, -167], [-767, -267], [-767, -367], [-767, -467], [-767, -567], [-767, -667], [-767, -867], [-767, -967], [-867, -167], [-867, -267], [-867, -367], [-867, -467], [-867, -567], [-867, -667], [-867, -767], [-867, -967], [-967, -167], [-967, -267], [-967, -367], [-967, -467], [-967, -567], [-967, -667], [-967, -767], [-967, -867], [-168, -268], [-168, -368], [-168, -468], [-168, -568], [-168, -668], [-168, -768], [-168, -868], [-168, -968], [-268, -168], [-268, -368], [-268, -468], [-268, -568], [-268, -668], [-268, -768], [-268, -868], [-268, -968], [-368, -168], [-368, -268], [-368, -468], [-368, -568], [-368, -668], [-368, -768], [-368, -868], [-368, -968], [-468, -168], [-468, -268], [-468, -368], [-468, -568], [-468, -668], [-468, -768], [-468, -868], [-468, -968], [-568, -168], [-568, -268], [-568, -368], [-568, -468], [-568, -668], [-568, -768], [-568, -868], [-568, -968], [-668, -168], [-668, -268], [-668, -368], [-668, -468], [-668, -568], [-668, -768], [-668, -868], [-668, -968], [-768, -168], [-768, -268], [-768, -368], [-768, -468], [-768, -568], [-768, -668], [-768, -868], [-768, -968], [-868, -168], [-868, -268], [-868, -368], [-868, -468], [-868, -568], [-868, -668], [-868, -768], [-868, -968], [-968, -168], [-968, -268], [-968, -368], [-968, -468], [-968, -568], [-968, -668], [-968, -768], [-968, -868], [-170, -270], [-170, -370], [-170, -470], [-170, -570], [-170, -670], [-170, -770], [-170, -870], [-170, -970], [-270, -170], [-270, -370], [-270, -470], [-270, -570], [-270, -670], [-270, -770], [-270, -870], [-270, -970], [-370, -170], [-370, -270], [-370, -470], [-370, -570], [-370, -670], [-370, -770], [-370, -870], [-370, -970], [-470, -170], [-470, -270], [-470, -370], [-470, -570], [-470, -670], [-470, -770], [-470, -870], [-470, -970], [-570, -170], [-570, -270], [-570, -370], [-570, -470], [-570, -670], [-570, -770], [-570, -870], [-570, -970], [-670, -170], [-670, -270], [-670, -370], [-670, -470], [-670, -570], [-670, -770], [-670, -870], [-670, -970], [-770, -170], [-770, -270], [-770, -370], [-770, -470], [-770, -570], [-770, -670], [-770, -870], [-770, -970], [-870, -170], [-870, -270], [-870, -370], [-870, -470], [-870, -570], [-870, -670], [-870, -770], [-870, -970], [-970, -170], [-970, -270], [-970, -370], [-970, -470], [-970, -570], [-970, -670], [-970, -770], [-970, -870], [-171, -271], [-171, -371], [-171, -471], [-171, -571], [-171, -671], [-171, -771], [-171, -871], [-171, -971], [-271, -171], [-271, -371], [-271, -471], [-271, -571], [-271, -671], [-271, -771], [-271, -871], [-271, -971], [-371, -171], [-371, -271], [-371, -471], [-371, -571], [-371, -671], [-371, -771], [-371, -871], [-371, -971], [-471, -171], [-471, -271], [-471, -371], [-471, -571], [-471, -671], [-471, -771], [-471, -871], [-471, -971], [-571, -171], [-571, -271], [-571, -371], [-571, -471], [-571, -671], [-571, -771], [-571, -871], [-571, -971], [-671, -171], [-671, -271], [-671, -371], [-671, -471], [-671, -571], [-671, -771], [-671, -871], [-671, -971], [-771, -171], [-771, -271], [-771, -371], [-771, -471], [-771, -571], [-771, -671], [-771, -871], [-771, -971], [-871, -171], [-871, -271], [-871, -371], [-871, -471], [-871, -571], [-871, -671], [-871, -771], [-871, -971], [-971, -171], [-971, -271], [-971, -371], [-971, -471], [-971, -571], [-971, -671], [-971, -771], [-971, -871], [-172, -272], [-172, -372], [-172, -472], [-172, -572], [-172, -672], [-172, -772], [-172, -872], [-172, -972], [-272, -172], [-272, -372], [-272, -472], [-272, -572], [-272, -672], [-272, -772], [-272, -872], [-272, -972], [-372, -172], [-372, -272], [-372, -472], [-372, -572], [-372, -672], [-372, -772], [-372, -872], [-372, -972], [-472, -172], [-472, -272], [-472, -372], [-472, -572], [-472, -672], [-472, -772], [-472, -872], [-472, -972], [-572, -172], [-572, -272], [-572, -372], [-572, -472], [-572, -672], [-572, -772], [-572, -872], [-572, -972], [-672, -172], [-672, -272], [-672, -372], [-672, -472], [-672, -572], [-672, -772], [-672, -872], [-672, -972], [-772, -172], [-772, -272], [-772, -372], [-772, -472], [-772, -572], [-772, -672], [-772, -872], [-772, -972], [-872, -172], [-872, -272], [-872, -372], [-872, -472], [-872, -572], [-872, -672], [-872, -772], [-872, -972], [-972, -172], [-972, -272], [-972, -372], [-972, -472], [-972, -572], [-972, -672], [-972, -772], [-972, -872], [-173, -273], [-173, -373], [-173, -473], [-173, -573], [-173, -673], [-173, -773], [-173, -873], [-173, -973], [-273, -173], [-273, -373], [-273, -473], [-273, -573], [-273, -673], [-273, -773], [-273, -873], [-273, -973], [-373, -173], [-373, -273], [-373, -473], [-373, -573], [-373, -673], [-373, -773], [-373, -873], [-373, -973], [-473, -173], [-473, -273], [-473, -373], [-473, -573], [-473, -673], [-473, -773], [-473, -873], [-473, -973], [-573, -173], [-573, -273], [-573, -373], [-573, -473], [-573, -673], [-573, -773], [-573, -873], [-573, -973], [-673, -173], [-673, -273], [-673, -373], [-673, -473], [-673, -573], [-673, -773], [-673, -873], [-673, -973], [-773, -173], [-773, -273], [-773, -373], [-773, -473], [-773, -573], [-773, -673], [-773, -873], [-773, -973], [-873, -173], [-873, -273], [-873, -373], [-873, -473], [-873, -573], [-873, -673], [-873, -773], [-873, -973], [-973, -173], [-973, -273], [-973, -373], [-973, -473], [-973, -573], [-973, -673], [-973, -773], [-973, -873], [-174, -274], [-174, -374], [-174, -474], [-174, -574], [-174, -674], [-174, -774], [-174, -874], [-174, -974], [-274, -174], [-274, -374], [-274, -474], [-274, -574], [-274, -674], [-274, -774], [-274, -874], [-274, -974], [-374, -174], [-374, -274], [-374, -474], [-374, -574], [-374, -674], [-374, -774], [-374, -874], [-374, -974], [-474, -174], [-474, -274], [-474, -374], [-474, -574], [-474, -674], [-474, -774], [-474, -874], [-474, -974], [-574, -174], [-574, -274], [-574, -374], [-574, -474], [-574, -674], [-574, -774], [-574, -874], [-574, -974], [-674, -174], [-674, -274], [-674, -374], [-674, -474], [-674, -574], [-674, -774], [-674, -874], [-674, -974], [-774, -174], [-774, -274], [-774, -374], [-774, -474], [-774, -574], [-774, -674], [-774, -874], [-774, -974], [-874, -174], [-874, -274], [-874, -374], [-874, -474], [-874, -574], [-874, -674], [-874, -774], [-874, -974], [-974, -174], [-974, -274], [-974, -374], [-974, -474], [-974, -574], [-974, -674], [-974, -774], [-974, -874], [-175, -275], [-175, -375], [-175, -475], [-175, -575], [-175, -675], [-175, -775], [-175, -875], [-175, -975], [-275, -175], [-275, -375], [-275, -475], [-275, -575], [-275, -675], [-275, -775], [-275, -875], [-275, -975], [-375, -175], [-375, -275], [-375, -475], [-375, -575], [-375, -675], [-375, -775], [-375, -875], [-375, -975], [-475, -175], [-475, -275], [-475, -375], [-475, -575], [-475, -675], [-475, -775], [-475, -875], [-475, -975], [-575, -175], [-575, -275], [-575, -375], [-575, -475], [-575, -675], [-575, -775], [-575, -875], [-575, -975], [-675, -175], [-675, -275], [-675, -375], [-675, -475], [-675, -575], [-675, -775], [-675, -875], [-675, -975], [-775, -175], [-775, -275], [-775, -375], [-775, -475], [-775, -575], [-775, -675], [-775, -875], [-775, -975], [-875, -175], [-875, -275], [-875, -375], [-875, -475], [-875, -575], [-875, -675], [-875, -775], [-875, -975], [-975, -175], [-975, -275], [-975, -375], [-975, -475], [-975, -575], [-975, -675], [-975, -775], [-975, -875], [-176, -276], [-176, -376], [-176, -476], [-176, -576], [-176, -676], [-176, -776], [-176, -876], [-176, -976], [-276, -176], [-276, -376], [-276, -476], [-276, -576], [-276, -676], [-276, -776], [-276, -876], [-276, -976], [-376, -176], [-376, -276], [-376, -476], [-376, -576], [-376, -676], [-376, -776], [-376, -876], [-376, -976], [-476, -176], [-476, -276], [-476, -376], [-476, -576], [-476, -676], [-476, -776], [-476, -876], [-476, -976], [-576, -176], [-576, -276], [-576, -376], [-576, -476], [-576, -676], [-576, -776], [-576, -876], [-576, -976], [-676, -176], [-676, -276], [-676, -376], [-676, -476], [-676, -576], [-676, -776], [-676, -876], [-676, -976], [-776, -176], [-776, -276], [-776, -376], [-776, -476], [-776, -576], [-776, -676], [-776, -876], [-776, -976], [-876, -176], [-876, -276], [-876, -376], [-876, -476], [-876, -576], [-876, -676], [-876, -776], [-876, -976], [-976, -176], [-976, -276], [-976, -376], [-976, -476], [-976, -576], [-976, -676], [-976, -776], [-976, -876], [-177, -277], [-177, -377], [-177, -477], [-177, -577], [-177, -677], [-177, -777], [-177, -877], [-177, -977], [-277, -177], [-277, -377], [-277, -477], [-277, -577], [-277, -677], [-277, -777], [-277, -877], [-277, -977], [-377, -177], [-377, -277], [-377, -477], [-377, -577], [-377, -677], [-377, -777], [-377, -877], [-377, -977], [-477, -177], [-477, -277], [-477, -377], [-477, -577], [-477, -677], [-477, -777], [-477, -877], [-477, -977], [-577, -177], [-577, -277], [-577, -377], [-577, -477], [-577, -677], [-577, -777], [-577, -877], [-577, -977], [-677, -177], [-677, -277], [-677, -377], [-677, -477], [-677, -577], [-677, -777], [-677, -877], [-677, -977], [-777, -177], [-777, -277], [-777, -377], [-777, -477], [-777, -577], [-777, -677], [-777, -877], [-777, -977], [-877, -177], [-877, -277], [-877, -377], [-877, -477], [-877, -577], [-877, -677], [-877, -777], [-877, -977], [-977, -177], [-977, -277], [-977, -377], [-977, -477], [-977, -577], [-977, -677], [-977, -777], [-977, -877], [-178, -278], [-178, -378], [-178, -478], [-178, -578], [-178, -678], [-178, -778], [-178, -878], [-178, -978], [-278, -178], [-278, -378], [-278, -478], [-278, -578], [-278, -678], [-278, -778], [-278, -878], [-278, -978], [-378, -178], [-378, -278], [-378, -478], [-378, -578], [-378, -678], [-378, -778], [-378, -878], [-378, -978], [-478, -178], [-478, -278], [-478, -378], [-478, -578], [-478, -678], [-478, -778], [-478, -878], [-478, -978], [-578, -178], [-578, -278], [-578, -378], [-578, -478], [-578, -678], [-578, -778], [-578, -878], [-578, -978], [-678, -178], [-678, -278], [-678, -378], [-678, -478], [-678, -578], [-678, -778], [-678, -878], [-678, -978], [-778, -178], [-778, -278], [-778, -378], [-778, -478], [-778, -578], [-778, -678], [-778, -878], [-778, -978], [-878, -178], [-878, -278], [-878, -378], [-878, -478], [-878, -578], [-878, -678], [-878, -778], [-878, -978], [-978, -178], [-978, -278], [-978, -378], [-978, -478], [-978, -578], [-978, -678], [-978, -778], [-978, -878], [-180, -280], [-180, -380], [-180, -480], [-180, -580], [-180, -680], [-180, -780], [-180, -880], [-180, -980], [-280, -180], [-280, -380], [-280, -480], [-280, -580], [-280, -680], [-280, -780], [-280, -880], [-280, -980], [-380, -180], [-380, -280], [-380, -480], [-380, -580], [-380, -680], [-380, -780], [-380, -880], [-380, -980], [-480, -180], [-480, -280], [-480, -380], [-480, -580], [-480, -680], [-480, -780], [-480, -880], [-480, -980], [-580, -180], [-580, -280], [-580, -380], [-580, -480], [-580, -680], [-580, -780], [-580, -880], [-580, -980], [-680, -180], [-680, -280], [-680, -380], [-680, -480], [-680, -580], [-680, -780], [-680, -880], [-680, -980], [-780, -180], [-780, -280], [-780, -380], [-780, -480], [-780, -580], [-780, -680], [-780, -880], [-780, -980], [-880, -180], [-880, -280], [-880, -380], [-880, -480], [-880, -580], [-880, -680], [-880, -780], [-880, -980], [-980, -180], [-980, -280], [-980, -380], [-980, -480], [-980, -580], [-980, -680], [-980, -780], [-980, -880], [-181, -281], [-181, -381], [-181, -481], [-181, -581], [-181, -681], [-181, -781], [-181, -881], [-181, -981], [-281, -181], [-281, -381], [-281, -481], [-281, -581], [-281, -681], [-281, -781], [-281, -881], [-281, -981], [-381, -181], [-381, -281], [-381, -481], [-381, -581], [-381, -681], [-381, -781], [-381, -881], [-381, -981], [-481, -181], [-481, -281], [-481, -381], [-481, -581], [-481, -681], [-481, -781], [-481, -881], [-481, -981], [-581, -181], [-581, -281], [-581, -381], [-581, -481], [-581, -681], [-581, -781], [-581, -881], [-581, -981], [-681, -181], [-681, -281], [-681, -381], [-681, -481], [-681, -581], [-681, -781], [-681, -881], [-681, -981], [-781, -181], [-781, -281], [-781, -381], [-781, -481], [-781, -581], [-781, -681], [-781, -881], [-781, -981], [-881, -181], [-881, -281], [-881, -381], [-881, -481], [-881, -581], [-881, -681], [-881, -781], [-881, -981], [-981, -181], [-981, -281], [-981, -381], [-981, -481], [-981, -581], [-981, -681], [-981, -781], [-981, -881], [-182, -282], [-182, -382], [-182, -482], [-182, -582], [-182, -682], [-182, -782], [-182, -882], [-182, -982], [-282, -182], [-282, -382], [-282, -482], [-282, -582], [-282, -682], [-282, -782], [-282, -882], [-282, -982], [-382, -182], [-382, -282], [-382, -482], [-382, -582], [-382, -682], [-382, -782], [-382, -882], [-382, -982], [-482, -182], [-482, -282], [-482, -382], [-482, -582], [-482, -682], [-482, -782], [-482, -882], [-482, -982], [-582, -182], [-582, -282], [-582, -382], [-582, -482], [-582, -682], [-582, -782], [-582, -882], [-582, -982], [-682, -182], [-682, -282], [-682, -382], [-682, -482], [-682, -582], [-682, -782], [-682, -882], [-682, -982], [-782, -182], [-782, -282], [-782, -382], [-782, -482], [-782, -582], [-782, -682], [-782, -882], [-782, -982], [-882, -182], [-882, -282], [-882, -382], [-882, -482], [-882, -582], [-882, -682], [-882, -782], [-882, -982], [-982, -182], [-982, -282], [-982, -382], [-982, -482], [-982, -582], [-982, -682], [-982, -782], [-982, -882], [-183, -283], [-183, -383], [-183, -483], [-183, -583], [-183, -683], [-183, -783], [-183, -883], [-183, -983], [-283, -183], [-283, -383], [-283, -483], [-283, -583], [-283, -683], [-283, -783], [-283, -883], [-283, -983], [-383, -183], [-383, -283], [-383, -483], [-383, -583], [-383, -683], [-383, -783], [-383, -883], [-383, -983], [-483, -183], [-483, -283], [-483, -383], [-483, -583], [-483, -683], [-483, -783], [-483, -883], [-483, -983], [-583, -183], [-583, -283], [-583, -383], [-583, -483], [-583, -683], [-583, -783], [-583, -883], [-583, -983], [-683, -183], [-683, -283], [-683, -383], [-683, -483], [-683, -583], [-683, -783], [-683, -883], [-683, -983], [-783, -183], [-783, -283], [-783, -383], [-783, -483], [-783, -583], [-783, -683], [-783, -883], [-783, -983], [-883, -183], [-883, -283], [-883, -383], [-883, -483], [-883, -583], [-883, -683], [-883, -783], [-883, -983], [-983, -183], [-983, -283], [-983, -383], [-983, -483], [-983, -583], [-983, -683], [-983, -783], [-983, -883], [-184, -284], [-184, -384], [-184, -484], [-184, -584], [-184, -684], [-184, -784], [-184, -884], [-184, -984], [-284, -184], [-284, -384], [-284, -484], [-284, -584], [-284, -684], [-284, -784], [-284, -884], [-284, -984], [-384, -184], [-384, -284], [-384, -484], [-384, -584], [-384, -684], [-384, -784], [-384, -884], [-384, -984], [-484, -184], [-484, -284], [-484, -384], [-484, -584], [-484, -684], [-484, -784], [-484, -884], [-484, -984], [-584, -184], [-584, -284], [-584, -384], [-584, -484], [-584, -684], [-584, -784], [-584, -884], [-584, -984], [-684, -184], [-684, -284], [-684, -384], [-684, -484], [-684, -584], [-684, -784], [-684, -884], [-684, -984], [-784, -184], [-784, -284], [-784, -384], [-784, -484], [-784, -584], [-784, -684], [-784, -884], [-784, -984], [-884, -184], [-884, -284], [-884, -384], [-884, -484], [-884, -584], [-884, -684], [-884, -784], [-884, -984], [-984, -184], [-984, -284], [-984, -384], [-984, -484], [-984, -584], [-984, -684], [-984, -784], [-984, -884], [-185, -285], [-185, -385], [-185, -485], [-185, -585], [-185, -685], [-185, -785], [-185, -885], [-185, -985], [-285, -185], [-285, -385], [-285, -485], [-285, -585], [-285, -685], [-285, -785], [-285, -885], [-285, -985], [-385, -185], [-385, -285], [-385, -485], [-385, -585], [-385, -685], [-385, -785], [-385, -885], [-385, -985], [-485, -185], [-485, -285], [-485, -385], [-485, -585], [-485, -685], [-485, -785], [-485, -885], [-485, -985], [-585, -185], [-585, -285], [-585, -385], [-585, -485], [-585, -685], [-585, -785], [-585, -885], [-585, -985], [-685, -185], [-685, -285], [-685, -385], [-685, -485], [-685, -585], [-685, -785], [-685, -885], [-685, -985], [-785, -185], [-785, -285], [-785, -385], [-785, -485], [-785, -585], [-785, -685], [-785, -885], [-785, -985], [-885, -185], [-885, -285], [-885, -385], [-885, -485], [-885, -585], [-885, -685], [-885, -785], [-885, -985], [-985, -185], [-985, -285], [-985, -385], [-985, -485], [-985, -585], [-985, -685], [-985, -785], [-985, -885], [-186, -286], [-186, -386], [-186, -486], [-186, -586], [-186, -686], [-186, -786], [-186, -886], [-186, -986], [-286, -186], [-286, -386], [-286, -486], [-286, -586], [-286, -686], [-286, -786], [-286, -886], [-286, -986], [-386, -186], [-386, -286], [-386, -486], [-386, -586], [-386, -686], [-386, -786], [-386, -886], [-386, -986], [-486, -186], [-486, -286], [-486, -386], [-486, -586], [-486, -686], [-486, -786], [-486, -886], [-486, -986], [-586, -186], [-586, -286], [-586, -386], [-586, -486], [-586, -686], [-586, -786], [-586, -886], [-586, -986], [-686, -186], [-686, -286], [-686, -386], [-686, -486], [-686, -586], [-686, -786], [-686, -886], [-686, -986], [-786, -186], [-786, -286], [-786, -386], [-786, -486], [-786, -586], [-786, -686], [-786, -886], [-786, -986], [-886, -186], [-886, -286], [-886, -386], [-886, -486], [-886, -586], [-886, -686], [-886, -786], [-886, -986], [-986, -186], [-986, -286], [-986, -386], [-986, -486], [-986, -586], [-986, -686], [-986, -786], [-986, -886], [-187, -287], [-187, -387], [-187, -487], [-187, -587], [-187, -687], [-187, -787], [-187, -887], [-187, -987], [-287, -187], [-287, -387], [-287, -487], [-287, -587], [-287, -687], [-287, -787], [-287, -887], [-287, -987], [-387, -187], [-387, -287], [-387, -487], [-387, -587], [-387, -687], [-387, -787], [-387, -887], [-387, -987], [-487, -187], [-487, -287], [-487, -387], [-487, -587], [-487, -687], [-487, -787], [-487, -887], [-487, -987], [-587, -187], [-587, -287], [-587, -387], [-587, -487], [-587, -687], [-587, -787], [-587, -887], [-587, -987], [-687, -187], [-687, -287], [-687, -387], [-687, -487], [-687, -587], [-687, -787], [-687, -887], [-687, -987], [-787, -187], [-787, -287], [-787, -387], [-787, -487], [-787, -587], [-787, -687], [-787, -887], [-787, -987], [-887, -187], [-887, -287], [-887, -387], [-887, -487], [-887, -587], [-887, -687], [-887, -787], [-887, -987], [-987, -187], [-987, -287], [-987, -387], [-987, -487], [-987, -587], [-987, -687], [-987, -787], [-987, -887], [-188, -288], [-188, -388], [-188, -488], [-188, -588], [-188, -688], [-188, -788], [-188, -888], [-188, -988], [-288, -188], [-288, -388], [-288, -488], [-288, -588], [-288, -688], [-288, -788], [-288, -888], [-288, -988], [-388, -188], [-388, -288], [-388, -488], [-388, -588], [-388, -688], [-388, -788], [-388, -888], [-388, -988], [-488, -188], [-488, -288], [-488, -388], [-488, -588], [-488, -688], [-488, -788], [-488, -888], [-488, -988], [-588, -188], [-588, -288], [-588, -388], [-588, -488], [-588, -688], [-588, -788], [-588, -888], [-588, -988], [-688, -188], [-688, -288], [-688, -388], [-688, -488], [-688, -588], [-688, -788], [-688, -888], [-688, -988], [-788, -188], [-788, -288], [-788, -388], [-788, -488], [-788, -588], [-788, -688], [-788, -888], [-788, -988], [-888, -188], [-888, -288], [-888, -388], [-888, -488], [-888, -588], [-888, -688], [-888, -788], [-888, -988], [-988, -188], [-988, -288], [-988, -388], [-988, -488], [-988, -588], [-988, -688], [-988, -788], [-988, -888]]\n"
          ]
        }
      ],
      "source": [
        "def prepare(g):\n",
        "    for c in every_cell_contains_at_most_one_digit():\n",
        "        g.add_clause(c)\n",
        "\n",
        "with Glucose3() as g:\n",
        "    prepare(g)\n",
        "    check_equal(g.solve(), True)\n",
        "    # This states that both 3 and 4 appear at position 6, 7.\n",
        "    g.add_clause([encode_variable(3, 6, 7)])\n",
        "    g.add_clause([encode_variable(4, 6, 7)])\n",
        "    check_equal(g.solve(), False)\n",
        "\n"
      ]
    },
    {
      "cell_type": "markdown",
      "metadata": {
        "deletable": false,
        "editable": false,
        "nbgrader": {
          "grade": false,
          "grade_id": "cell-bf61e1a5f04a86fc",
          "locked": true,
          "schema_version": 3,
          "solution": false
        },
        "id": "-eGJgGokkNC1"
      },
      "source": [
        "### 3. No identical digits in the same row\n",
        "\n",
        "We now need to experss one of the basic rules of Sudoku: a digit can appear in only one cell along a row. \n",
        "Precisely, for all rows $0 \\leq i \\leq 8$, and all digits $1 \\leq d \\leq 9$, we write \n",
        "\n",
        "$$\n",
        "    p_{dij} \\rightarrow \\bar{p}_{dij'}\n",
        "$$\n",
        "\n",
        "for all $0 \\leq j, j' \\leq 8$ with $j \\neq j'$. \n",
        "These implications stipulate that if digit $d$ is at position $j$ in the row, it cannot also be in position $j'$ with $j' \\neq j$. \n",
        "These implications can be translated into clauses with two literals, exactly as we did in point 2 above. "
      ]
    },
    {
      "cell_type": "code",
      "execution_count": 137,
      "metadata": {
        "deletable": false,
        "nbgrader": {
          "grade": false,
          "grade_id": "cell-3661f594537702c3",
          "locked": false,
          "schema_version": 3,
          "solution": true
        },
        "id": "ZfwThS_qkNC1"
      },
      "outputs": [],
      "source": [
        "def no_identical_digits_in_same_row():\n",
        "    \"\"\"Returns a list of clauses, stating that if a digit appears\n",
        "    in a cell, the same digit cannot appear elsewhere in the\n",
        "    same row, column, or 3x3 square.\"\"\"\n",
        "    # YOUR CODE HERE\n",
        "    returnList = []\n",
        "    for i in range(9):\n",
        "        for j in range(9):\n",
        "            for d in range(1, 10):\n",
        "                for jPrime in range(9):\n",
        "                    if jPrime != j: \n",
        "                        currentClause = []\n",
        "                        currentClause.append(-encode_variable(d, i, j))\n",
        "                        currentClause.append(-encode_variable(d, i, jPrime))\n",
        "                        returnList.append(currentClause)\n",
        "    return returnList"
      ]
    },
    {
      "cell_type": "code",
      "execution_count": 138,
      "metadata": {
        "deletable": false,
        "editable": false,
        "nbgrader": {
          "grade": true,
          "grade_id": "cell-2b7a0c6e0260620",
          "locked": true,
          "points": 10,
          "schema_version": 3,
          "solution": false
        },
        "id": "1txerjTvkNC1"
      },
      "outputs": [],
      "source": [
        "def prepare(g):\n",
        "    for c in no_identical_digits_in_same_row():\n",
        "        g.add_clause(c)\n",
        "\n",
        "with Glucose3() as g:\n",
        "    prepare(g)\n",
        "    check_equal(g.solve(), True)\n",
        "    # This states that 3 appears twice in row 5.\n",
        "    g.add_clause([encode_variable(3, 5, 7)])\n",
        "    g.add_clause([encode_variable(3, 5, 8)])\n",
        "    check_equal(g.solve(), False)\n",
        "\n",
        "# But columns are not forbidden.\n",
        "with Glucose3() as g:\n",
        "    prepare(g)\n",
        "    g.add_clause([encode_variable(3, 5, 7)])\n",
        "    g.add_clause([encode_variable(3, 2, 7)])\n",
        "    check_equal(g.solve(), True)\n",
        "\n"
      ]
    },
    {
      "cell_type": "markdown",
      "metadata": {
        "deletable": false,
        "editable": false,
        "nbgrader": {
          "grade": false,
          "grade_id": "cell-13103cd9330f5938",
          "locked": true,
          "schema_version": 3,
          "solution": false
        },
        "id": "WWSQb9jrkNC1"
      },
      "source": [
        "### 4. No identical digits in the same column\n",
        "\n",
        "This is a similar idea to the above, but for columns. "
      ]
    },
    {
      "cell_type": "code",
      "execution_count": 139,
      "metadata": {
        "deletable": false,
        "nbgrader": {
          "grade": false,
          "grade_id": "cell-7d68063ed4ea5cce",
          "locked": false,
          "schema_version": 3,
          "solution": true
        },
        "id": "eb-_5zxTkNC1"
      },
      "outputs": [],
      "source": [
        "def no_identical_digits_in_same_column():\n",
        "    \"\"\"Returns a list of clauses, stating that if a digit appears\n",
        "    in a cell, the same digit cannot appear elsewhere in the\n",
        "    same row, column, or 3x3 square.\"\"\"\n",
        "    # YOUR CODE HERE\n",
        "    returnList = []\n",
        "    for i in range(9):\n",
        "        for j in range(9):\n",
        "            for d in range(1, 10):\n",
        "                for iPrime in range(9):\n",
        "                    if iPrime != i: \n",
        "                        currentClause = []\n",
        "                        currentClause.append(-encode_variable(d, i, j))\n",
        "                        currentClause.append(-encode_variable(d, iPrime, j))\n",
        "                        returnList.append(currentClause)\n",
        "    return returnList"
      ]
    },
    {
      "cell_type": "code",
      "execution_count": 140,
      "metadata": {
        "deletable": false,
        "editable": false,
        "nbgrader": {
          "grade": true,
          "grade_id": "cell-45a5de0b8721a2ce",
          "locked": true,
          "points": 10,
          "schema_version": 3,
          "solution": false
        },
        "id": "vPaHjFhrkNC2"
      },
      "outputs": [],
      "source": [
        "def prepare(g):\n",
        "    for c in no_identical_digits_in_same_column():\n",
        "        g.add_clause(c)\n",
        "\n",
        "with Glucose3() as g:\n",
        "    prepare(g)\n",
        "    check_equal(g.solve(), True)\n",
        "    # This states that 3 appears twice in column 7.\n",
        "    g.add_clause([encode_variable(3, 5, 7)])\n",
        "    g.add_clause([encode_variable(3, 2, 7)])\n",
        "    check_equal(g.solve(), False)\n",
        "\n",
        "# But rows are not forbidden.\n",
        "with Glucose3() as g:\n",
        "    prepare(g)\n",
        "    g.add_clause([encode_variable(3, 5, 7)])\n",
        "    g.add_clause([encode_variable(3, 5, 8)])\n",
        "    check_equal(g.solve(), True)\n",
        "\n"
      ]
    },
    {
      "cell_type": "markdown",
      "metadata": {
        "deletable": false,
        "editable": false,
        "nbgrader": {
          "grade": false,
          "grade_id": "cell-9550d4da141adc11",
          "locked": true,
          "schema_version": 3,
          "solution": false
        },
        "id": "njF2WomCkNC2"
      },
      "source": [
        "### 5. No identical digits in the same 3x3 block. \n",
        "\n",
        "The idea here is to state that if a digit $d$ appears at a position $i,j$ in a 3x3 Sudoku block, it does not appear in any other position $i',j'$ in the same 3x3 block, with $i \\neq i'$ or $j \\neq j'$. "
      ]
    },
    {
      "cell_type": "code",
      "execution_count": 141,
      "metadata": {
        "deletable": false,
        "nbgrader": {
          "grade": false,
          "grade_id": "cell-ee5be92ff3738af3",
          "locked": false,
          "schema_version": 3,
          "solution": true
        },
        "id": "-IuhACLdkNC2"
      },
      "outputs": [],
      "source": [
        "def no_identical_digits_in_same_block():\n",
        "    \"\"\"Returns a list of clauses, stating that if a digit appears\n",
        "    in a cell, the same digit cannot appear elsewhere in the\n",
        "    same row, column, or 3x3 square.\"\"\"\n",
        "    # YOUR CODE HERE\n",
        "    returnList = []\n",
        "    for i in range(9):\n",
        "        for j in range(9):\n",
        "            for d in range(1, 10):\n",
        "                iPrime = 3 * (i//3)\n",
        "                jPrime = 3 * (j//3)\n",
        "                for iCoord in range(iPrime, iPrime+3):\n",
        "                    for jCoord in range(jPrime, jPrime+3):\n",
        "                        if iCoord != i or jCoord != j: \n",
        "                            currentClause = []\n",
        "                            currentClause.append(-encode_variable(d, i, j))\n",
        "                            currentClause.append(-encode_variable(d, iCoord, jCoord))\n",
        "                            returnList.append(currentClause)\n",
        "    \n",
        "    return returnList"
      ]
    },
    {
      "cell_type": "code",
      "execution_count": 142,
      "metadata": {
        "deletable": false,
        "editable": false,
        "nbgrader": {
          "grade": true,
          "grade_id": "cell-fb94c1c4bc94f034",
          "locked": true,
          "points": 10,
          "schema_version": 3,
          "solution": false
        },
        "id": "mP86nTnwkNC2"
      },
      "outputs": [],
      "source": [
        "def prepare(g):\n",
        "    for c in no_identical_digits_in_same_block():\n",
        "        g.add_clause(c)\n",
        "\n",
        "with Glucose3() as g:\n",
        "    prepare(g)\n",
        "    check_equal(g.solve(), True)\n",
        "    # This states that 3 appears twice in top block\n",
        "    g.add_clause([encode_variable(3, 1, 1)])\n",
        "    g.add_clause([encode_variable(3, 1, 2)])\n",
        "    check_equal(g.solve(), False)\n",
        "\n",
        "# One more test.\n",
        "with Glucose3() as g:\n",
        "    prepare(g)\n",
        "    g.add_clause([encode_variable(3, 1, 1)])\n",
        "    g.add_clause([encode_variable(3, 2, 1)])\n",
        "    check_equal(g.solve(), False)\n",
        "\n",
        "# But different blocks are not forbidden.\n",
        "with Glucose3() as g:\n",
        "    prepare(g)\n",
        "    g.add_clause([encode_variable(3, 1, 1)])\n",
        "    g.add_clause([encode_variable(3, 5, 8)])\n",
        "    check_equal(g.solve(), True)\n",
        "\n"
      ]
    },
    {
      "cell_type": "markdown",
      "metadata": {
        "deletable": false,
        "editable": false,
        "nbgrader": {
          "grade": false,
          "grade_id": "cell-2413c1dc3e208024",
          "locked": true,
          "schema_version": 3,
          "solution": false
        },
        "id": "y2G-nTH2kNC2"
      },
      "source": [
        "### Putting it all together: the rules of Sudoku. \n",
        "\n",
        "We put this all together into a function that creates the rules for Sudoku, in SAT notation."
      ]
    },
    {
      "cell_type": "code",
      "execution_count": 212,
      "metadata": {
        "deletable": false,
        "editable": false,
        "nbgrader": {
          "grade": false,
          "grade_id": "cell-e3c70245bb6b5e35",
          "locked": true,
          "schema_version": 3,
          "solution": false
        },
        "id": "JnpC7aHDkNC2"
      },
      "outputs": [],
      "source": [
        "def sudoku_rules():\n",
        "    clauses = []\n",
        "    clauses.extend(every_cell_contains_at_least_one_digit())\n",
        "    clauses.extend(every_cell_contains_at_most_one_digit())\n",
        "    clauses.extend(no_identical_digits_in_same_row())\n",
        "    clauses.extend(no_identical_digits_in_same_column())\n",
        "    clauses.extend(no_identical_digits_in_same_block())\n",
        "    return clauses\n"
      ]
    },
    {
      "cell_type": "markdown",
      "metadata": {
        "deletable": false,
        "editable": false,
        "nbgrader": {
          "grade": false,
          "grade_id": "cell-72dc73e4912c5f44",
          "locked": true,
          "schema_version": 3,
          "solution": false
        },
        "id": "n36cq107kNC2"
      },
      "source": [
        "And if we solve this, we have created a Sudoku problem! "
      ]
    },
    {
      "cell_type": "code",
      "execution_count": 213,
      "metadata": {
        "deletable": false,
        "editable": false,
        "nbgrader": {
          "grade": true,
          "grade_id": "cell-8e37658cb1b6d8c2",
          "locked": true,
          "points": 10,
          "schema_version": 3,
          "solution": false
        },
        "id": "CQ9AAJuFkNC2"
      },
      "outputs": [],
      "source": [
        "with Glucose3() as g:\n",
        "    for c in sudoku_rules():\n",
        "        g.add_clause(c)\n",
        "    check_equal(g.solve(), True)\n",
        "\n"
      ]
    },
    {
      "cell_type": "markdown",
      "metadata": {
        "deletable": false,
        "editable": false,
        "nbgrader": {
          "grade": false,
          "grade_id": "cell-a48d24425ff9ebaa",
          "locked": true,
          "schema_version": 3,
          "solution": false
        },
        "id": "Y1jdyxrhkNC2"
      },
      "source": [
        "If the test above does not pass, comment out some of the lines in the `sudoku_rules` function.  Try to determine which sets of clauses make the Sudoku rules unsolvable. "
      ]
    },
    {
      "cell_type": "markdown",
      "metadata": {
        "deletable": false,
        "editable": false,
        "nbgrader": {
          "grade": false,
          "grade_id": "cell-a58ab448a8c95810",
          "locked": true,
          "schema_version": 3,
          "solution": false
        },
        "id": "1Y9gkgsdkNC3"
      },
      "source": [
        "### Translating the initial state of the board into clauses\n",
        "\n",
        "We now need to translate the intial state of the board into clauses.  This is easy to do: whenever the board contains a (known) digit $d$ in position $i,j$, you generate a clause\n",
        "\n",
        "$$\n",
        "[p_{dij}]\n",
        "$$\n",
        "\n",
        "stating that $d$ is in position $i,j$.  That's all! \n",
        "We let you do implement this via a method `_board_to_SAT` of `SudokuViaSAT`, which returns the list of such unary clauses. "
      ]
    },
    {
      "cell_type": "code",
      "execution_count": 214,
      "metadata": {
        "deletable": false,
        "nbgrader": {
          "grade": false,
          "grade_id": "cell-7f51ce1d097eae09",
          "locked": false,
          "schema_version": 3,
          "solution": true
        },
        "id": "cr-Du8VhkNC3"
      },
      "outputs": [],
      "source": [
        "def _board_to_SAT(self):\n",
        "    \"\"\"Translates the currently known state of the board into a list of SAT\n",
        "    clauses.  Each clause has only one literal, and expresses the fact that a\n",
        "    given digit is in a given position.  The method returns the list of clauses\n",
        "    corresponding to all the initially known Sudoku digits.\"\"\"\n",
        "    # YOUR CODE HERE\n",
        "    literalList = []\n",
        "    for i in range(9):\n",
        "        for j in range(9):\n",
        "            if self.board[i][j] != 0: \n",
        "                tempList = []\n",
        "                num = encode_variable(self.board[i][j], i, j)\n",
        "                tempList.append(num)\n",
        "                literalList.append(tempList)\n",
        "    return literalList\n",
        "\n",
        "\n",
        "SudokuViaSAT._board_to_SAT = _board_to_SAT\n"
      ]
    },
    {
      "cell_type": "markdown",
      "metadata": {
        "deletable": false,
        "editable": false,
        "nbgrader": {
          "grade": false,
          "grade_id": "cell-6383043fb2d55ac3",
          "locked": true,
          "schema_version": 3,
          "solution": false
        },
        "id": "WgzlRo0PkNC3"
      },
      "source": [
        "Let us test this. "
      ]
    },
    {
      "cell_type": "code",
      "execution_count": 215,
      "metadata": {
        "deletable": false,
        "editable": false,
        "nbgrader": {
          "grade": true,
          "grade_id": "cell-71405cb1905e8231",
          "locked": true,
          "points": 10,
          "schema_version": 3,
          "solution": false
        },
        "id": "aZB0cbMlkNC3",
        "colab": {
          "base_uri": "https://localhost:8080/"
        },
        "outputId": "65be0e1b-b961-4c20-e313-bcd78f4f4350"
      },
      "outputs": [
        {
          "output_type": "stream",
          "name": "stdout",
          "text": [
            "+---+---+---+\n",
            "|...|...|.61|\n",
            "|35.|...|...|\n",
            "|4..|.5.|...|\n",
            "+---+---+---+\n",
            "|.2.|...|8..|\n",
            "|...|6.1|...|\n",
            "|...|7..|...|\n",
            "+---+---+---+\n",
            "|...|.8.|2..|\n",
            "|6..|4..|...|\n",
            "|..7|...|.1.|\n",
            "+---+---+---+\n",
            "[607]\n",
            "[108]\n",
            "[310]\n",
            "[511]\n",
            "[420]\n",
            "[524]\n",
            "[231]\n",
            "[836]\n",
            "[643]\n",
            "[145]\n",
            "[753]\n",
            "[864]\n",
            "[266]\n",
            "[670]\n",
            "[473]\n",
            "[782]\n",
            "[187]\n"
          ]
        }
      ],
      "source": [
        "problem = \"000000061350000000400050000020000800000601000000700000000080200600400000007000010\"\n",
        "sd = SudokuViaSAT(problem)\n",
        "sd.show()\n",
        "clauses = sd._board_to_SAT()\n",
        "check_equal(len(clauses), 17)\n",
        "check_equal([310] in clauses, True)\n",
        "check_equal([511] in clauses, True)\n",
        "check_equal([224] in clauses, False)\n",
        "\n",
        "# This should print the elements of the board.\n",
        "for c in sd._board_to_SAT():\n",
        "    print(c)\n",
        "\n"
      ]
    },
    {
      "cell_type": "markdown",
      "metadata": {
        "deletable": false,
        "editable": false,
        "nbgrader": {
          "grade": false,
          "grade_id": "cell-5fa2c34e6bdb77a5",
          "locked": true,
          "schema_version": 3,
          "solution": false
        },
        "id": "iXllUoeYkNC3"
      },
      "source": [
        "## Translating Sudoku to SAT\n",
        "\n",
        "We now write a `_to_SAT` method for `SudokuViaSAT`, that translates a Sudoku problem into a list of SAT clauses, and returns the list of clauses.  The list contains: \n",
        "\n",
        "* all the clauses returned by the `sudoku_rules` function above, \n",
        "* all the clauses that represent the initial state of the board, returned by the `_board_to_SAT` method.  \n"
      ]
    },
    {
      "cell_type": "code",
      "execution_count": 216,
      "metadata": {
        "deletable": false,
        "editable": false,
        "nbgrader": {
          "grade": false,
          "grade_id": "cell-26255ba183078ac6",
          "locked": true,
          "schema_version": 3,
          "solution": false
        },
        "id": "IjCLqC59kNC3"
      },
      "outputs": [],
      "source": [
        "def _to_SAT(self):\n",
        "    return list(sudoku_rules()) + list(self._board_to_SAT())\n",
        "\n",
        "SudokuViaSAT._to_SAT = _to_SAT\n"
      ]
    },
    {
      "cell_type": "markdown",
      "metadata": {
        "deletable": false,
        "editable": false,
        "nbgrader": {
          "grade": false,
          "grade_id": "cell-725ab817a51ee844",
          "locked": true,
          "schema_version": 3,
          "solution": false
        },
        "id": "bW7sXkrrkNC3"
      },
      "source": [
        "Let's try if we can solve an instance of Sudoku via SAT."
      ]
    },
    {
      "cell_type": "code",
      "execution_count": 217,
      "metadata": {
        "deletable": false,
        "editable": false,
        "nbgrader": {
          "grade": true,
          "grade_id": "cell-58993fa9efe00553",
          "locked": true,
          "points": 10,
          "schema_version": 3,
          "solution": false
        },
        "id": "lkFkncb3kNC3"
      },
      "outputs": [],
      "source": [
        "problem = \"000000061350000000400050000020000800000601000000700000000080200600400000007000010\"\n",
        "sd = SudokuViaSAT(problem)\n",
        "with Glucose3() as g:\n",
        "    for c in sd._to_SAT():\n",
        "        g.add_clause(c)\n",
        "    check_equal(g.solve(), True)\n",
        "\n",
        "problem = \"000000061350000000404050000020000800000601000000700000000080200600400000007000010\"\n",
        "sd = SudokuViaSAT(problem)\n",
        "with Glucose3() as g:\n",
        "    for c in sd._to_SAT():\n",
        "        for j in c:\n",
        "            g.add_clause(c)\n",
        "    check_equal(g.solve(), False)\n",
        "\n"
      ]
    },
    {
      "cell_type": "markdown",
      "metadata": {
        "deletable": false,
        "editable": false,
        "nbgrader": {
          "grade": false,
          "grade_id": "cell-fddb8df216f103f2",
          "locked": true,
          "schema_version": 3,
          "solution": false
        },
        "id": "3O6TOiIekNC4"
      },
      "source": [
        "Indeed it works! "
      ]
    },
    {
      "cell_type": "markdown",
      "metadata": {
        "deletable": false,
        "editable": false,
        "nbgrader": {
          "grade": false,
          "grade_id": "cell-b4114d2bfa61ab6",
          "locked": true,
          "schema_version": 3,
          "solution": false
        },
        "id": "rvTksvt6kNC4"
      },
      "source": [
        "## Writing a `solve` method for Sudoku"
      ]
    },
    {
      "cell_type": "markdown",
      "metadata": {
        "deletable": false,
        "editable": false,
        "nbgrader": {
          "grade": false,
          "grade_id": "cell-9d92f675f3e7a3e9",
          "locked": true,
          "schema_version": 3,
          "solution": false
        },
        "id": "QHLEQGODkNC4"
      },
      "source": [
        "It is time to put everything together in a `solve` method for `SudokuViaSAT`.  The method works as follows.  It takes as input one of the SAT solver classes, such as `Glucose3`, `Glucose4`, or `Minisat22`.  Then: \n",
        "\n",
        "* It uses the method `_to_SAT` to create the clauses for a SAT instance encoding the Sudoku problem. \n",
        "* It adds those clauses to the SAT solver. \n",
        "* It solves the SAT problem. \n",
        "* If the problem has a solution, it uses the solution of the SAT problem to complete the cell in the Sudoku board. \n",
        "\n",
        "For the last step, we can check that the problem has a solution via `g.solve()`, as in the test cases above. \n",
        "If the problem has a solution, `g.get_model()` gives us a truth assignment satisfying the SAT problem. \n",
        "Let us take a look at it. "
      ]
    },
    {
      "cell_type": "code",
      "execution_count": 218,
      "metadata": {
        "deletable": false,
        "editable": false,
        "nbgrader": {
          "grade": false,
          "grade_id": "cell-aa019e2753b1a70e",
          "locked": true,
          "schema_version": 3,
          "solution": false
        },
        "id": "zNbn7EutkNC4",
        "colab": {
          "base_uri": "https://localhost:8080/"
        },
        "outputId": "417c1adb-cad5-4209-b15d-e46d8d03b7af"
      },
      "outputs": [
        {
          "output_type": "stream",
          "name": "stdout",
          "text": [
            "[-1, -2, -3, -4, -5, -6, -7, -8, -9, -10, -11, -12, -13, -14, -15, -16, -17, -18, -19, -20, -21, -22, -23, -24, -25, -26, -27, -28, -29, -30, -31, -32, -33, -34, -35, -36, -37, -38, -39, -40, -41, -42, -43, -44, -45, -46, -47, -48, -49, -50, -51, -52, -53, -54, -55, -56, -57, -58, -59, -60, -61, -62, -63, -64, -65, -66, -67, -68, -69, -70, -71, -72, -73, -74, -75, -76, -77, -78, -79, -80, -81, -82, -83, -84, -85, -86, -87, -88, -89, -90, -91, -92, -93, -94, -95, -96, -97, -98, -99, -100, -101, -102, -103, -104, -105, -106, -107, 108, -109, -110, -111, 112, -113, -114, -115, -116, -117, -118, -119, -120, -121, -122, 123, -124, -125, -126, -127, -128, -129, 130, -131, -132, -133, -134, -135, -136, -137, -138, -139, -140, -141, -142, -143, -144, 145, -146, -147, -148, -149, -150, -151, -152, -153, -154, -155, 156, -157, -158, -159, -160, 161, -162, -163, -164, -165, -166, -167, -168, -169, -170, -171, -172, -173, 174, -175, -176, -177, -178, -179, -180, -181, -182, -183, -184, -185, -186, 187, -188, -189, -190, -191, -192, -193, -194, -195, -196, -197, -198, -199, 200, -201, -202, -203, -204, -205, -206, -207, -208, -209, -210, -211, -212, -213, -214, -215, -216, 217, -218, -219, -220, -221, -222, -223, -224, 225, -226, -227, -228, -229, -230, 231, -232, -233, -234, -235, -236, -237, -238, -239, -240, -241, -242, -243, 244, -245, -246, -247, -248, -249, -250, -251, -252, -253, -254, -255, -256, -257, 258, -259, -260, -261, -262, -263, -264, -265, 266, -267, -268, -269, -270, -271, 272, -273, -274, -275, -276, -277, -278, -279, -280, -281, -282, 283, -284, -285, -286, -287, -288, -289, -290, -291, -292, -293, -294, -295, -296, -297, -298, -299, -300, -301, -302, 303, -304, -305, -306, -307, -308, -309, 310, -311, -312, -313, -314, -315, -316, -317, -318, -319, -320, -321, -322, -323, -324, -325, -326, -327, 328, -329, -330, -331, -332, -333, -334, 335, -336, -337, -338, -339, -340, 341, -342, -343, -344, -345, -346, -347, -348, -349, -350, -351, -352, -353, -354, -355, -356, 357, -358, -359, -360, -361, 362, -363, -364, -365, -366, -367, -368, -369, -370, -371, -372, -373, -374, -375, 376, -377, -378, -379, -380, -381, -382, -383, 384, -385, -386, -387, -388, -389, -390, -391, -392, -393, -394, -395, -396, -397, -398, -399, -400, -401, -402, -403, -404, 405, -406, -407, -408, -409, -410, -411, -412, -413, -414, -415, -416, -417, 418, -419, 420, -421, -422, -423, -424, -425, -426, -427, -428, -429, -430, -431, 432, -433, -434, -435, -436, -437, -438, -439, -440, -441, -442, -443, -444, -445, 446, -447, -448, -449, -450, -451, -452, -453, 454, -455, -456, -457, -458, -459, -460, -461, -462, -463, -464, -465, -466, 467, -468, -469, -470, -471, -472, 473, -474, -475, -476, -477, -478, -479, -480, 481, -482, -483, -484, -485, -486, -487, -488, -489, -490, -491, -492, -493, -494, -495, -496, -497, -498, -499, -500, -501, -502, -503, -504, -505, 506, -507, -508, -509, -510, 511, -512, -513, -514, -515, -516, -517, -518, -519, -520, -521, -522, -523, 524, -525, -526, -527, -528, -529, -530, -531, -532, 533, -534, -535, -536, -537, -538, -539, -540, -541, -542, -543, -544, -545, -546, -547, 548, -549, -550, -551, 552, -553, -554, -555, -556, -557, -558, -559, 560, -561, -562, -563, -564, -565, -566, -567, -568, -569, -570, -571, -572, -573, -574, -575, -576, 577, -578, -579, -580, -581, -582, -583, -584, 585, -586, -587, -588, -589, -590, -591, -592, -593, -594, -595, -596, -597, -598, -599, -600, -601, -602, -603, -604, -605, -606, 607, -608, -609, -610, -611, -612, -613, 614, -615, -616, -617, -618, -619, -620, -621, 622, -623, -624, -625, -626, -627, -628, -629, -630, -631, -632, -633, -634, -635, -636, -637, 638, -639, -640, -641, -642, 643, -644, -645, -646, -647, -648, -649, -650, 651, -652, -653, -654, -655, -656, -657, -658, -659, -660, -661, -662, -663, -664, 665, -666, -667, -668, -669, 670, -671, -672, -673, -674, -675, -676, -677, -678, -679, -680, -681, -682, -683, -684, -685, 686, -687, -688, -689, -690, -691, -692, -693, -694, -695, -696, -697, -698, -699, -700, -701, -702, -703, 704, -705, -706, -707, -708, -709, -710, -711, -712, -713, -714, -715, 716, -717, -718, -719, -720, 721, -722, -723, -724, -725, -726, -727, -728, -729, -730, -731, -732, -733, -734, -735, -736, 737, -738, -739, 740, -741, -742, -743, -744, -745, -746, -747, -748, -749, -750, -751, -752, 753, -754, -755, -756, -757, -758, -759, -760, -761, -762, -763, -764, -765, -766, -767, 768, -769, -770, -771, -772, -773, -774, 775, -776, -777, -778, -779, -780, -781, 782, -783, -784, -785, -786, -787, -788, -789, -790, -791, -792, -793, -794, -795, -796, -797, -798, -799, -800, 801, -802, -803, -804, -805, -806, -807, -808, -809, -810, -811, -812, 813, -814, -815, -816, -817, -818, -819, -820, -821, -822, -823, -824, -825, -826, 827, -828, -829, -830, -831, -832, -833, -834, -835, 836, -837, -838, -839, -840, -841, 842, -843, -844, -845, -846, -847, -848, -849, -850, -851, -852, -853, -854, 855, -856, -857, -858, -859, -860, -861, -862, -863, 864, -865, -866, -867, -868, -869, -870, -871, -872, -873, -874, -875, -876, -877, 878, -879, 880, -881, -882, -883, -884, -885, -886, -887, -888, -889, -890, -891, -892, -893, -894, -895, -896, -897, -898, -899, -900, -901, 902, -903, -904, -905, -906, -907, -908, -909, -910, -911, -912, -913, -914, 915, -916, -917, -918, -919, -920, -921, -922, -923, -924, -925, 926, -927, -928, -929, -930, -931, -932, -933, 934, -935, -936, -937, -938, -939, -940, -941, -942, -943, -944, -945, -946, 947, -948, -949, 950, -951, -952, -953, -954, -955, -956, -957, -958, -959, -960, -961, -962, 963, -964, -965, -966, -967, -968, -969, -970, 971, -972, -973, -974, -975, -976, -977, -978, -979, -980, -981, -982, -983, -984, -985, -986, -987, 988]\n"
          ]
        }
      ],
      "source": [
        "problem = \"000000061350000000400050000020000800000601000000700000000080200600400000007000010\"\n",
        "sd = SudokuViaSAT(problem)\n",
        "with Glucose3() as g:\n",
        "    for c in sd._to_SAT():\n",
        "        g.add_clause(c)\n",
        "    check_equal(g.solve(), True)\n",
        "    # Let's get a truth assignment.\n",
        "    ps = g.get_model()\n",
        "    print(ps)\n"
      ]
    },
    {
      "cell_type": "markdown",
      "metadata": {
        "deletable": false,
        "editable": false,
        "nbgrader": {
          "grade": false,
          "grade_id": "cell-fdfc49aca721c3c1",
          "locked": true,
          "schema_version": 3,
          "solution": false
        },
        "id": "CCSKOPmmkNC4"
      },
      "source": [
        "This truth assignment contains: \n",
        "\n",
        "* Garbage.  For some odd reason, the SAT solvers want to give us truth assignments also to variables that are not part of any clause, such as 1, 2, 3, ... . \n",
        "* Negative literals, such as -456.  We really don't care to know that 4 cannot appear in cell 5,6. \n",
        "* Positive literals that can be interpreted via `decode_variable` (defined at the beginning).  These we use to completethe board.  For instance, if we get a literal 345 in the model, this means that 3 appears in cell 4, 5, and we can set `self.board[4, 5] = 3`. \n",
        "\n"
      ]
    },
    {
      "cell_type": "markdown",
      "metadata": {
        "deletable": false,
        "editable": false,
        "nbgrader": {
          "grade": false,
          "grade_id": "cell-30d3c4a37fd2ab9c",
          "locked": true,
          "schema_version": 3,
          "solution": false
        },
        "id": "yli8i7cMkNC4"
      },
      "source": [
        "Let's take a look at the positive, interpretable literals: "
      ]
    },
    {
      "cell_type": "code",
      "execution_count": 219,
      "metadata": {
        "deletable": false,
        "editable": false,
        "nbgrader": {
          "grade": false,
          "grade_id": "cell-95e4e787b4fc681c",
          "locked": true,
          "schema_version": 3,
          "solution": false
        },
        "id": "-ReinrZDkNC4",
        "colab": {
          "base_uri": "https://localhost:8080/"
        },
        "outputId": "b790bab9-0cba-441f-d2df-d3495ee4fae3"
      },
      "outputs": [
        {
          "output_type": "stream",
          "name": "stdout",
          "text": [
            "(1, 0, 8)\n",
            "(1, 1, 2)\n",
            "(1, 2, 3)\n",
            "(1, 3, 0)\n",
            "(1, 4, 5)\n",
            "(1, 5, 6)\n",
            "(1, 6, 1)\n",
            "(1, 7, 4)\n",
            "(1, 8, 7)\n",
            "(2, 0, 0)\n",
            "(2, 1, 7)\n",
            "(2, 2, 5)\n",
            "(2, 3, 1)\n",
            "(2, 4, 4)\n",
            "(2, 5, 8)\n",
            "(2, 6, 6)\n",
            "(2, 7, 2)\n",
            "(2, 8, 3)\n",
            "(3, 0, 3)\n",
            "(3, 1, 0)\n",
            "(3, 2, 8)\n",
            "(3, 3, 5)\n",
            "(3, 4, 1)\n",
            "(3, 5, 7)\n",
            "(3, 6, 2)\n",
            "(3, 7, 6)\n",
            "(3, 8, 4)\n",
            "(4, 0, 5)\n",
            "(4, 1, 8)\n",
            "(4, 2, 0)\n",
            "(4, 3, 2)\n",
            "(4, 4, 6)\n",
            "(4, 5, 4)\n",
            "(4, 6, 7)\n",
            "(4, 7, 3)\n",
            "(4, 8, 1)\n",
            "(5, 0, 6)\n",
            "(5, 1, 1)\n",
            "(5, 2, 4)\n",
            "(5, 3, 3)\n",
            "(5, 4, 8)\n",
            "(5, 5, 2)\n",
            "(5, 6, 0)\n",
            "(5, 7, 7)\n",
            "(5, 8, 5)\n",
            "(6, 0, 7)\n",
            "(6, 1, 4)\n",
            "(6, 2, 2)\n",
            "(6, 3, 8)\n",
            "(6, 4, 3)\n",
            "(6, 5, 1)\n",
            "(6, 6, 5)\n",
            "(6, 7, 0)\n",
            "(6, 8, 6)\n",
            "(7, 0, 4)\n",
            "(7, 1, 6)\n",
            "(7, 2, 1)\n",
            "(7, 3, 7)\n",
            "(7, 4, 0)\n",
            "(7, 5, 3)\n",
            "(7, 6, 8)\n",
            "(7, 7, 5)\n",
            "(7, 8, 2)\n",
            "(8, 0, 1)\n",
            "(8, 1, 3)\n",
            "(8, 2, 7)\n",
            "(8, 3, 6)\n",
            "(8, 4, 2)\n",
            "(8, 5, 5)\n",
            "(8, 6, 4)\n",
            "(8, 7, 8)\n",
            "(8, 8, 0)\n",
            "(9, 0, 2)\n",
            "(9, 1, 5)\n",
            "(9, 2, 6)\n",
            "(9, 3, 4)\n",
            "(9, 4, 7)\n",
            "(9, 5, 0)\n",
            "(9, 6, 3)\n",
            "(9, 7, 1)\n",
            "(9, 8, 8)\n"
          ]
        }
      ],
      "source": [
        "for l in ps:\n",
        "    if l > 0 and decode_variable(l) is not None:\n",
        "        print(decode_variable(l))\n"
      ]
    },
    {
      "cell_type": "markdown",
      "metadata": {
        "deletable": false,
        "editable": false,
        "nbgrader": {
          "grade": false,
          "grade_id": "cell-bc4f190c5dba9f7e",
          "locked": true,
          "schema_version": 3,
          "solution": false
        },
        "id": "dE67M9F0kNC4"
      },
      "source": [
        "Aha! This looks very good! as you can see from the end, there are 9 tuples beginning with 9; these are exactly the location of the digits \"9\" in the Sudoku. \n",
        "Thus, the model of the SAT solver enables us to directly fill the Sudoku board.  We let you implement the `solve` method. "
      ]
    },
    {
      "cell_type": "code",
      "execution_count": 220,
      "metadata": {
        "deletable": false,
        "nbgrader": {
          "grade": false,
          "grade_id": "cell-253b68dd1f1b64c7",
          "locked": false,
          "schema_version": 3,
          "solution": true
        },
        "id": "0995TNyMkNC5"
      },
      "outputs": [],
      "source": [
        "def solve(self, Solver):\n",
        "    \"\"\"Solves the Sudoku instance using the given SAT solver\n",
        "    (e.g., Glucose3, Minisat22).\n",
        "    @param Solver: a solver, such as Glucose3, Minisat22.\n",
        "    @returns: False, if the Sudoku problem is not solvable, and True, if it is.\n",
        "        In the latter case, the solve method also completes self.board,\n",
        "        using the solution of SAT to complete the board.\"\"\"\n",
        "    # YOUR CODE HERE\n",
        "    with Solver() as g:\n",
        "        for c in self._to_SAT():\n",
        "            g.add_clause(c)\n",
        "        if g.solve() == False: return False\n",
        "        else:\n",
        "            for l in g.get_model():\n",
        "                if l > 0 and decode_variable(l) is not None:\n",
        "                    self.board[list(decode_variable(l))[1]][list(decode_variable(l))[2]] = list(decode_variable(l))[0]\n",
        "            return True\n",
        "\n",
        "SudokuViaSAT.solve = solve\n"
      ]
    },
    {
      "cell_type": "markdown",
      "metadata": {
        "deletable": false,
        "editable": false,
        "nbgrader": {
          "grade": false,
          "grade_id": "cell-48d84065eec8a53e",
          "locked": true,
          "schema_version": 3,
          "solution": false
        },
        "id": "NU9lvm3KkNC5"
      },
      "source": [
        "Let's try solving a Sudoku end-to-end. "
      ]
    },
    {
      "cell_type": "code",
      "execution_count": 221,
      "metadata": {
        "deletable": false,
        "editable": false,
        "nbgrader": {
          "grade": false,
          "grade_id": "cell-2e0f815cdd7b25e1",
          "locked": true,
          "schema_version": 3,
          "solution": false
        },
        "id": "QifReUsIkNC5",
        "colab": {
          "base_uri": "https://localhost:8080/"
        },
        "outputId": "849d02b4-562b-4b83-85d6-0b7db093a133"
      },
      "outputs": [
        {
          "output_type": "stream",
          "name": "stdout",
          "text": [
            "+---+---+---+\n",
            "|...|...|.61|\n",
            "|35.|...|...|\n",
            "|4..|.5.|...|\n",
            "+---+---+---+\n",
            "|.2.|...|8..|\n",
            "|...|6.1|...|\n",
            "|...|7..|...|\n",
            "+---+---+---+\n",
            "|...|.8.|2..|\n",
            "|6..|4..|...|\n",
            "|..7|...|.1.|\n",
            "+---+---+---+\n",
            "+---+---+---+\n",
            "|289|374|561|\n",
            "|351|869|724|\n",
            "|476|152|983|\n",
            "+---+---+---+\n",
            "|124|593|876|\n",
            "|738|621|495|\n",
            "|965|748|132|\n",
            "+---+---+---+\n",
            "|513|986|247|\n",
            "|692|417|358|\n",
            "|847|235|619|\n",
            "+---+---+---+\n"
          ]
        }
      ],
      "source": [
        "problem = \"000000061350000000400050000020000800000601000000700000000080200600400000007000010\"\n",
        "sd = SudokuViaSAT(problem)\n",
        "sd.show()\n",
        "sd.solve(Glucose3)\n",
        "sd.show()\n"
      ]
    },
    {
      "cell_type": "markdown",
      "metadata": {
        "deletable": false,
        "editable": false,
        "nbgrader": {
          "grade": false,
          "grade_id": "cell-3c3c59f78b36f34a",
          "locked": true,
          "schema_version": 3,
          "solution": false
        },
        "id": "u_LfTVzQkNC5"
      },
      "source": [
        "This is quite wonderful!  Let us write a check that a solved Sudoku satisfies all rules of Sudoku, and is equal to a given problem in the specified cells. "
      ]
    },
    {
      "cell_type": "code",
      "execution_count": 222,
      "metadata": {
        "deletable": false,
        "editable": false,
        "nbgrader": {
          "grade": false,
          "grade_id": "cell-90060ad1ad571fd8",
          "locked": true,
          "schema_version": 3,
          "solution": false
        },
        "id": "JjOWAVh1kNC5"
      },
      "outputs": [],
      "source": [
        "def verify_solution(Solver, sudoku_string):\n",
        "    sd = SudokuViaSAT(sudoku_string)\n",
        "    sd.solve(Solver)\n",
        "    # Check that we leave alone the original assignment.\n",
        "    for i in range(9):\n",
        "        for j in range(9):\n",
        "            d = int(sudoku_string[i * 9 + j])\n",
        "            if d > 0:\n",
        "                assert sd.board[i, j] == d\n",
        "    # Check that there is a digit in every cell.\n",
        "    for i in range(9):\n",
        "        for j in range(9):\n",
        "            assert 1 <= sd.board[i, j] <= 9\n",
        "    # Check the exclusion rules of Sudoku.\n",
        "    for i in range(9):\n",
        "        for j in range(9):\n",
        "            # No repetition in row.\n",
        "            for ii in range(i + 1, 9):\n",
        "                assert sd.board[i, j] != sd.board[ii, j]\n",
        "            # No repetition in column.\n",
        "            for jj in range(j + 1, 9):\n",
        "                assert sd.board[i, j] != sd.board[i, jj]\n",
        "            # No repetition in block\n",
        "            ci, cj = i // 3, j // 3\n",
        "            for bi in range(2):\n",
        "                ii = ci * 3 + bi\n",
        "                for bj in range(2):\n",
        "                    jj = cj * 3 + bj\n",
        "                    if i != ii or j != jj:\n",
        "                        assert sd.board[i, j] != sd.board[ii, jj]\n"
      ]
    },
    {
      "cell_type": "code",
      "execution_count": 223,
      "metadata": {
        "deletable": false,
        "editable": false,
        "nbgrader": {
          "grade": false,
          "grade_id": "cell-2e4a5ae0d8f0b677",
          "locked": true,
          "schema_version": 3,
          "solution": false
        },
        "id": "tksH7IMVkNC5"
      },
      "outputs": [],
      "source": [
        "verify_solution(Glucose3, problem)\n"
      ]
    },
    {
      "cell_type": "markdown",
      "metadata": {
        "deletable": false,
        "editable": false,
        "nbgrader": {
          "grade": false,
          "grade_id": "cell-2a6020fbc57de9d3",
          "locked": true,
          "schema_version": 3,
          "solution": false
        },
        "id": "_dDApTH5kNC5"
      },
      "source": [
        "Let's check that you get the first 100 puzzles right."
      ]
    },
    {
      "cell_type": "code",
      "execution_count": 224,
      "metadata": {
        "deletable": false,
        "editable": false,
        "nbgrader": {
          "grade": false,
          "grade_id": "cell-21be87a20beeeb39",
          "locked": true,
          "schema_version": 3,
          "solution": false
        },
        "id": "RhvS8Pk4kNC5"
      },
      "outputs": [],
      "source": [
        "import requests\n",
        "\n",
        "r = requests.get(\"https://raw.githubusercontent.com/shadaj/sudoku/master/sudoku17.txt\")\n",
        "puzzles = r.text.split()\n"
      ]
    },
    {
      "cell_type": "code",
      "execution_count": 225,
      "metadata": {
        "deletable": false,
        "editable": false,
        "nbgrader": {
          "grade": true,
          "grade_id": "cell-4bac1365e179adb3",
          "locked": true,
          "points": 10,
          "schema_version": 3,
          "solution": false
        },
        "id": "b8hSGMtKkNC5"
      },
      "outputs": [],
      "source": [
        "for problem in puzzles[:100]:\n",
        "    verify_solution(Glucose3, problem)\n",
        "\n"
      ]
    },
    {
      "cell_type": "markdown",
      "metadata": {
        "deletable": false,
        "editable": false,
        "nbgrader": {
          "grade": false,
          "grade_id": "cell-48b5eb16fb5d5558",
          "locked": true,
          "schema_version": 3,
          "solution": false
        },
        "id": "ggcjdJ14kNC6"
      },
      "source": [
        "## What is faster: custom solution, or solving via SAT? \n",
        "\n",
        "Let us compute the time it takes us to solve a problem with each solver."
      ]
    },
    {
      "cell_type": "code",
      "execution_count": 226,
      "metadata": {
        "deletable": false,
        "editable": false,
        "nbgrader": {
          "grade": false,
          "grade_id": "cell-31a3cfd960520f62",
          "locked": true,
          "schema_version": 3,
          "solution": false
        },
        "id": "BjEv5BbEkNC6"
      },
      "outputs": [],
      "source": [
        "import time\n",
        "\n",
        "def compute_performance(problem_idx):\n",
        "    for Solver in [Glucose3, Glucose4, Minisat22]:\n",
        "        t = time.time()\n",
        "        sd = SudokuViaSAT(puzzles[problem_idx])\n",
        "        sd.solve(Solver)\n",
        "        dt = time.time() - t\n",
        "        print(Solver.__name__, \":\", dt)\n"
      ]
    },
    {
      "cell_type": "markdown",
      "metadata": {
        "deletable": false,
        "editable": false,
        "nbgrader": {
          "grade": false,
          "grade_id": "cell-cc9178b1961dcdaf",
          "locked": true,
          "schema_version": 3,
          "solution": false
        },
        "id": "TLBfy9vLkNC6"
      },
      "source": [
        "Puzzle 6361 was taking 0.013 with our custom solver. "
      ]
    },
    {
      "cell_type": "code",
      "execution_count": 227,
      "metadata": {
        "deletable": false,
        "editable": false,
        "nbgrader": {
          "grade": false,
          "grade_id": "cell-ca136af2f97437d",
          "locked": true,
          "schema_version": 3,
          "solution": false
        },
        "id": "L5MmcKvUkNC6",
        "colab": {
          "base_uri": "https://localhost:8080/"
        },
        "outputId": "d4a95d80-cd0c-4c57-cbca-4354a971943c"
      },
      "outputs": [
        {
          "output_type": "stream",
          "name": "stdout",
          "text": [
            "Glucose3 : 0.08027291297912598\n",
            "Glucose4 : 0.06339240074157715\n",
            "Minisat22 : 0.14259552955627441\n"
          ]
        }
      ],
      "source": [
        "compute_performance(6361)\n"
      ]
    },
    {
      "cell_type": "markdown",
      "metadata": {
        "deletable": false,
        "editable": false,
        "nbgrader": {
          "grade": false,
          "grade_id": "cell-a36003ccda55b3ca",
          "locked": true,
          "schema_version": 3,
          "solution": false
        },
        "id": "9h8rLeEvkNC6"
      },
      "source": [
        "Our custom solver does a little better. Let's try other hard problems.  Using our custom solver, we had: \n",
        "\n",
        "    Idx: 1258 d: 0.7234883308410645\n",
        "    Idx: 5302 d: 1.112680435180664\n",
        "    Idx: 10980 d: 1.6263811588287354\n",
        "    Idx: 25632 d: 1.7625515460968018\n",
        "    Idx: 48287 d: 2.2216758728027344\n",
        "\n",
        "Let us see how we do on these."
      ]
    },
    {
      "cell_type": "code",
      "execution_count": 228,
      "metadata": {
        "deletable": false,
        "editable": false,
        "nbgrader": {
          "grade": false,
          "grade_id": "cell-8cbc9590dc1a6144",
          "locked": true,
          "schema_version": 3,
          "solution": false
        },
        "id": "mf6JL7hKkNC6",
        "colab": {
          "base_uri": "https://localhost:8080/"
        },
        "outputId": "2855e699-8bdd-4db2-9db4-1848150722ef"
      },
      "outputs": [
        {
          "output_type": "stream",
          "name": "stdout",
          "text": [
            "Glucose3 : 0.06538271903991699\n",
            "Glucose4 : 0.0676426887512207\n",
            "Minisat22 : 0.07871103286743164\n",
            "Glucose3 : 0.14246129989624023\n",
            "Glucose4 : 0.0699317455291748\n",
            "Minisat22 : 0.06077837944030762\n",
            "Glucose3 : 0.05927443504333496\n",
            "Glucose4 : 0.1358475685119629\n",
            "Minisat22 : 0.06468844413757324\n",
            "Glucose3 : 0.06149029731750488\n",
            "Glucose4 : 0.06200385093688965\n",
            "Minisat22 : 0.13495993614196777\n",
            "Glucose3 : 0.0728147029876709\n",
            "Glucose4 : 0.06872224807739258\n",
            "Minisat22 : 0.08214926719665527\n"
          ]
        }
      ],
      "source": [
        "compute_performance(1258)\n",
        "compute_performance(5302)\n",
        "compute_performance(10980)\n",
        "compute_performance(25632)\n",
        "compute_performance(48287)\n"
      ]
    },
    {
      "cell_type": "markdown",
      "metadata": {
        "deletable": false,
        "editable": false,
        "nbgrader": {
          "grade": false,
          "grade_id": "cell-ad21a1c63378bc45",
          "locked": true,
          "schema_version": 3,
          "solution": false
        },
        "id": "rzXAD9uakNC6"
      },
      "source": [
        "Ha! This is quite interesting. What our solver found hard, these SAT solvers find easy!  Let's see the worst case of Glucose4 on all the testset: "
      ]
    },
    {
      "cell_type": "code",
      "execution_count": 229,
      "metadata": {
        "deletable": false,
        "editable": false,
        "nbgrader": {
          "grade": false,
          "grade_id": "cell-dce54b8eb8b3ae7b",
          "locked": true,
          "schema_version": 3,
          "solution": false
        },
        "id": "4CMJL55nkNC6"
      },
      "outputs": [],
      "source": [
        "def compute_performance(Solver, num_problems):\n",
        "    max_time = 0\n",
        "    for idx, problem in enumerate(puzzles[:num_problems]):\n",
        "        t = time.time()\n",
        "        sd = SudokuViaSAT(problem)\n",
        "        sd.solve(Solver)\n",
        "        dt = time.time() - t\n",
        "        if dt > max_time:\n",
        "            print(idx, \":\", dt)\n",
        "            max_time = dt\n"
      ]
    },
    {
      "cell_type": "markdown",
      "metadata": {
        "deletable": false,
        "editable": false,
        "nbgrader": {
          "grade": false,
          "grade_id": "cell-1a63b09cf9483115",
          "locked": true,
          "schema_version": 3,
          "solution": false
        },
        "id": "18ZF9aA2kNC6"
      },
      "source": [
        "Let's try the first 1000:"
      ]
    },
    {
      "cell_type": "code",
      "execution_count": null,
      "metadata": {
        "deletable": false,
        "editable": false,
        "nbgrader": {
          "grade": false,
          "grade_id": "cell-1670c4fe1f1f51a",
          "locked": true,
          "schema_version": 3,
          "solution": false
        },
        "id": "sL2QJ60ukNC7",
        "colab": {
          "base_uri": "https://localhost:8080/"
        },
        "outputId": "770cd0db-dbc3-4843-80e3-a420ef79ce6d"
      },
      "outputs": [
        {
          "output_type": "stream",
          "name": "stdout",
          "text": [
            "0 : 0.1397230625152588\n",
            "4 : 0.1431262493133545\n",
            "28 : 0.15983200073242188\n"
          ]
        }
      ],
      "source": [
        "compute_performance(Glucose4, 1000)\n"
      ]
    },
    {
      "cell_type": "markdown",
      "metadata": {
        "deletable": false,
        "editable": false,
        "nbgrader": {
          "grade": false,
          "grade_id": "cell-fc0a1c45625c44ff",
          "locked": true,
          "schema_version": 3,
          "solution": false
        },
        "id": "H8iJRBWwkNC7"
      },
      "source": [
        "If you experimented for a while, you would notice that solving Sudoku via SAT has a worse average-case behavior, but better worst-case behavior, than our custom solver. \n",
        "This is not bad at all for an approach that relies on an off-the-shelf rather than a custom solver. \n",
        "This helps illustrate the practical importance of efficient SAT solvers as tools that can be used to solve a wide range of search problems. "
      ]
    }
  ],
  "metadata": {
    "colab": {
      "collapsed_sections": [],
      "name": "Homework_16_test.ipynb",
      "provenance": []
    },
    "kernelspec": {
      "display_name": "Python 3",
      "language": "python",
      "name": "python3"
    },
    "language_info": {
      "codemirror_mode": {
        "name": "ipython",
        "version": 3
      },
      "file_extension": ".py",
      "mimetype": "text/x-python",
      "name": "python",
      "nbconvert_exporter": "python",
      "pygments_lexer": "ipython3",
      "version": "3.8.10"
    },
    "test_info": {
      "id": "103968b6e58654ea9ce8625796a5b8f12478a71b"
    }
  },
  "nbformat": 4,
  "nbformat_minor": 0
}